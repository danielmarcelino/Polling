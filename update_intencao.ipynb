{
 "cells": [
  {
   "source": [
    "## Atualiza o banco e agregadores\n"
   ],
   "cell_type": "markdown",
   "metadata": {}
  },
  {
   "cell_type": "code",
   "execution_count": 1,
   "metadata": {},
   "outputs": [],
   "source": [
    "import pandas as pd                   #importando a Pandas\n",
    "import numpy as np\n",
    "import sqlite3\n",
    "import watermark\n",
    "import warnings                       #importando a biblioca de avisos                              \n",
    "warnings.filterwarnings('ignore')     #ignorando os warnings"
   ]
  },
  {
   "cell_type": "code",
   "execution_count": 2,
   "metadata": {},
   "outputs": [
    {
     "output_type": "stream",
     "name": "stdout",
     "text": [
      "Last updated: 2021-06-17T12:43:01.279342-03:00\n\nPython implementation: CPython\nPython version       : 3.8.6\nIPython version      : 7.18.1\n\nCompiler    : Clang 12.0.0 (clang-1200.0.32.27)\nOS          : Darwin\nRelease     : 19.6.0\nMachine     : x86_64\nProcessor   : i386\nCPU cores   : 8\nArchitecture: 64bit\n\n"
     ]
    }
   ],
   "source": [
    "%load_ext watermark\n",
    "\n",
    "%watermark"
   ]
  },
  {
   "cell_type": "code",
   "execution_count": 15,
   "metadata": {},
   "outputs": [
    {
     "output_type": "stream",
     "name": "stdout",
     "text": [
      "Dados atualizados com sucesso.\n"
     ]
    }
   ],
   "source": [
    "# Conexão com o banco de dados\n",
    "\n",
    "con = sqlite3.connect('pollingpoint.db')\n",
    "\n",
    "cursor = con.cursor()\n",
    "\n",
    "cursor.execute(\"\"\" \n",
    "UPDATE intencao \n",
    "SET candidato = 'Flavio Dino' \n",
    "WHERE candidato = 'Flávio Dino'; \"\"\")\n",
    "\n",
    "# gravando no bd\n",
    "con.commit()\n",
    "\n",
    "print('Dados atualizados com sucesso.')\n",
    "\n",
    "con.close()"
   ]
  },
  {
   "cell_type": "code",
   "execution_count": 3,
   "metadata": {},
   "outputs": [
    {
     "output_type": "stream",
     "name": "stdout",
     "text": [
      "/Users/marcelino/dmarcelinobr/pollingpoint\n/Users/marcelino/Library/Python/3.8/lib/python/site-packages/ipykernel_launcher.py\n/Users/marcelino/dmarcelinobr/pollingpoint\n"
     ]
    }
   ],
   "source": [
    "from manager_db import *\n",
    "\n",
    "\n",
    "print(os.getcwd())\n",
    "print(sys.argv[0])\n",
    "print(os.path.dirname(os.path.realpath('__file__')))"
   ]
  },
  {
   "cell_type": "code",
   "execution_count": 4,
   "metadata": {},
   "outputs": [
    {
     "output_type": "stream",
     "name": "stdout",
     "text": [
      "Banco: pollingpoint.db\nSQLite version: 3.34.0\nTabelas:\naprovacao\nempresas\nintencao\npollsters\nranking\nsqlite_sequence\n"
     ]
    }
   ],
   "source": [
    "con = IntencaoDb()\n",
    "\n",
    "con.table_list()"
   ]
  },
  {
   "cell_type": "code",
   "execution_count": 5,
   "metadata": {},
   "outputs": [
    {
     "output_type": "stream",
     "name": "stdout",
     "text": [
      "Colunas: ['id', 'data_ini', 'data_fim', 'empresa', 'nome', 'cargo', 'turno', 'partido', 'candidato', 'voto', 'erro', 'ic', 'amostra', 'ufs', 'cidades', 'tipo', 'modo', 'pergunta', 'timestamp']\n"
     ]
    }
   ],
   "source": [
    "con.table_info()"
   ]
  },
  {
   "cell_type": "code",
   "execution_count": 174,
   "metadata": {},
   "outputs": [
    {
     "output_type": "stream",
     "name": "stdout",
     "text": [
      "Schema:\nCREATE TABLE intencao (\n\tid INTEGER UNIQUE,\n\tdata_ini DATE NOT NULL,\n\tdata_fim DATE NOT NULL,\n\tempresa TEXT NOT NULL,\n\tnome TEXT NOT NULL,\n\tcargo TEXT NOT NULL,\n\tturno INTEGER NOT NULL,\n\tpartido TEXT,\n\tcandidato TEXT NOT NULL,\n\tvoto NUMERIC(2,1) NOT NULL,\n\terro NUMERIC(2,1),\n\tic NUMERIC(2,1),\n\tamostra INTEGER,\n\tufs TEXT,\n\tcidades TEXT,\n\ttipo TEXT NOT NULL,\n\tmodo TEXT NOT NULL,\n\tpergunta TEXT,\n\ttimestamp DATETIME NOT NULL DEFAULT (datetime(CURRENT_TIMESTAMP, 'localtime')),\n\tCONSTRAINT pk_intencao PRIMARY KEY(data_fim, empresa, nome, cargo, turno, candidato, tipo),\n    CONSTRAINT fk_intencao FOREIGN KEY(empresa) REFERENCES empresas(nome),\n\tCONSTRAINT fk2_intencao FOREIGN KEY(empresa) REFERENCES ranking(empresa),\n\tCHECK (data_ini LIKE '____-__-__'),\n\tCHECK (data_fim LIKE '____-__-__')\n)\n"
     ]
    }
   ],
   "source": [
    "con.table_schema()"
   ]
  },
  {
   "cell_type": "code",
   "execution_count": 12,
   "metadata": {},
   "outputs": [
    {
     "output_type": "stream",
     "name": "stdout",
     "text": [
      "Total de pesquisas registradas: 299\nTotal de pesquisas da empresa Atlas : 28\n"
     ]
    }
   ],
   "source": [
    "con.contar_pesquisas()\n",
    "\n",
    "con.contar_pesquisas_por_empresa(empresa=\"Atlas\")"
   ]
  },
  {
   "cell_type": "code",
   "execution_count": null,
   "metadata": {},
   "outputs": [],
   "source": []
  },
  {
   "cell_type": "code",
   "execution_count": 177,
   "metadata": {
    "tags": [
     "outputPrepend"
    ]
   },
   "outputs": [
    {
     "output_type": "stream",
     "name": "stdout",
     "text": [
      "otaria em qaul dos candidatos?', '2021-06-16 12:07:14')\n(234, '2021-06-07', '2021-06-09', 'PoderData', 'PoderData/Poder360', 'Presidente', 1, 'PDT', 'Ciro Gomes', 11, 2, 95, 2500, '27', '522', 'Potencial positivo', 'IVR', 'Se a eleição fosse hoje, você votaria em qaul dos candidatos?', '2021-06-16 12:07:14')\n(212, '2021-06-07', '2021-06-09', 'PoderData', 'PoderData/Poder360', 'Presidente', 1, 'DEM', 'Henrique Mandetta', 4, 2, 95, 2500, '27', '522', 'Intenção', 'IVR', 'Se a eleição fosse hoje, você votaria em qaul dos candidatos?', '2021-06-16 11:56:26')\n(208, '2021-06-07', '2021-06-09', 'PoderData', 'PoderData/Poder360', 'Presidente', 1, '(Sem partido)', 'Jair Bolsonaro', 33, 2, 95, 2500, '27', '522', 'Intenção', 'IVR', 'Se a eleição fosse hoje, você votaria em qaul dos candidatos?', '2021-06-16 11:56:26')\n(233, '2021-06-07', '2021-06-09', 'PoderData', 'PoderData/Poder360', 'Presidente', 1, '(Sem partido)', 'Jair Bolsonaro', 50, 2, 95, 2500, '27', '522', 'Potencial negativo', 'IVR', 'Se a eleição fosse hoje, você votaria em qaul dos candidatos?', '2021-06-16 12:07:14')\n(232, '2021-06-07', '2021-06-09', 'PoderData', 'PoderData/Poder360', 'Presidente', 1, '(Sem partido)', 'Jair Bolsonaro', 15, 2, 95, 2500, '27', '522', 'Potencial neutro', 'IVR', 'Se a eleição fosse hoje, você votaria em qaul dos candidatos?', '2021-06-16 12:07:14')\n(231, '2021-06-07', '2021-06-09', 'PoderData', 'PoderData/Poder360', 'Presidente', 1, '(Sem partido)', 'Jair Bolsonaro', 31, 2, 95, 2500, '27', '522', 'Potencial positivo', 'IVR', 'Se a eleição fosse hoje, você votaria em qaul dos candidatos?', '2021-06-16 12:07:14')\n(213, '2021-06-07', '2021-06-09', 'PoderData', 'PoderData/Poder360', 'Presidente', 1, 'NOVO', 'João Amoêdo', 3, 2, 95, 2500, '27', '522', 'Intenção', 'IVR', 'Se a eleição fosse hoje, você votaria em qaul dos candidatos?', '2021-06-16 11:56:26')\n(211, '2021-06-07', '2021-06-09', 'PoderData', 'PoderData/Poder360', 'Presidente', 1, 'PSDB', 'João Doria', 3, 2, 95, 2500, '27', '522', 'Intenção', 'IVR', 'Se a eleição fosse hoje, você votaria em qaul dos candidatos?', '2021-06-16 11:56:26')\n(242, '2021-06-07', '2021-06-09', 'PoderData', 'PoderData/Poder360', 'Presidente', 1, 'PSDB', 'João Doria', 50, 2, 95, 2500, '27', '522', 'Potencial negativo', 'IVR', 'Se a eleição fosse hoje, você votaria em qaul dos candidatos?', '2021-06-16 12:07:14')\n(241, '2021-06-07', '2021-06-09', 'PoderData', 'PoderData/Poder360', 'Presidente', 1, 'PSDB', 'João Doria', 32, 2, 95, 2500, '27', '522', 'Potencial neutro', 'IVR', 'Se a eleição fosse hoje, você votaria em qaul dos candidatos?', '2021-06-16 12:07:14')\n(240, '2021-06-07', '2021-06-09', 'PoderData', 'PoderData/Poder360', 'Presidente', 1, 'PSDB', 'João Doria', 10, 2, 95, 2500, '27', '522', 'Potencial positivo', 'IVR', 'Se a eleição fosse hoje, você votaria em qaul dos candidatos?', '2021-06-16 12:07:14')\n(210, '2021-06-07', '2021-06-09', 'PoderData', 'PoderData/Poder360', 'Presidente', 1, '(Sem partido)', 'Luciano Huck', 4, 2, 95, 2500, '27', '522', 'Intenção', 'IVR', 'Se a eleição fosse hoje, você votaria em qaul dos candidatos?', '2021-06-16 11:56:26')\n(239, '2021-06-07', '2021-06-09', 'PoderData', 'PoderData/Poder360', 'Presidente', 1, '(Sem partido)', 'Luciano Huck', 47, 2, 95, 2500, '27', '522', 'Potencial negativo', 'IVR', 'Se a eleição fosse hoje, você votaria em qaul dos candidatos?', '2021-06-16 12:07:14')\n(238, '2021-06-07', '2021-06-09', 'PoderData', 'PoderData/Poder360', 'Presidente', 1, '(Sem partido)', 'Luciano Huck', 35, 2, 95, 2500, '27', '522', 'Potencial neutro', 'IVR', 'Se a eleição fosse hoje, você votaria em qaul dos candidatos?', '2021-06-16 12:07:14')\n(237, '2021-06-07', '2021-06-09', 'PoderData', 'PoderData/Poder360', 'Presidente', 1, '(Sem partido)', 'Luciano Huck', 11, 2, 95, 2500, '27', '522', 'Potencial positivo', 'IVR', 'Se a eleição fosse hoje, você votaria em qaul dos candidatos?', '2021-06-16 12:07:14')\n(207, '2021-06-07', '2021-06-09', 'PoderData', 'PoderData/Poder360', 'Presidente', 1, 'PT', 'Lula', 31, 2, 95, 2500, '27', '522', 'Intenção', 'IVR', 'Se a eleição fosse hoje, você votaria em qaul dos candidatos?', '2021-06-16 11:56:26')\n(230, '2021-06-07', '2021-06-09', 'PoderData', 'PoderData/Poder360', 'Presidente', 1, 'PT', 'Lula', 48, 2, 95, 2500, '27', '522', 'Potencial negativo', 'IVR', 'Se a eleição fosse hoje, você votaria em qaul dos candidatos?', '2021-06-16 12:07:14')\n(229, '2021-06-07', '2021-06-09', 'PoderData', 'PoderData/Poder360', 'Presidente', 1, 'PT', 'Lula', 18, 2, 95, 2500, '27', '522', 'Potencial neutro', 'IVR', 'Se a eleição fosse hoje, você votaria em qaul dos candidatos?', '2021-06-16 12:07:14')\n(228, '2021-06-07', '2021-06-09', 'PoderData', 'PoderData/Poder360', 'Presidente', 1, 'PT', 'Lula', 31, 2, 95, 2500, '27', '522', 'Potencial positivo', 'IVR', 'Se a eleição fosse hoje, você votaria em qaul dos candidatos?', '2021-06-16 12:07:14')\n(215, '2021-06-07', '2021-06-09', 'PoderData', 'PoderData/Poder360', 'Presidente', 1, None, 'NS/NR', 5, 2, 95, 2500, '27', '522', 'Intenção', 'IVR', 'Se a eleição fosse hoje, você votaria em qaul dos candidatos?', '2021-06-16 11:56:26')\n(219, '2021-06-07', '2021-06-09', 'PoderData', 'PoderData/Poder360', 'Presidente', 2, 'PDT', 'Ciro Gomes', 44, 2, 95, 2500, '27', '522', 'Intenção', 'IVR', 'Se a eleição fosse hoje, você votaria em qaul dos candidatos?', '2021-06-16 11:56:32')\n(225, '2021-06-07', '2021-06-09', 'PoderData', 'PoderData/Poder360', 'Presidente', 2, 'PDT', 'Ciro Gomes', 22, 2, 95, 2500, '27', '522', 'Lula x Ciro', 'IVR', 'Se a eleição fosse hoje, você votaria em qaul dos candidatos?', '2021-06-16 11:56:32')\n(218, '2021-06-07', '2021-06-09', 'PoderData', 'PoderData/Poder360', 'Presidente', 2, '(Sem partido)', 'Jair Bolsonaro', 36, 2, 95, 2500, '27', '522', 'Bolsonaro x Ciro', 'IVR', 'Se a eleição fosse hoje, você votaria em qaul dos candidatos?', '2021-06-16 11:56:32')\n(220, '2021-06-07', '2021-06-09', 'PoderData', 'PoderData/Poder360', 'Presidente', 2, '(Sem partido)', 'Jair Bolsonaro', 39, 2, 95, 2500, '27', '522', 'Bolsonaro x Doria', 'IVR', 'Se a eleição fosse hoje, você votaria em qaul dos candidatos?', '2021-06-16 11:56:32')\n(222, '2021-06-07', '2021-06-09', 'PoderData', 'PoderData/Poder360', 'Presidente', 2, '(Sem partido)', 'Jair Bolsonaro', 35, 2, 95, 2500, '27', '522', 'Bolsonaro x Huck', 'IVR', 'Se a eleição fosse hoje, você votaria em qaul dos candidatos?', '2021-06-16 11:56:32')\n(217, '2021-06-07', '2021-06-09', 'PoderData', 'PoderData/Poder360', 'Presidente', 2, '(Sem partido)', 'Jair Bolsonaro', 37, 2, 95, 2500, '27', '522', 'Bolsonaro x Lula', 'IVR', 'Se a eleição fosse hoje, você votaria em qaul dos candidatos?', '2021-06-16 11:56:32')\n(221, '2021-06-07', '2021-06-09', 'PoderData', 'PoderData/Poder360', 'Presidente', 2, 'PSDB', 'João Doria', 39, 2, 95, 2500, '27', '522', 'Bolsonaro x Doria', 'IVR', 'Se a eleição fosse hoje, você votaria em qaul dos candidatos?', '2021-06-16 11:56:32')\n(223, '2021-06-07', '2021-06-09', 'PoderData', 'PoderData/Poder360', 'Presidente', 2, '(Sem partido)', 'Luciano Huck', 45, 2, 95, 2500, '27', '522', 'Bolsonaro x Huck', 'IVR', 'Se a eleição fosse hoje, você votaria em qaul dos candidatos?', '2021-06-16 11:56:32')\n(227, '2021-06-07', '2021-06-09', 'PoderData', 'PoderData/Poder360', 'Presidente', 2, '(Sem partido)', 'Luciano Huck', 24, 2, 95, 2500, '27', '522', 'Lula x Huck', 'IVR', 'Se a eleição fosse hoje, você votaria em qaul dos candidatos?', '2021-06-16 11:56:32')\n(216, '2021-06-07', '2021-06-09', 'PoderData', 'PoderData/Poder360', 'Presidente', 2, 'PT', 'Lula', 48, 2, 95, 2500, '27', '522', 'Bolsonaro x Lula', 'IVR', 'Se a eleição fosse hoje, você votaria em qaul dos candidatos?', '2021-06-16 11:56:32')\n(224, '2021-06-07', '2021-06-09', 'PoderData', 'PoderData/Poder360', 'Presidente', 2, 'PT', 'Lula', 42, 2, 95, 2500, '27', '522', 'Lula x Ciro', 'IVR', 'Se a eleição fosse hoje, você votaria em qaul dos candidatos?', '2021-06-16 11:56:32')\n(226, '2021-06-07', '2021-06-09', 'PoderData', 'PoderData/Poder360', 'Presidente', 2, 'PT', 'Lula', 45, 2, 95, 2500, '27', '522', 'Lula x Huck', 'IVR', 'Se a eleição fosse hoje, você votaria em qaul dos candidatos?', '2021-06-16 11:56:32')\n(167, '2021-06-07', '2021-06-10', 'Ipespe', 'Ipespe/XP', 'Presidente', 1, 'PDT', 'Ciro Gomes', 3, 3.2, 95, 1000, '24', None, 'Espontânea', 'CATI', 'Em 2022 teremos eleição para presidente do Brasil. Se a eleição fosse hoje, em quem o(a) sr(a) votaria para presidente?', '2021-06-15 11:20:49')\n(179, '2021-06-07', '2021-06-10', 'Ipespe', 'Ipespe/XP', 'Presidente', 1, 'PDT', 'Ciro Gomes', 6, 3.2, 95, 1000, '24', None, 'Intenção', 'CATI', 'Em 2022 teremos eleição para presidente do Brasil. Se a eleição fosse hoje, em quem o(a) sr(a) votaria para presidente?', '2021-06-15 11:21:02')\n(174, '2021-06-07', '2021-06-10', 'Ipespe', 'Ipespe/XP', 'Presidente', 1, 'PT', 'Fernando Haddad', 0, 3.2, 95, 1000, '24', None, 'Espontânea', 'CATI', 'Em 2022 teremos eleição para presidente do Brasil. Se a eleição fosse hoje, em quem o(a) sr(a) votaria para presidente?', '2021-06-15 11:20:49')\n(172, '2021-06-07', '2021-06-10', 'Ipespe', 'Ipespe/XP', 'Presidente', 1, 'PSOL', 'Guilherme Boulos', 1, 3.2, 95, 1000, '24', None, 'Espontânea', 'CATI', 'Em 2022 teremos eleição para presidente do Brasil. Se a eleição fosse hoje, em quem o(a) sr(a) votaria para presidente?', '2021-06-15 11:20:49')\n(183, '2021-06-07', '2021-06-10', 'Ipespe', 'Ipespe/XP', 'Presidente', 1, 'PSOL', 'Guilherme Boulos', 3, 3.2, 95, 1000, '24', None, 'Intenção', 'CATI', 'Em 2022 teremos eleição para presidente do Brasil. Se a eleição fosse hoje, em quem o(a) sr(a) votaria para presidente?', '2021-06-15 11:21:02')\n(173, '2021-06-07', '2021-06-10', 'Ipespe', 'Ipespe/XP', 'Presidente', 1, 'DEM', 'Henrique Mandetta', 0, 3.2, 95, 1000, '24', None, 'Espontânea', 'CATI', 'Em 2022 teremos eleição para presidente do Brasil. Se a eleição fosse hoje, em quem o(a) sr(a) votaria para presidente?', '2021-06-15 11:20:49')\n(184, '2021-06-07', '2021-06-10', 'Ipespe', 'Ipespe/XP', 'Presidente', 1, 'DEM', 'Henrique Mandetta', 3, 3.2, 95, 1000, '24', None, 'Intenção', 'CATI', 'Em 2022 teremos eleição para presidente do Brasil. Se a eleição fosse hoje, em quem o(a) sr(a) votaria para presidente?', '2021-06-15 11:21:02')\n(166, '2021-06-07', '2021-06-10', 'Ipespe', 'Ipespe/XP', 'Presidente', 1, '(Sem partido)', 'Jair Bolsonaro', 24, 3.2, 95, 1000, '24', None, 'Espontânea', 'CATI', 'Em 2022 teremos eleição para presidente do Brasil. Se a eleição fosse hoje, em quem o(a) sr(a) votaria para presidente?', '2021-06-15 11:20:49')\n(178, '2021-06-07', '2021-06-10', 'Ipespe', 'Ipespe/XP', 'Presidente', 1, '(Sem partido)', 'Jair Bolsonaro', 28, 3.2, 95, 1000, '24', None, 'Intenção', 'CATI', 'Em 2022 teremos eleição para presidente do Brasil. Se a eleição fosse hoje, em quem o(a) sr(a) votaria para presidente?', '2021-06-15 11:21:02')\n(170, '2021-06-07', '2021-06-10', 'Ipespe', 'Ipespe/XP', 'Presidente', 1, 'NOVO', 'João Amoêdo', 1, 3.2, 95, 1000, '24', None, 'Espontânea', 'CATI', 'Em 2022 teremos eleição para presidente do Brasil. Se a eleição fosse hoje, em quem o(a) sr(a) votaria para presidente?', '2021-06-15 11:20:49')\n(171, '2021-06-07', '2021-06-10', 'Ipespe', 'Ipespe/XP', 'Presidente', 1, 'PSDB', 'João Doria', 1, 3.2, 95, 1000, '24', None, 'Espontânea', 'CATI', 'Em 2022 teremos eleição para presidente do Brasil. Se a eleição fosse hoje, em quem o(a) sr(a) votaria para presidente?', '2021-06-15 11:20:49')\n(182, '2021-06-07', '2021-06-10', 'Ipespe', 'Ipespe/XP', 'Presidente', 1, 'PSDB', 'João Doria', 3, 3.2, 95, 1000, '24', None, 'Intenção', 'CATI', 'Em 2022 teremos eleição para presidente do Brasil. Se a eleição fosse hoje, em quem o(a) sr(a) votaria para presidente?', '2021-06-15 11:21:02')\n(168, '2021-06-07', '2021-06-10', 'Ipespe', 'Ipespe/XP', 'Presidente', 1, '(Sem partido)', 'Luciano Huck', 1, 3.2, 95, 1000, '24', None, 'Espontânea', 'CATI', 'Em 2022 teremos eleição para presidente do Brasil. Se a eleição fosse hoje, em quem o(a) sr(a) votaria para presidente?', '2021-06-15 11:20:49')\n(180, '2021-06-07', '2021-06-10', 'Ipespe', 'Ipespe/XP', 'Presidente', 1, '(Sem partido)', 'Luciano Huck', 4, 3.2, 95, 1000, '24', None, 'Intenção', 'CATI', 'Em 2022 teremos eleição para presidente do Brasil. Se a eleição fosse hoje, em quem o(a) sr(a) votaria para presidente?', '2021-06-15 11:21:02')\n(165, '2021-06-07', '2021-06-10', 'Ipespe', 'Ipespe/XP', 'Presidente', 1, 'PT', 'Lula', 24, 3.2, 95, 1000, '24', None, 'Espontânea', 'CATI', 'Em 2022 teremos eleição para presidente do Brasil. Se a eleição fosse hoje, em quem o(a) sr(a) votaria para presidente?', '2021-06-15 11:20:49')\n(177, '2021-06-07', '2021-06-10', 'Ipespe', 'Ipespe/XP', 'Presidente', 1, 'PT', 'Lula', 32, 3.2, 95, 1000, '24', None, 'Intenção', 'CATI', 'Em 2022 teremos eleição para presidente do Brasil. Se a eleição fosse hoje, em quem o(a) sr(a) votaria para presidente?', '2021-06-15 11:21:02')\n(169, '2021-06-07', '2021-06-10', 'Ipespe', 'Ipespe/XP', 'Presidente', 1, '(Sem partido)', 'Sérgio Moro', 1, 3.2, 95, 1000, '24', None, 'Espontânea', 'CATI', 'Em 2022 teremos eleição para presidente do Brasil. Se a eleição fosse hoje, em quem o(a) sr(a) votaria para presidente?', '2021-06-15 11:20:49')\n(181, '2021-06-07', '2021-06-10', 'Ipespe', 'Ipespe/XP', 'Presidente', 1, '(Sem partido)', 'Sérgio Moro', 7, 3.2, 95, 1000, '24', None, 'Intenção', 'CATI', 'Em 2022 teremos eleição para presidente do Brasil. Se a eleição fosse hoje, em quem o(a) sr(a) votaria para presidente?', '2021-06-15 11:21:02')\n(200, '2021-06-07', '2021-06-10', 'Ipespe', 'Ipespe/XP', 'Presidente', 2, None, 'Branco/Nulo/NS/NR', 30, 3.2, 95, 1000, '24', None, 'Bolsonaro x Boulos', 'CATI', 'Em 2022 teremos eleição para presidente do Brasil. Se a eleição fosse hoje, em quem o(a) sr(a) votaria para presidente?', '2021-06-15 11:38:20')\n(191, '2021-06-07', '2021-06-10', 'Ipespe', 'Ipespe/XP', 'Presidente', 2, None, 'Branco/Nulo/NS/NR', 22, 3.2, 95, 1000, '24', None, 'Bolsonaro x Ciro', 'CATI', 'Em 2022 teremos eleição para presidente do Brasil. Se a eleição fosse hoje, em quem o(a) sr(a) votaria para presidente?', '2021-06-15 11:38:20')\n(203, '2021-06-07', '2021-06-10', 'Ipespe', 'Ipespe/XP', 'Presidente', 2, None, 'Branco/Nulo/NS/NR', 28, 3.2, 95, 1000, '24', None, 'Bolsonaro x Doria', 'CATI', 'Em 2022 teremos eleição para presidente do Brasil. Se a eleição fosse hoje, em quem o(a) sr(a) votaria para presidente?', '2021-06-15 11:38:20')\n(197, '2021-06-07', '2021-06-10', 'Ipespe', 'Ipespe/XP', 'Presidente', 2, None, 'Branco/Nulo/NS/NR', 30, 3.2, 95, 1000, '24', None, 'Bolsonaro x Huck', 'CATI', 'Em 2022 teremos eleição para presidente do Brasil. Se a eleição fosse hoje, em quem o(a) sr(a) votaria para presidente?', '2021-06-15 11:38:20')\n(188, '2021-06-07', '2021-06-10', 'Ipespe', 'Ipespe/XP', 'Presidente', 2, None, 'Branco/Nulo/NS/NR', 19, 3.2, 95, 1000, '24', None, 'Bolsonaro x Lula', 'CATI', 'Em 2022 teremos eleição para presidente do Brasil. Se a eleição fosse hoje, em quem o(a) sr(a) votaria para presidente?', '2021-06-15 11:38:20')\n(194, '2021-06-07', '2021-06-10', 'Ipespe', 'Ipespe/XP', 'Presidente', 2, None, 'Branco/Nulo/NS/NR', 35, 3.2, 95, 1000, '24', None, 'Bolsonaro x Moro', 'CATI', 'Em 2022 teremos eleição para presidente do Brasil. Se a eleição fosse hoje, em quem o(a) sr(a) votaria para presidente?', '2021-06-15 11:38:20')\n(206, '2021-06-07', '2021-06-10', 'Ipespe', 'Ipespe/XP', 'Presidente', 2, None, 'Branco/Nulo/NS/NR', 22, 3.2, 95, 1000, '24', None, 'Lula x Moro', 'CATI', 'Em 2022 teremos eleição para presidente do Brasil. Se a eleição fosse hoje, em quem o(a) sr(a) votaria para presidente?', '2021-06-15 11:38:20')\n(189, '2021-06-07', '2021-06-10', 'Ipespe', 'Ipespe/XP', 'Presidente', 2, 'PDT', 'Ciro Gomes', 41, 3.2, 95, 1000, '24', None, 'Bolsonaro x Ciro', 'CATI', 'Em 2022 teremos eleição para presidente do Brasil. Se a eleição fosse hoje, em quem o(a) sr(a) votaria para presidente?', '2021-06-15 11:38:20')\n(198, '2021-06-07', '2021-06-10', 'Ipespe', 'Ipespe/XP', 'Presidente', 2, 'PSOL', 'Guilherme Boulos', 30, 3.2, 95, 1000, '24', None, 'Bolsonaro x Boulos', 'CATI', 'Em 2022 teremos eleição para presidente do Brasil. Se a eleição fosse hoje, em quem o(a) sr(a) votaria para presidente?', '2021-06-15 11:38:20')\n(199, '2021-06-07', '2021-06-10', 'Ipespe', 'Ipespe/XP', 'Presidente', 2, '(Sem partido)', 'Jair Bolsonaro', 40, 3.2, 95, 1000, '24', None, 'Bolsonaro x Boulos', 'CATI', 'Em 2022 teremos eleição para presidente do Brasil. Se a eleição fosse hoje, em quem o(a) sr(a) votaria para presidente?', '2021-06-15 11:38:20')\n(190, '2021-06-07', '2021-06-10', 'Ipespe', 'Ipespe/XP', 'Presidente', 2, '(Sem partido)', 'Jair Bolsonaro', 37, 3.2, 95, 1000, '24', None, 'Bolsonaro x Ciro', 'CATI', 'Em 2022 teremos eleição para presidente do Brasil. Se a eleição fosse hoje, em quem o(a) sr(a) votaria para presidente?', '2021-06-15 11:38:20')\n(202, '2021-06-07', '2021-06-10', 'Ipespe', 'Ipespe/XP', 'Presidente', 2, '(Sem partido)', 'Jair Bolsonaro', 39, 3.2, 95, 1000, '24', None, 'Bolsonaro x Doria', 'CATI', 'Em 2022 teremos eleição para presidente do Brasil. Se a eleição fosse hoje, em quem o(a) sr(a) votaria para presidente?', '2021-06-15 11:38:20')\n(196, '2021-06-07', '2021-06-10', 'Ipespe', 'Ipespe/XP', 'Presidente', 2, '(Sem partido)', 'Jair Bolsonaro', 37, 3.2, 95, 1000, '24', None, 'Bolsonaro x Huck', 'CATI', 'Em 2022 teremos eleição para presidente do Brasil. Se a eleição fosse hoje, em quem o(a) sr(a) votaria para presidente?', '2021-06-15 11:38:20')\n(187, '2021-06-07', '2021-06-10', 'Ipespe', 'Ipespe/XP', 'Presidente', 2, '(Sem partido)', 'Jair Bolsonaro', 36, 3.2, 95, 1000, '24', None, 'Bolsonaro x Lula', 'CATI', 'Em 2022 teremos eleição para presidente do Brasil. Se a eleição fosse hoje, em quem o(a) sr(a) votaria para presidente?', '2021-06-15 11:38:20')\n(193, '2021-06-07', '2021-06-10', 'Ipespe', 'Ipespe/XP', 'Presidente', 2, '(Sem partido)', 'Jair Bolsonaro', 32, 3.2, 95, 1000, '24', None, 'Bolsonaro x Moro', 'CATI', 'Em 2022 teremos eleição para presidente do Brasil. Se a eleição fosse hoje, em quem o(a) sr(a) votaria para presidente?', '2021-06-15 11:38:20')\n(201, '2021-06-07', '2021-06-10', 'Ipespe', 'Ipespe/XP', 'Presidente', 2, 'PSDB', 'João Doria', 33, 3.2, 95, 1000, '24', None, 'Bolsonaro x Doria', 'CATI', 'Em 2022 teremos eleição para presidente do Brasil. Se a eleição fosse hoje, em quem o(a) sr(a) votaria para presidente?', '2021-06-15 11:38:20')\n(195, '2021-06-07', '2021-06-10', 'Ipespe', 'Ipespe/XP', 'Presidente', 2, '(Sem partido)', 'Luciano Huck', 34, 3.2, 95, 1000, '24', None, 'Bolsonaro x Huck', 'CATI', 'Em 2022 teremos eleição para presidente do Brasil. Se a eleição fosse hoje, em quem o(a) sr(a) votaria para presidente?', '2021-06-15 11:38:20')\n(186, '2021-06-07', '2021-06-10', 'Ipespe', 'Ipespe/XP', 'Presidente', 2, 'PT', 'Lula', 45, 3.2, 95, 1000, '24', None, 'Bolsonaro x Lula', 'CATI', 'Em 2022 teremos eleição para presidente do Brasil. Se a eleição fosse hoje, em quem o(a) sr(a) votaria para presidente?', '2021-06-15 11:38:20')\n(204, '2021-06-07', '2021-06-10', 'Ipespe', 'Ipespe/XP', 'Presidente', 2, 'PT', 'Lula', 43, 3.2, 95, 1000, '24', None, 'Lula x Moro', 'CATI', 'Em 2022 teremos eleição para presidente do Brasil. Se a eleição fosse hoje, em quem o(a) sr(a) votaria para presidente?', '2021-06-15 11:38:20')\n(192, '2021-06-07', '2021-06-10', 'Ipespe', 'Ipespe/XP', 'Presidente', 2, '(Sem partido)', 'Sérgio Moro', 32, 3.2, 95, 1000, '24', None, 'Bolsonaro x Moro', 'CATI', 'Em 2022 teremos eleição para presidente do Brasil. Se a eleição fosse hoje, em quem o(a) sr(a) votaria para presidente?', '2021-06-15 11:38:20')\n(205, '2021-06-07', '2021-06-10', 'Ipespe', 'Ipespe/XP', 'Presidente', 2, '(Sem partido)', 'Sérgio Moro', 35, 3.2, 95, 1000, '24', None, 'Lula x Moro', 'CATI', 'Em 2022 teremos eleição para presidente do Brasil. Se a eleição fosse hoje, em quem o(a) sr(a) votaria para presidente?', '2021-06-15 11:38:20')\n"
     ]
    }
   ],
   "source": [
    "con.localizar_pesquisa_por_data(data='2021-06-01')"
   ]
  },
  {
   "cell_type": "code",
   "execution_count": 178,
   "metadata": {
    "tags": [
     "outputPrepend"
    ]
   },
   "outputs": [
    {
     "output_type": "stream",
     "name": "stdout",
     "text": [
      "ção para presidente do Brasil. Se a eleição fosse hoje, em qual dos candidatos que vou falar em ordem alfabética você votaria?', '2021-06-11 09:19:00')\n(77, '2021-04-12', '2021-04-14', 'PoderData', 'PoderData/Poder360', 'Presidente', 2, '(Sem partido)', 'Sérgio Moro', 37, 1.8, 95, 3500, '27.0', '512.0', 'Bolsonaro x Moro', 'IVR', 'Em 2022 teremos eleição para presidente do Brasil. Se a eleição fosse hoje, em qual dos candidatos que vou falar em ordem alfabética você votaria?', '2021-06-11 09:19:00')\n(78, '2021-04-12', '2021-04-14', 'PoderData', 'PoderData/Poder360', 'Presidente', 2, '(Sem partido)', 'Jair Bolsonaro', 35, 1.8, 95, 3500, '27.0', '512.0', 'Bolsonaro x Huck', 'IVR', 'Em 2022 teremos eleição para presidente do Brasil. Se a eleição fosse hoje, em qual dos candidatos que vou falar em ordem alfabética você votaria?', '2021-06-11 09:19:00')\n(150, '2021-06-01', '2021-06-04', 'Ranking Brasil', 'Ranking Brasil', 'Presidente', 2, 'PT', 'Lula', 47.07, 2.5, 95, 3000, '25', '163', 'Bolsonaro x Lula', 'CATI', 'Se a eleição fosse hoje, em qual dos candidatos que vou falar você votaria?', '2021-06-15 08:24:07')\n(151, '2021-06-01', '2021-06-04', 'Ranking Brasil', 'Ranking Brasil', 'Presidente', 2, '(Sem partido)', 'Jair Bolsonaro', 35.13, 2.5, 95, 3000, '25', '163', 'Bolsonaro x Lula', 'CATI', 'Se a eleição fosse hoje, em qual dos candidatos que vou falar você votaria?', '2021-06-15 08:24:07')\n(152, '2021-06-01', '2021-06-04', 'Ranking Brasil', 'Ranking Brasil', 'Presidente', 2, None, 'Branco/Nulo/NS/NR', 17.8, 2.5, 95, 3000, '25', '163', 'Bolsonaro x Lula', 'CATI', 'Se a eleição fosse hoje, em qual dos candidatos que vou falar você votaria?', '2021-06-15 08:24:07')\n(186, '2021-06-07', '2021-06-10', 'Ipespe', 'Ipespe/XP', 'Presidente', 2, 'PT', 'Lula', 45, 3.2, 95, 1000, '24', None, 'Bolsonaro x Lula', 'CATI', 'Em 2022 teremos eleição para presidente do Brasil. Se a eleição fosse hoje, em quem o(a) sr(a) votaria para presidente?', '2021-06-15 11:38:20')\n(187, '2021-06-07', '2021-06-10', 'Ipespe', 'Ipespe/XP', 'Presidente', 2, '(Sem partido)', 'Jair Bolsonaro', 36, 3.2, 95, 1000, '24', None, 'Bolsonaro x Lula', 'CATI', 'Em 2022 teremos eleição para presidente do Brasil. Se a eleição fosse hoje, em quem o(a) sr(a) votaria para presidente?', '2021-06-15 11:38:20')\n(188, '2021-06-07', '2021-06-10', 'Ipespe', 'Ipespe/XP', 'Presidente', 2, None, 'Branco/Nulo/NS/NR', 19, 3.2, 95, 1000, '24', None, 'Bolsonaro x Lula', 'CATI', 'Em 2022 teremos eleição para presidente do Brasil. Se a eleição fosse hoje, em quem o(a) sr(a) votaria para presidente?', '2021-06-15 11:38:20')\n(189, '2021-06-07', '2021-06-10', 'Ipespe', 'Ipespe/XP', 'Presidente', 2, 'PDT', 'Ciro Gomes', 41, 3.2, 95, 1000, '24', None, 'Bolsonaro x Ciro', 'CATI', 'Em 2022 teremos eleição para presidente do Brasil. Se a eleição fosse hoje, em quem o(a) sr(a) votaria para presidente?', '2021-06-15 11:38:20')\n(190, '2021-06-07', '2021-06-10', 'Ipespe', 'Ipespe/XP', 'Presidente', 2, '(Sem partido)', 'Jair Bolsonaro', 37, 3.2, 95, 1000, '24', None, 'Bolsonaro x Ciro', 'CATI', 'Em 2022 teremos eleição para presidente do Brasil. Se a eleição fosse hoje, em quem o(a) sr(a) votaria para presidente?', '2021-06-15 11:38:20')\n(191, '2021-06-07', '2021-06-10', 'Ipespe', 'Ipespe/XP', 'Presidente', 2, None, 'Branco/Nulo/NS/NR', 22, 3.2, 95, 1000, '24', None, 'Bolsonaro x Ciro', 'CATI', 'Em 2022 teremos eleição para presidente do Brasil. Se a eleição fosse hoje, em quem o(a) sr(a) votaria para presidente?', '2021-06-15 11:38:20')\n(192, '2021-06-07', '2021-06-10', 'Ipespe', 'Ipespe/XP', 'Presidente', 2, '(Sem partido)', 'Sérgio Moro', 32, 3.2, 95, 1000, '24', None, 'Bolsonaro x Moro', 'CATI', 'Em 2022 teremos eleição para presidente do Brasil. Se a eleição fosse hoje, em quem o(a) sr(a) votaria para presidente?', '2021-06-15 11:38:20')\n(193, '2021-06-07', '2021-06-10', 'Ipespe', 'Ipespe/XP', 'Presidente', 2, '(Sem partido)', 'Jair Bolsonaro', 32, 3.2, 95, 1000, '24', None, 'Bolsonaro x Moro', 'CATI', 'Em 2022 teremos eleição para presidente do Brasil. Se a eleição fosse hoje, em quem o(a) sr(a) votaria para presidente?', '2021-06-15 11:38:20')\n(194, '2021-06-07', '2021-06-10', 'Ipespe', 'Ipespe/XP', 'Presidente', 2, None, 'Branco/Nulo/NS/NR', 35, 3.2, 95, 1000, '24', None, 'Bolsonaro x Moro', 'CATI', 'Em 2022 teremos eleição para presidente do Brasil. Se a eleição fosse hoje, em quem o(a) sr(a) votaria para presidente?', '2021-06-15 11:38:20')\n(195, '2021-06-07', '2021-06-10', 'Ipespe', 'Ipespe/XP', 'Presidente', 2, '(Sem partido)', 'Luciano Huck', 34, 3.2, 95, 1000, '24', None, 'Bolsonaro x Huck', 'CATI', 'Em 2022 teremos eleição para presidente do Brasil. Se a eleição fosse hoje, em quem o(a) sr(a) votaria para presidente?', '2021-06-15 11:38:20')\n(196, '2021-06-07', '2021-06-10', 'Ipespe', 'Ipespe/XP', 'Presidente', 2, '(Sem partido)', 'Jair Bolsonaro', 37, 3.2, 95, 1000, '24', None, 'Bolsonaro x Huck', 'CATI', 'Em 2022 teremos eleição para presidente do Brasil. Se a eleição fosse hoje, em quem o(a) sr(a) votaria para presidente?', '2021-06-15 11:38:20')\n(197, '2021-06-07', '2021-06-10', 'Ipespe', 'Ipespe/XP', 'Presidente', 2, None, 'Branco/Nulo/NS/NR', 30, 3.2, 95, 1000, '24', None, 'Bolsonaro x Huck', 'CATI', 'Em 2022 teremos eleição para presidente do Brasil. Se a eleição fosse hoje, em quem o(a) sr(a) votaria para presidente?', '2021-06-15 11:38:20')\n(198, '2021-06-07', '2021-06-10', 'Ipespe', 'Ipespe/XP', 'Presidente', 2, 'PSOL', 'Guilherme Boulos', 30, 3.2, 95, 1000, '24', None, 'Bolsonaro x Boulos', 'CATI', 'Em 2022 teremos eleição para presidente do Brasil. Se a eleição fosse hoje, em quem o(a) sr(a) votaria para presidente?', '2021-06-15 11:38:20')\n(199, '2021-06-07', '2021-06-10', 'Ipespe', 'Ipespe/XP', 'Presidente', 2, '(Sem partido)', 'Jair Bolsonaro', 40, 3.2, 95, 1000, '24', None, 'Bolsonaro x Boulos', 'CATI', 'Em 2022 teremos eleição para presidente do Brasil. Se a eleição fosse hoje, em quem o(a) sr(a) votaria para presidente?', '2021-06-15 11:38:20')\n(200, '2021-06-07', '2021-06-10', 'Ipespe', 'Ipespe/XP', 'Presidente', 2, None, 'Branco/Nulo/NS/NR', 30, 3.2, 95, 1000, '24', None, 'Bolsonaro x Boulos', 'CATI', 'Em 2022 teremos eleição para presidente do Brasil. Se a eleição fosse hoje, em quem o(a) sr(a) votaria para presidente?', '2021-06-15 11:38:20')\n(201, '2021-06-07', '2021-06-10', 'Ipespe', 'Ipespe/XP', 'Presidente', 2, 'PSDB', 'João Doria', 33, 3.2, 95, 1000, '24', None, 'Bolsonaro x Doria', 'CATI', 'Em 2022 teremos eleição para presidente do Brasil. Se a eleição fosse hoje, em quem o(a) sr(a) votaria para presidente?', '2021-06-15 11:38:20')\n(202, '2021-06-07', '2021-06-10', 'Ipespe', 'Ipespe/XP', 'Presidente', 2, '(Sem partido)', 'Jair Bolsonaro', 39, 3.2, 95, 1000, '24', None, 'Bolsonaro x Doria', 'CATI', 'Em 2022 teremos eleição para presidente do Brasil. Se a eleição fosse hoje, em quem o(a) sr(a) votaria para presidente?', '2021-06-15 11:38:20')\n(203, '2021-06-07', '2021-06-10', 'Ipespe', 'Ipespe/XP', 'Presidente', 2, None, 'Branco/Nulo/NS/NR', 28, 3.2, 95, 1000, '24', None, 'Bolsonaro x Doria', 'CATI', 'Em 2022 teremos eleição para presidente do Brasil. Se a eleição fosse hoje, em quem o(a) sr(a) votaria para presidente?', '2021-06-15 11:38:20')\n(204, '2021-06-07', '2021-06-10', 'Ipespe', 'Ipespe/XP', 'Presidente', 2, 'PT', 'Lula', 43, 3.2, 95, 1000, '24', None, 'Lula x Moro', 'CATI', 'Em 2022 teremos eleição para presidente do Brasil. Se a eleição fosse hoje, em quem o(a) sr(a) votaria para presidente?', '2021-06-15 11:38:20')\n(205, '2021-06-07', '2021-06-10', 'Ipespe', 'Ipespe/XP', 'Presidente', 2, '(Sem partido)', 'Sérgio Moro', 35, 3.2, 95, 1000, '24', None, 'Lula x Moro', 'CATI', 'Em 2022 teremos eleição para presidente do Brasil. Se a eleição fosse hoje, em quem o(a) sr(a) votaria para presidente?', '2021-06-15 11:38:20')\n(206, '2021-06-07', '2021-06-10', 'Ipespe', 'Ipespe/XP', 'Presidente', 2, None, 'Branco/Nulo/NS/NR', 22, 3.2, 95, 1000, '24', None, 'Lula x Moro', 'CATI', 'Em 2022 teremos eleição para presidente do Brasil. Se a eleição fosse hoje, em quem o(a) sr(a) votaria para presidente?', '2021-06-15 11:38:20')\n(216, '2021-06-07', '2021-06-09', 'PoderData', 'PoderData/Poder360', 'Presidente', 2, 'PT', 'Lula', 48, 2, 95, 2500, '27', '522', 'Bolsonaro x Lula', 'IVR', 'Se a eleição fosse hoje, você votaria em qaul dos candidatos?', '2021-06-16 11:56:32')\n(217, '2021-06-07', '2021-06-09', 'PoderData', 'PoderData/Poder360', 'Presidente', 2, '(Sem partido)', 'Jair Bolsonaro', 37, 2, 95, 2500, '27', '522', 'Bolsonaro x Lula', 'IVR', 'Se a eleição fosse hoje, você votaria em qaul dos candidatos?', '2021-06-16 11:56:32')\n(218, '2021-06-07', '2021-06-09', 'PoderData', 'PoderData/Poder360', 'Presidente', 2, '(Sem partido)', 'Jair Bolsonaro', 36, 2, 95, 2500, '27', '522', 'Bolsonaro x Ciro', 'IVR', 'Se a eleição fosse hoje, você votaria em qaul dos candidatos?', '2021-06-16 11:56:32')\n(219, '2021-06-07', '2021-06-09', 'PoderData', 'PoderData/Poder360', 'Presidente', 2, 'PDT', 'Ciro Gomes', 44, 2, 95, 2500, '27', '522', 'Intenção', 'IVR', 'Se a eleição fosse hoje, você votaria em qaul dos candidatos?', '2021-06-16 11:56:32')\n(220, '2021-06-07', '2021-06-09', 'PoderData', 'PoderData/Poder360', 'Presidente', 2, '(Sem partido)', 'Jair Bolsonaro', 39, 2, 95, 2500, '27', '522', 'Bolsonaro x Doria', 'IVR', 'Se a eleição fosse hoje, você votaria em qaul dos candidatos?', '2021-06-16 11:56:32')\n(221, '2021-06-07', '2021-06-09', 'PoderData', 'PoderData/Poder360', 'Presidente', 2, 'PSDB', 'João Doria', 39, 2, 95, 2500, '27', '522', 'Bolsonaro x Doria', 'IVR', 'Se a eleição fosse hoje, você votaria em qaul dos candidatos?', '2021-06-16 11:56:32')\n(222, '2021-06-07', '2021-06-09', 'PoderData', 'PoderData/Poder360', 'Presidente', 2, '(Sem partido)', 'Jair Bolsonaro', 35, 2, 95, 2500, '27', '522', 'Bolsonaro x Huck', 'IVR', 'Se a eleição fosse hoje, você votaria em qaul dos candidatos?', '2021-06-16 11:56:32')\n(223, '2021-06-07', '2021-06-09', 'PoderData', 'PoderData/Poder360', 'Presidente', 2, '(Sem partido)', 'Luciano Huck', 45, 2, 95, 2500, '27', '522', 'Bolsonaro x Huck', 'IVR', 'Se a eleição fosse hoje, você votaria em qaul dos candidatos?', '2021-06-16 11:56:32')\n(224, '2021-06-07', '2021-06-09', 'PoderData', 'PoderData/Poder360', 'Presidente', 2, 'PT', 'Lula', 42, 2, 95, 2500, '27', '522', 'Lula x Ciro', 'IVR', 'Se a eleição fosse hoje, você votaria em qaul dos candidatos?', '2021-06-16 11:56:32')\n(225, '2021-06-07', '2021-06-09', 'PoderData', 'PoderData/Poder360', 'Presidente', 2, 'PDT', 'Ciro Gomes', 22, 2, 95, 2500, '27', '522', 'Lula x Ciro', 'IVR', 'Se a eleição fosse hoje, você votaria em qaul dos candidatos?', '2021-06-16 11:56:32')\n(226, '2021-06-07', '2021-06-09', 'PoderData', 'PoderData/Poder360', 'Presidente', 2, 'PT', 'Lula', 45, 2, 95, 2500, '27', '522', 'Lula x Huck', 'IVR', 'Se a eleição fosse hoje, você votaria em qaul dos candidatos?', '2021-06-16 11:56:32')\n(227, '2021-06-07', '2021-06-09', 'PoderData', 'PoderData/Poder360', 'Presidente', 2, '(Sem partido)', 'Luciano Huck', 24, 2, 95, 2500, '27', '522', 'Lula x Huck', 'IVR', 'Se a eleição fosse hoje, você votaria em qaul dos candidatos?', '2021-06-16 11:56:32')\n(264, '2020-08-24', '2020-08-31', 'IDEIA', 'Exame/IDEIA', 'Presidente', 2, 'PT', 'Lula', 31, 3, 95, 1235, '27', None, 'Bolsonaro x Lula', 'CATI', 'Se a eleição fosse hoje, você votaria em qaul dos candidatos?', '2021-06-16 12:42:30')\n(265, '2020-08-24', '2020-08-31', 'IDEIA', 'Exame/IDEIA', 'Presidente', 2, '(Sem partido)', 'Jair Bolsonaro', 42, 3, 95, 1235, '27', None, 'Bolsonaro x Lula', 'CATI', 'Se a eleição fosse hoje, você votaria em qaul dos candidatos?', '2021-06-16 12:42:30')\n(266, '2020-08-24', '2020-08-31', 'IDEIA', 'Exame/IDEIA', 'Presidente', 2, None, 'Branco/Nulo', 21, 3, 95, 1235, '27', None, 'Bolsonaro x Lula', 'CATI', 'Se a eleição fosse hoje, você votaria em qaul dos candidatos?', '2021-06-16 12:42:30')\n(267, '2020-08-24', '2020-08-31', 'IDEIA', 'Exame/IDEIA', 'Presidente', 2, None, 'NS/NR', 6, 3, 95, 1235, '27', None, 'Bolsonaro x Lula', 'CATI', 'Se a eleição fosse hoje, você votaria em qaul dos candidatos?', '2021-06-16 12:42:30')\n(268, '2020-08-24', '2020-08-31', 'IDEIA', 'Exame/IDEIA', 'Presidente', 2, '(Sem partido)', 'Sérgio Moro', 31, 3, 95, 1235, '27', None, 'Bolsonaro x Moro', 'CATI', 'Se a eleição fosse hoje, você votaria em qaul dos candidatos?', '2021-06-16 12:42:30')\n(269, '2020-08-24', '2020-08-31', 'IDEIA', 'Exame/IDEIA', 'Presidente', 2, '(Sem partido)', 'Jair Bolsonaro', 38, 3, 95, 1235, '27', None, 'Bolsonaro x Moro', 'CATI', 'Se a eleição fosse hoje, você votaria em qaul dos candidatos?', '2021-06-16 12:42:30')\n(270, '2020-08-24', '2020-08-31', 'IDEIA', 'Exame/IDEIA', 'Presidente', 2, None, 'Branco/Nulo', 23, 3, 95, 1235, '27', None, 'Bolsonaro x Moro', 'CATI', 'Se a eleição fosse hoje, você votaria em qaul dos candidatos?', '2021-06-16 12:42:30')\n(271, '2020-08-24', '2020-08-31', 'IDEIA', 'Exame/IDEIA', 'Presidente', 2, None, 'NS/NR', 8, 3, 95, 1235, '27', None, 'Bolsonaro x Moro', 'CATI', 'Se a eleição fosse hoje, você votaria em qaul dos candidatos?', '2021-06-16 12:42:30')\n(275, '2021-03-08', '2021-03-10', 'Atlas', 'Atlas', 'Presidente', 2, 'PT', 'Fernando Haddad', 43, 3, 95, 3721, '27', None, 'Bolsonaro x Haddad', 'Online', 'Se esses fossem os candidatos, em quem você votaria no 2o turno das próximas eleições presidenciais?', '2021-06-16 21:59:21')\n(276, '2021-03-08', '2021-03-10', 'Atlas', 'Atlas', 'Presidente', 2, '(Sem partido)', 'Jair Bolsonaro', 39.4, 3, 95, 3721, '27', None, 'Bolsonaro x Haddad', 'CATI', 'Se esses fossem os candidatos, em quem você votaria no 2o turno das próximas eleições presidenciais?', '2021-06-16 21:59:21')\n(277, '2021-03-08', '2021-03-10', 'Atlas', 'Atlas', 'Presidente', 2, None, 'Branco/Nulo/NS/NR', 17.6, 3, 95, 3721, '27', None, 'Bolsonaro x Haddad', 'CATI', 'Se esses fossem os candidatos, em quem você votaria no 2o turno das próximas eleições presidenciais?', '2021-06-16 21:59:21')\n(278, '2021-03-08', '2021-03-10', 'Atlas', 'Atlas', 'Presidente', 2, 'PT', 'Lula', 44.9, 3, 95, 3721, '27', None, 'Bolsonaro x Lula', 'Online', 'Se esses fossem os candidatos, em quem você votaria no 2o turno das próximas eleições presidenciais?', '2021-06-16 21:59:21')\n(279, '2021-03-08', '2021-03-10', 'Atlas', 'Atlas', 'Presidente', 2, '(Sem partido)', 'Jair Bolsonaro', 38.8, 3, 95, 3721, '27', None, 'Bolsonaro x Lula', 'CATI', 'Se esses fossem os candidatos, em quem você votaria no 2o turno das próximas eleições presidenciais?', '2021-06-16 21:59:21')\n(280, '2021-03-08', '2021-03-10', 'Atlas', 'Atlas', 'Presidente', 2, None, 'Branco/Nulo/NS/NR', 16.3, 3, 95, 3721, '27', None, 'Bolsonaro x Lula', 'CATI', 'Se esses fossem os candidatos, em quem você votaria no 2o turno das próximas eleições presidenciais?', '2021-06-16 21:59:21')\n(281, '2021-03-08', '2021-03-10', 'Atlas', 'Atlas', 'Presidente', 2, 'PSDB', 'João Doria', 39.3, 3, 95, 3721, '27', None, 'Bolsonaro x Doria', 'Online', 'Se esses fossem os candidatos, em quem você votaria no 2o turno das próximas eleições presidenciais?', '2021-06-16 21:59:21')\n(282, '2021-03-08', '2021-03-10', 'Atlas', 'Atlas', 'Presidente', 2, '(Sem partido)', 'Jair Bolsonaro', 39.8, 3, 95, 3721, '27', None, 'Bolsonaro x Doria', 'CATI', 'Se esses fossem os candidatos, em quem você votaria no 2o turno das próximas eleições presidenciais?', '2021-06-16 21:59:21')\n(283, '2021-03-08', '2021-03-10', 'Atlas', 'Atlas', 'Presidente', 2, None, 'Branco/Nulo/NS/NR', 20.9, 3, 95, 3721, '27', None, 'Bolsonaro x Doria', 'CATI', 'Se esses fossem os candidatos, em quem você votaria no 2o turno das próximas eleições presidenciais?', '2021-06-16 21:59:21')\n(284, '2021-03-08', '2021-03-10', 'Atlas', 'Atlas', 'Presidente', 2, 'DEM', 'Henrique Mandetta', 46.6, 3, 95, 3721, '27', None, 'Bolsonaro x Mandetta', 'Online', 'Se esses fossem os candidatos, em quem você votaria no 2o turno das próximas eleições presidenciais?', '2021-06-16 21:59:21')\n(285, '2021-03-08', '2021-03-10', 'Atlas', 'Atlas', 'Presidente', 2, '(Sem partido)', 'Jair Bolsonaro', 36.9, 3, 95, 3721, '27', None, 'Bolsonaro x Mandetta', 'CATI', 'Se esses fossem os candidatos, em quem você votaria no 2o turno das próximas eleições presidenciais?', '2021-06-16 21:59:21')\n(286, '2021-03-08', '2021-03-10', 'Atlas', 'Atlas', 'Presidente', 2, None, 'Branco/Nulo/NS/NR', 16.5, 3, 95, 3721, '27', None, 'Bolsonaro x Mandetta', 'CATI', 'Se esses fossem os candidatos, em quem você votaria no 2o turno das próximas eleições presidenciais?', '2021-06-16 21:59:21')\n(287, '2021-03-08', '2021-03-10', 'Atlas', 'Atlas', 'Presidente', 2, 'PDT', 'Ciro Gomes', 44.7, 3, 95, 3721, '27', None, 'Bolsonaro x Ciro', 'Online', 'Se esses fossem os candidatos, em quem você votaria no 2o turno das próximas eleições presidenciais?', '2021-06-16 21:59:21')\n(288, '2021-03-08', '2021-03-10', 'Atlas', 'Atlas', 'Presidente', 2, '(Sem partido)', 'Jair Bolsonaro', 37.5, 3, 95, 3721, '27', None, 'Bolsonaro x Ciro', 'CATI', 'Se esses fossem os candidatos, em quem você votaria no 2o turno das próximas eleições presidenciais?', '2021-06-16 21:59:21')\n(289, '2021-03-08', '2021-03-10', 'Atlas', 'Atlas', 'Presidente', 2, None, 'Branco/Nulo/NS/NR', 17.8, 3, 95, 3721, '27', None, 'Bolsonaro x Ciro', 'CATI', 'Se esses fossem os candidatos, em quem você votaria no 2o turno das próximas eleições presidenciais?', '2021-06-16 21:59:21')\n(290, '2021-03-08', '2021-03-10', 'Atlas', 'Atlas', 'Presidente', 2, 'REDE', 'Marina Silva', 36.1, 3, 95, 3721, '27', None, 'Bolsonaro x Marina', 'Online', 'Se esses fossem os candidatos, em quem você votaria no 2o turno das próximas eleições presidenciais?', '2021-06-16 21:59:21')\n(291, '2021-03-08', '2021-03-10', 'Atlas', 'Atlas', 'Presidente', 2, '(Sem partido)', 'Jair Bolsonaro', 37.1, 3, 95, 3721, '27', None, 'Bolsonaro x Marina', 'CATI', 'Se esses fossem os candidatos, em quem você votaria no 2o turno das próximas eleições presidenciais?', '2021-06-16 21:59:21')\n(292, '2021-03-08', '2021-03-10', 'Atlas', 'Atlas', 'Presidente', 2, None, 'Branco/Nulo/NS/NR', 26.8, 3, 95, 3721, '27', None, 'Bolsonaro x Marina', 'CATI', 'Se esses fossem os candidatos, em quem você votaria no 2o turno das próximas eleições presidenciais?', '2021-06-16 21:59:21')\n(293, '2021-03-08', '2021-03-10', 'Atlas', 'Atlas', 'Presidente', 2, '(Sem partido)', 'Sérgio Moro', 33.1, 3, 95, 3721, '27', None, 'Bolsonaro x Moro', 'Online', 'Se esses fossem os candidatos, em quem você votaria no 2o turno das próximas eleições presidenciais?', '2021-06-16 21:59:21')\n(294, '2021-03-08', '2021-03-10', 'Atlas', 'Atlas', 'Presidente', 2, '(Sem partido)', 'Jair Bolsonaro', 34.3, 3, 95, 3721, '27', None, 'Bolsonaro x Moro', 'CATI', 'Se esses fossem os candidatos, em quem você votaria no 2o turno das próximas eleições presidenciais?', '2021-06-16 21:59:21')\n(295, '2021-03-08', '2021-03-10', 'Atlas', 'Atlas', 'Presidente', 2, None, 'Branco/Nulo/NS/NR', 30.2, 3, 95, 3721, '27', None, 'Bolsonaro x Moro', 'CATI', 'Se esses fossem os candidatos, em quem você votaria no 2o turno das próximas eleições presidenciais?', '2021-06-16 21:59:21')\n(296, '2021-03-08', '2021-03-10', 'Atlas', 'Atlas', 'Presidente', 2, '(Sem partido)', 'Luciano Huck', 32.5, 3, 95, 3721, '27', None, 'Bolsonaro x Huck', 'Online', 'Se esses fossem os candidatos, em quem você votaria no 2o turno das próximas eleições presidenciais?', '2021-06-16 21:59:21')\n(297, '2021-03-08', '2021-03-10', 'Atlas', 'Atlas', 'Presidente', 2, '(Sem partido)', 'Jair Bolsonaro', 37.3, 3, 95, 3721, '27', None, 'Bolsonaro x Huck', 'CATI', 'Se esses fossem os candidatos, em quem você votaria no 2o turno das próximas eleições presidenciais?', '2021-06-16 21:59:21')\n(298, '2021-03-08', '2021-03-10', 'Atlas', 'Atlas', 'Presidente', 2, None, 'Branco/Nulo/NS/NR', 30.2, 3, 95, 3721, '27', None, 'Bolsonaro x Huck', 'CATI', 'Se esses fossem os candidatos, em quem você votaria no 2o turno das próximas eleições presidenciais?', '2021-06-16 21:59:21')\n"
     ]
    }
   ],
   "source": [
    "con.localizar_pesquisa_por_turno(turno=2)"
   ]
  },
  {
   "cell_type": "code",
   "execution_count": 179,
   "metadata": {},
   "outputs": [
    {
     "output_type": "stream",
     "name": "stdout",
     "text": [
      "Pesquisa com o candidato Lula :\n(24, '2021-03-15', '2021-03-17', 'PoderData', 'PoderData/Poder360', 'Presidente', 1, 'PT', 'Lula', 34, 1.8, 95, 3500, '27.0', '545.0', 'Intenção', 'IVR', 'Em 2022 teremos eleição para presidente do Brasil. Se a eleição fosse hoje, em qual dos candidatos que vou falar em ordem alfabética você votaria?', '2021-06-11 09:19:00')\n(33, '2021-03-15', '2021-03-17', 'PoderData', 'PoderData/Poder360', 'Presidente', 2, 'PT', 'Lula', 41, 1.8, 95, 3500, '27.0', '545.0', 'Bolsonaro x Lula', 'IVR', 'Em 2022 teremos eleição para presidente do Brasil. Se a eleição fosse hoje, em qual dos candidatos que vou falar em ordem alfabética você votaria?', '2021-06-11 09:19:00')\n(46, '2021-04-12', '2021-04-14', 'PoderData', 'PoderData/Poder360', 'Presidente', 1, 'PT', 'Lula', 37, 1.8, 95, 3500, '27.0', '512.0', 'Potencial positivo', 'IVR', 'Sobre o candidato, você diria que...é o único que votaria', '2021-06-11 09:19:00')\n(47, '2021-04-12', '2021-04-14', 'PoderData', 'PoderData/Poder360', 'Presidente', 1, 'PT', 'Lula', 18, 1.8, 95, 3500, '27.0', '512.0', 'Potencial neutro', 'IVR', 'Sobre o candidato, você diria que...poderia votar', '2021-06-11 09:19:00')\n(48, '2021-04-12', '2021-04-14', 'PoderData', 'PoderData/Poder360', 'Presidente', 1, 'PT', 'Lula', 41, 1.8, 95, 3500, '27.0', '512.0', 'Potencial negativo', 'IVR', 'Sobre o candidato, você diria que...não votaria de jeito nenhum', '2021-06-11 09:19:00')\n(61, '2021-04-12', '2021-04-14', 'PoderData', 'PoderData/Poder360', 'Presidente', 1, 'PT', 'Lula', 34, 1.8, 95, 3500, '27.0', '512.0', 'Intenção', 'IVR', 'Em 2022 teremos eleição para presidente do Brasil. Se a eleição fosse hoje, em qual dos candidatos que vou falar em ordem alfabética você votaria?', '2021-06-11 09:19:00')\n(71, '2021-04-12', '2021-04-14', 'PoderData', 'PoderData/Poder360', 'Presidente', 2, 'PT', 'Lula', 52, 1.8, 95, 3500, '27.0', '512.0', 'Bolsonaro x Lula', 'IVR', 'Em 2022 teremos eleição para presidente do Brasil. Se a eleição fosse hoje, em qual dos candidatos que vou falar em ordem alfabética você votaria?', '2021-06-11 09:19:00')\n(88, '2021-04-21', '2021-04-22', 'IDEIA', 'Exame/IDEIA', 'Presidente', 1, 'PT', 'Lula', 33, 3, 95, 1200, None, None, 'Intenção', 'CATI', 'Se a eleição fosse hoje e os candidatos fossem estes, em quem você votaria para presidente?', '2021-06-11 09:19:00')\n(90, '2021-06-01', '2021-06-04', 'Ranking Brasil', 'Ranking Brasil', 'Presidente', 1, 'PT', 'Lula', 32.07, 2.5, 95, 3000, '25', '163', 'Intenção', 'CATI', 'Se a eleição fosse hoje, em qual dos candidatos que vou falar você votaria?', '2021-06-15 07:24:00')\n(102, '2021-06-01', '2021-06-04', 'Ranking Brasil', 'Ranking Brasil', 'Presidente', 1, 'PT', 'Lula', 21.3, 2.5, 95, 3000, '25', '163', 'Espontânea', 'CATI', 'Se a eleição fosse hoje, em qual dos candidatos que vou falar você votaria?', '2021-06-15 08:03:25')\n(114, '2021-06-01', '2021-06-04', 'Ranking Brasil', 'Ranking Brasil', 'Presidente', 1, 'PT', 'Lula', 42.03, 2.5, 95, 3000, '25', '163', 'Lula x Bolsonaro x Ciro', 'CATI', 'Se a eleição fosse hoje, em qual dos candidatos que vou falar você votaria?', '2021-06-15 08:24:07')\n(118, '2021-06-01', '2021-06-04', 'Ranking Brasil', 'Ranking Brasil', 'Presidente', 1, 'PT', 'Lula', 41.13, 2.5, 95, 3000, '25', '163', 'Lula x Bolsonaro x Moro', 'CATI', 'Se a eleição fosse hoje, em qual dos candidatos que vou falar você votaria?', '2021-06-15 08:24:07')\n(122, '2021-06-01', '2021-06-04', 'Ranking Brasil', 'Ranking Brasil', 'Presidente', 1, 'PT', 'Lula', 43, 2.5, 95, 3000, '25', '163', 'Lula x Bolsonaro x Dória', 'CATI', 'Se a eleição fosse hoje, em qual dos candidatos que vou falar você votaria?', '2021-06-15 08:24:07')\n(126, '2021-06-01', '2021-06-04', 'Ranking Brasil', 'Ranking Brasil', 'Presidente', 1, 'PT', 'Lula', 42.33, 2.5, 95, 3000, '25', '163', 'Lula x Bolsonaro x Huck', 'CATI', 'Se a eleição fosse hoje, em qual dos candidatos que vou falar você votaria?', '2021-06-15 08:24:07')\n(130, '2021-06-01', '2021-06-04', 'Ranking Brasil', 'Ranking Brasil', 'Presidente', 1, 'PT', 'Lula', 44.27, 2.5, 95, 3000, '25', '163', 'Lula x Bolsonaro x Mandetta', 'CATI', 'Se a eleição fosse hoje, em qual dos candidatos que vou falar você votaria?', '2021-06-15 08:24:07')\n(134, '2021-06-01', '2021-06-04', 'Ranking Brasil', 'Ranking Brasil', 'Presidente', 1, 'PT', 'Lula', 43.1, 2.5, 95, 3000, '25', '163', 'Lula x Bolsonaro x Temer', 'CATI', 'Se a eleição fosse hoje, em qual dos candidatos que vou falar você votaria?', '2021-06-15 08:24:07')\n(138, '2021-06-01', '2021-06-04', 'Ranking Brasil', 'Ranking Brasil', 'Presidente', 1, 'PT', 'Lula', 43.13, 2.5, 95, 3000, '25', '163', 'Lula x Bolsonaro x Amoêdo', 'CATI', 'Se a eleição fosse hoje, em qual dos candidatos que vou falar você votaria?', '2021-06-15 08:24:07')\n(142, '2021-06-01', '2021-06-04', 'Ranking Brasil', 'Ranking Brasil', 'Presidente', 1, 'PT', 'Lula', 45.5, 2.5, 95, 3000, '25', '163', 'Lula x Bolsonaro x Boulos', 'CATI', 'Se a eleição fosse hoje, em qual dos candidatos que vou falar você votaria?', '2021-06-15 08:24:07')\n(146, '2021-06-01', '2021-06-04', 'Ranking Brasil', 'Ranking Brasil', 'Presidente', 1, 'PT', 'Lula', 45.83, 2.5, 95, 3000, '25', '163', 'Lula x Bolsonaro x Marina', 'CATI', 'Se a eleição fosse hoje, em qual dos candidatos que vou falar você votaria?', '2021-06-15 08:24:07')\n(150, '2021-06-01', '2021-06-04', 'Ranking Brasil', 'Ranking Brasil', 'Presidente', 2, 'PT', 'Lula', 47.07, 2.5, 95, 3000, '25', '163', 'Bolsonaro x Lula', 'CATI', 'Se a eleição fosse hoje, em qual dos candidatos que vou falar você votaria?', '2021-06-15 08:24:07')\n(153, '2021-06-01', '2021-06-04', 'Ranking Brasil', 'Ranking Brasil', 'Presidente', 1, 'PT', 'Lula', 31.2, 2.5, 95, 3000, '25', '163', 'Rejeição', 'CATI', 'Se a eleição fosse hoje, em qual dos candidatos que vou falar você votaria?', '2021-06-15 08:30:42')\n(165, '2021-06-07', '2021-06-10', 'Ipespe', 'Ipespe/XP', 'Presidente', 1, 'PT', 'Lula', 24, 3.2, 95, 1000, '24', None, 'Espontânea', 'CATI', 'Em 2022 teremos eleição para presidente do Brasil. Se a eleição fosse hoje, em quem o(a) sr(a) votaria para presidente?', '2021-06-15 11:20:49')\n(177, '2021-06-07', '2021-06-10', 'Ipespe', 'Ipespe/XP', 'Presidente', 1, 'PT', 'Lula', 32, 3.2, 95, 1000, '24', None, 'Intenção', 'CATI', 'Em 2022 teremos eleição para presidente do Brasil. Se a eleição fosse hoje, em quem o(a) sr(a) votaria para presidente?', '2021-06-15 11:21:02')\n(186, '2021-06-07', '2021-06-10', 'Ipespe', 'Ipespe/XP', 'Presidente', 2, 'PT', 'Lula', 45, 3.2, 95, 1000, '24', None, 'Bolsonaro x Lula', 'CATI', 'Em 2022 teremos eleição para presidente do Brasil. Se a eleição fosse hoje, em quem o(a) sr(a) votaria para presidente?', '2021-06-15 11:38:20')\n(204, '2021-06-07', '2021-06-10', 'Ipespe', 'Ipespe/XP', 'Presidente', 2, 'PT', 'Lula', 43, 3.2, 95, 1000, '24', None, 'Lula x Moro', 'CATI', 'Em 2022 teremos eleição para presidente do Brasil. Se a eleição fosse hoje, em quem o(a) sr(a) votaria para presidente?', '2021-06-15 11:38:20')\n(207, '2021-06-07', '2021-06-09', 'PoderData', 'PoderData/Poder360', 'Presidente', 1, 'PT', 'Lula', 31, 2, 95, 2500, '27', '522', 'Intenção', 'IVR', 'Se a eleição fosse hoje, você votaria em qaul dos candidatos?', '2021-06-16 11:56:26')\n(216, '2021-06-07', '2021-06-09', 'PoderData', 'PoderData/Poder360', 'Presidente', 2, 'PT', 'Lula', 48, 2, 95, 2500, '27', '522', 'Bolsonaro x Lula', 'IVR', 'Se a eleição fosse hoje, você votaria em qaul dos candidatos?', '2021-06-16 11:56:32')\n(224, '2021-06-07', '2021-06-09', 'PoderData', 'PoderData/Poder360', 'Presidente', 2, 'PT', 'Lula', 42, 2, 95, 2500, '27', '522', 'Lula x Ciro', 'IVR', 'Se a eleição fosse hoje, você votaria em qaul dos candidatos?', '2021-06-16 11:56:32')\n(226, '2021-06-07', '2021-06-09', 'PoderData', 'PoderData/Poder360', 'Presidente', 2, 'PT', 'Lula', 45, 2, 95, 2500, '27', '522', 'Lula x Huck', 'IVR', 'Se a eleição fosse hoje, você votaria em qaul dos candidatos?', '2021-06-16 11:56:32')\n(228, '2021-06-07', '2021-06-09', 'PoderData', 'PoderData/Poder360', 'Presidente', 1, 'PT', 'Lula', 31, 2, 95, 2500, '27', '522', 'Potencial positivo', 'IVR', 'Se a eleição fosse hoje, você votaria em qaul dos candidatos?', '2021-06-16 12:07:14')\n(229, '2021-06-07', '2021-06-09', 'PoderData', 'PoderData/Poder360', 'Presidente', 1, 'PT', 'Lula', 18, 2, 95, 2500, '27', '522', 'Potencial neutro', 'IVR', 'Se a eleição fosse hoje, você votaria em qaul dos candidatos?', '2021-06-16 12:07:14')\n(230, '2021-06-07', '2021-06-09', 'PoderData', 'PoderData/Poder360', 'Presidente', 1, 'PT', 'Lula', 48, 2, 95, 2500, '27', '522', 'Potencial negativo', 'IVR', 'Se a eleição fosse hoje, você votaria em qaul dos candidatos?', '2021-06-16 12:07:14')\n(243, '2021-05-10', '2021-05-12', 'PoderData', 'PoderData/Poder360', 'Presidente', 1, 'PT', 'Lula', 32, 2, 95, 2500, '27', '522', 'Intenção', 'IVR', 'Se a eleição fosse hoje, você votaria em qaul dos candidatos?', '2021-06-16 12:12:18')\n(252, '2020-08-24', '2020-08-31', 'IDEIA', 'Exame/IDEIA', 'Presidente', 1, 'PT', 'Lula', 17, 3, 95, 1235, '27', None, 'Intenção', 'CATI', 'Se a eleição fosse hoje, você votaria em qaul dos candidatos?', '2021-06-16 12:42:26')\n(264, '2020-08-24', '2020-08-31', 'IDEIA', 'Exame/IDEIA', 'Presidente', 2, 'PT', 'Lula', 31, 3, 95, 1235, '27', None, 'Bolsonaro x Lula', 'CATI', 'Se a eleição fosse hoje, você votaria em qaul dos candidatos?', '2021-06-16 12:42:30')\n(272, '2021-03-08', '2021-03-10', 'Atlas', 'Atlas', 'Presidente', 1, 'PT', 'Lula', 24.4, 3, 95, 3721, '27', None, 'Intenção', 'Online', 'Se esses fossem os candidatos, em quem você votaria nas próximas eleições presidenciais?', '2021-06-16 21:58:56')\n(278, '2021-03-08', '2021-03-10', 'Atlas', 'Atlas', 'Presidente', 2, 'PT', 'Lula', 44.9, 3, 95, 3721, '27', None, 'Bolsonaro x Lula', 'Online', 'Se esses fossem os candidatos, em quem você votaria no 2o turno das próximas eleições presidenciais?', '2021-06-16 21:59:21')\n"
     ]
    }
   ],
   "source": [
    "con.localizar_pesquisa_por_candidato(candidato='Lula')"
   ]
  },
  {
   "cell_type": "code",
   "execution_count": null,
   "metadata": {},
   "outputs": [],
   "source": []
  },
  {
   "source": [
    "## Inserir dados"
   ],
   "cell_type": "markdown",
   "metadata": {}
  },
  {
   "cell_type": "code",
   "execution_count": 125,
   "metadata": {},
   "outputs": [],
   "source": [
    "PoderData1 = [('2021-05-10', '2021-05-12', 'PoderData', 'PoderData/Poder360', 'Presidente',1, 'PT', 'Lula', 32, 2, 95, 2500, 27, 522, 'Intenção',  'IVR', 'Se a eleição fosse hoje, você votaria em qaul dos candidatos?'),\n",
    "('2021-05-10', '2021-05-12', 'PoderData', 'PoderData/Poder360', 'Presidente',1, '(Sem partido)', 'Jair Bolsonaro', 32, 2, 95, 2500, 27, 522, 'Intenção',  'IVR', 'Se a eleição fosse hoje, você votaria em qaul dos candidatos?'),\n",
    "('2021-05-10', '2021-05-12', 'PoderData', 'PoderData/Poder360', 'Presidente',1, 'PDT', 'Ciro Gomes', 6, 2, 95, 2500, 27, 522, 'Intenção',  'IVR', 'Se a eleição fosse hoje, você votaria em qaul dos candidatos?'),\n",
    "('2021-05-10', '2021-05-12', 'PoderData', 'PoderData/Poder360', 'Presidente',1, '(Sem partido)', 'Luciano Huck', 6, 2, 95, 2500, 27, 522, 'Intenção',  'IVR', 'Se a eleição fosse hoje, você votaria em qaul dos candidatos?'),\n",
    "('2021-05-10', '2021-05-12', 'PoderData', 'PoderData/Poder360', 'Presidente',1, 'PSDB', 'João Doria', 4, 2, 95, 2500, 27, 522, 'Intenção',  'IVR', 'Se a eleição fosse hoje, você votaria em qaul dos candidatos?'),\n",
    "('2021-05-10', '2021-05-12', 'PoderData', 'PoderData/Poder360', 'Presidente',1, 'DEM', 'Henrique Mandetta', 3, 2, 95, 2500, 27, 522, 'Intenção',  'IVR', 'Se a eleição fosse hoje, você votaria em qaul dos candidatos?'),\n",
    "('2021-05-10', '2021-05-12', 'PoderData', 'PoderData/Poder360', 'Presidente',1, 'NOVO', 'João Amoêdo', 5, 2, 95, 2500, 27, 522, 'Intenção',  'IVR', 'Se a eleição fosse hoje, você votaria em qaul dos candidatos?'),\n",
    "('2021-05-10', '2021-05-12', 'PoderData', 'PoderData/Poder360', 'Presidente',1, None, 'Branco/Nulo', 8, 2, 95, 2500, 27, 522, 'Intenção',  'IVR', 'Se a eleição fosse hoje, você votaria em qaul dos candidatos?'),\n",
    "('2021-05-10', '2021-05-12', 'PoderData', 'PoderData/Poder360', 'Presidente',1, None, 'NS/NR', 2, 2, 95, 2500, 27, 522, 'Intenção',  'IVR', 'Se a eleição fosse hoje, você votaria em qaul dos candidatos?'),\n",
    "]\n",
    "\n",
    "\n",
    "\n",
    "PoderData2 = [('2021-06-07', '2021-06-09', 'PoderData', 'PoderData/Poder360', 'Presidente',2, 'PT', 'Lula', 48, 2, 95, 2500, 27, 522, 'Bolsonaro x Lula',  'IVR', 'Se a eleição fosse hoje, você votaria em qaul dos candidatos?'),\n",
    "('2021-06-07', '2021-06-09', 'PoderData', 'PoderData/Poder360', 'Presidente',2, '(Sem partido)', 'Jair Bolsonaro', 37, 2, 95, 2500, 27, 522, 'Bolsonaro x Lula',  'IVR', 'Se a eleição fosse hoje, você votaria em qaul dos candidatos?'),\n",
    "('2021-06-07', '2021-06-09', 'PoderData', 'PoderData/Poder360', 'Presidente',2, '(Sem partido)', 'Jair Bolsonaro', 36, 2, 95, 2500, 27, 522, 'Bolsonaro x Ciro',  'IVR', 'Se a eleição fosse hoje, você votaria em qaul dos candidatos?'),\n",
    "('2021-06-07', '2021-06-09', 'PoderData', 'PoderData/Poder360', 'Presidente',2, 'PDT', 'Ciro Gomes', 44, 2, 95, 2500, 27, 522, 'Intenção',  'IVR', 'Se a eleição fosse hoje, você votaria em qaul dos candidatos?'),\n",
    "('2021-06-07', '2021-06-09', 'PoderData', 'PoderData/Poder360', 'Presidente',2, '(Sem partido)', 'Jair Bolsonaro', 39, 2, 95, 2500, 27, 522, 'Bolsonaro x Doria',  'IVR', 'Se a eleição fosse hoje, você votaria em qaul dos candidatos?'),\n",
    "('2021-06-07', '2021-06-09', 'PoderData', 'PoderData/Poder360', 'Presidente',2, 'PSDB', 'João Doria', 39, 2, 95, 2500, 27, 522, 'Bolsonaro x Doria',  'IVR', 'Se a eleição fosse hoje, você votaria em qaul dos candidatos?'),\n",
    "('2021-06-07', '2021-06-09', 'PoderData', 'PoderData/Poder360', 'Presidente',2, '(Sem partido)', 'Jair Bolsonaro', 35, 2, 95, 2500, 27, 522, 'Bolsonaro x Huck',  'IVR', 'Se a eleição fosse hoje, você votaria em qaul dos candidatos?'),\n",
    "('2021-06-07', '2021-06-09', 'PoderData', 'PoderData/Poder360', 'Presidente',2, '(Sem partido)', 'Luciano Huck', 45, 2, 95, 2500, 27, 522, 'Bolsonaro x Huck',  'IVR', 'Se a eleição fosse hoje, você votaria em qaul dos candidatos?'),\n",
    "('2021-06-07', '2021-06-09', 'PoderData', 'PoderData/Poder360', 'Presidente',2, 'PT', 'Lula', 42, 2, 95, 2500, 27, 522, 'Lula x Ciro',  'IVR', 'Se a eleição fosse hoje, você votaria em qaul dos candidatos?'),\n",
    "('2021-06-07', '2021-06-09', 'PoderData', 'PoderData/Poder360', 'Presidente',2, 'PDT', 'Ciro Gomes', 22, 2, 95, 2500, 27, 522, 'Lula x Ciro',  'IVR', 'Se a eleição fosse hoje, você votaria em qaul dos candidatos?'),\n",
    "('2021-06-07', '2021-06-09', 'PoderData', 'PoderData/Poder360', 'Presidente',2, 'PT', 'Lula', 45, 2, 95, 2500, 27, 522, 'Lula x Huck',  'IVR', 'Se a eleição fosse hoje, você votaria em qaul dos candidatos?'),\n",
    "('2021-06-07', '2021-06-09', 'PoderData', 'PoderData/Poder360', 'Presidente',2, '(Sem partido)', 'Luciano Huck', 24, 2, 95, 2500, 27, 522, 'Lula x Huck',  'IVR', 'Se a eleição fosse hoje, você votaria em qaul dos candidatos?'),\n",
    "]\n",
    "\n",
    "\n",
    "PoderData3 = [('2021-06-07', '2021-06-09', 'PoderData', 'PoderData/Poder360', 'Presidente',1, 'PT', 'Lula', 31, 2, 95, 2500, 27, 522, 'Potencial positivo',  'IVR', 'Se a eleição fosse hoje, você votaria em qaul dos candidatos?'),\n",
    "('2021-06-07', '2021-06-09', 'PoderData', 'PoderData/Poder360', 'Presidente',1, 'PT', 'Lula', 18, 2, 95, 2500, 27, 522, 'Potencial neutro',  'IVR', 'Se a eleição fosse hoje, você votaria em qaul dos candidatos?'),\n",
    "('2021-06-07', '2021-06-09', 'PoderData', 'PoderData/Poder360', 'Presidente',1, 'PT', 'Lula', 48, 2, 95, 2500, 27, 522, 'Potencial negativo',  'IVR', 'Se a eleição fosse hoje, você votaria em qaul dos candidatos?'),\n",
    "('2021-06-07', '2021-06-09', 'PoderData', 'PoderData/Poder360', 'Presidente',1, '(Sem partido)', 'Jair Bolsonaro', 31, 2, 95, 2500, 27, 522, 'Potencial positivo',  'IVR', 'Se a eleição fosse hoje, você votaria em qaul dos candidatos?'),\n",
    "('2021-06-07', '2021-06-09', 'PoderData', 'PoderData/Poder360', 'Presidente',1, '(Sem partido)', 'Jair Bolsonaro', 15, 2, 95, 2500, 27, 522, 'Potencial neutro',  'IVR', 'Se a eleição fosse hoje, você votaria em qaul dos candidatos?'),\n",
    "('2021-06-07', '2021-06-09', 'PoderData', 'PoderData/Poder360', 'Presidente',1, '(Sem partido)', 'Jair Bolsonaro', 50, 2, 95, 2500, 27, 522, 'Potencial negativo',  'IVR', 'Se a eleição fosse hoje, você votaria em qaul dos candidatos?'),\n",
    "('2021-06-07', '2021-06-09', 'PoderData', 'PoderData/Poder360', 'Presidente',1, 'PDT', 'Ciro Gomes', 11, 2, 95, 2500, 27, 522, 'Potencial positivo',  'IVR', 'Se a eleição fosse hoje, você votaria em qaul dos candidatos?'),\n",
    "('2021-06-07', '2021-06-09', 'PoderData', 'PoderData/Poder360', 'Presidente',1, 'PDT', 'Ciro Gomes', 37, 2, 95, 2500, 27, 522, 'Potencial neutro',  'IVR', 'Se a eleição fosse hoje, você votaria em qaul dos candidatos?'),\n",
    "('2021-06-07', '2021-06-09', 'PoderData', 'PoderData/Poder360', 'Presidente',1, 'PDT', 'Ciro Gomes', 46, 2, 95, 2500, 27, 522, 'Potencial negativo',  'IVR', 'Se a eleição fosse hoje, você votaria em qaul dos candidatos?'),\n",
    "('2021-06-07', '2021-06-09', 'PoderData', 'PoderData/Poder360', 'Presidente',1, '(Sem partido)', 'Luciano Huck', 11, 2, 95, 2500, 27, 522, 'Potencial positivo',  'IVR', 'Se a eleição fosse hoje, você votaria em qaul dos candidatos?'),\n",
    "('2021-06-07', '2021-06-09', 'PoderData', 'PoderData/Poder360', 'Presidente',1, '(Sem partido)', 'Luciano Huck', 35, 2, 95, 2500, 27, 522, 'Potencial neutro',  'IVR', 'Se a eleição fosse hoje, você votaria em qaul dos candidatos?'),\n",
    "('2021-06-07', '2021-06-09', 'PoderData', 'PoderData/Poder360', 'Presidente',1, '(Sem partido)', 'Luciano Huck', 47, 2, 95, 2500, 27, 522, 'Potencial negativo',  'IVR', 'Se a eleição fosse hoje, você votaria em qaul dos candidatos?'),\n",
    "('2021-06-07', '2021-06-09', 'PoderData', 'PoderData/Poder360', 'Presidente',1, 'PSDB', 'João Doria', 10, 2, 95, 2500, 27, 522, 'Potencial positivo',  'IVR', 'Se a eleição fosse hoje, você votaria em qaul dos candidatos?'),\n",
    "('2021-06-07', '2021-06-09', 'PoderData', 'PoderData/Poder360', 'Presidente',1, 'PSDB', 'João Doria', 32, 2, 95, 2500, 27, 522, 'Potencial neutro',  'IVR', 'Se a eleição fosse hoje, você votaria em qaul dos candidatos?'),\n",
    "('2021-06-07', '2021-06-09', 'PoderData', 'PoderData/Poder360', 'Presidente',1, 'PSDB', 'João Doria', 50, 2, 95, 2500, 27, 522, 'Potencial negativo',  'IVR', 'Se a eleição fosse hoje, você votaria em qaul dos candidatos?'),\n",
    "]\n"
   ]
  },
  {
   "cell_type": "code",
   "execution_count": 126,
   "metadata": {},
   "outputs": [
    {
     "output_type": "stream",
     "name": "stdout",
     "text": [
      "Banco: pollingpoint.db\nSQLite version: 3.34.0\nTotal de pesquisas registradas: 242\n"
     ]
    }
   ],
   "source": [
    "con = IntencaoDb()\n",
    "\n",
    "con.contar_pesquisas()"
   ]
  },
  {
   "cell_type": "code",
   "execution_count": 127,
   "metadata": {},
   "outputs": [
    {
     "output_type": "stream",
     "name": "stdout",
     "text": [
      "Dados inseridos da lista com sucesso: 9 registros.\nTotal de pesquisas registradas: 251\n"
     ]
    }
   ],
   "source": [
    "# Executar \n",
    "con.inserir_de_lista(lista = PoderData1)\n",
    "\n",
    "con.contar_pesquisas()"
   ]
  },
  {
   "cell_type": "code",
   "execution_count": 124,
   "metadata": {},
   "outputs": [
    {
     "output_type": "stream",
     "name": "stdout",
     "text": [
      "Backup realizado com sucesso.\nSalvo como sql/pollingpoint_bkp.sql\nConexão fechada.\n"
     ]
    }
   ],
   "source": [
    "con.backup()\n",
    "\n",
    "con.fechar_conexao()"
   ]
  },
  {
   "cell_type": "code",
   "execution_count": null,
   "metadata": {},
   "outputs": [],
   "source": []
  },
  {
   "cell_type": "code",
   "execution_count": null,
   "metadata": {},
   "outputs": [],
   "source": []
  },
  {
   "cell_type": "code",
   "execution_count": 110,
   "metadata": {},
   "outputs": [],
   "source": [
    "ipespe1 = [('2021-06-07', '2021-06-10', 'Ipespe', 'Ipespe/XP', 'Presidente',1, 'PT', 'Lula', 24, 3.2, 95, 1000, 24, None, 'Espontânea',  'CATI', 'Em 2022 teremos eleição para presidente do Brasil. Se a eleição fosse hoje, em quem o(a) sr(a) votaria para presidente?'),\n",
    "('2021-06-07', '2021-06-10', 'Ipespe', 'Ipespe/XP', 'Presidente',1, '(Sem partido)', 'Jair Bolsonaro', 24, 3.2, 95, 1000, 24, None, 'Espontânea',  'CATI', 'Em 2022 teremos eleição para presidente do Brasil. Se a eleição fosse hoje, em quem o(a) sr(a) votaria para presidente?'),\n",
    "('2021-06-07', '2021-06-10', 'Ipespe', 'Ipespe/XP', 'Presidente',1, 'PDT', 'Ciro Gomes', 3, 3.2, 95, 1000, 24, None, 'Espontânea',  'CATI', 'Em 2022 teremos eleição para presidente do Brasil. Se a eleição fosse hoje, em quem o(a) sr(a) votaria para presidente?'),\n",
    "('2021-06-07', '2021-06-10', 'Ipespe', 'Ipespe/XP', 'Presidente',1, '(Sem partido)', 'Luciano Huck', 1, 3.2, 95, 1000, 24, None, 'Espontânea',  'CATI', 'Em 2022 teremos eleição para presidente do Brasil. Se a eleição fosse hoje, em quem o(a) sr(a) votaria para presidente?'),\n",
    "('2021-06-07', '2021-06-10', 'Ipespe', 'Ipespe/XP', 'Presidente',1, '(Sem partido)', 'Sérgio Moro', 1, 3.2, 95, 1000, 24, None, 'Espontânea',  'CATI', 'Em 2022 teremos eleição para presidente do Brasil. Se a eleição fosse hoje, em quem o(a) sr(a) votaria para presidente?'),\n",
    "('2021-06-07', '2021-06-10', 'Ipespe', 'Ipespe/XP', 'Presidente',1, 'NOVO', 'João Amoêdo', 1, 3.2, 95, 1000, 24, None, 'Espontânea',  'CATI', 'Em 2022 teremos eleição para presidente do Brasil. Se a eleição fosse hoje, em quem o(a) sr(a) votaria para presidente?'),\n",
    "('2021-06-07', '2021-06-10', 'Ipespe', 'Ipespe/XP', 'Presidente',1, 'PSDB', 'João Doria', 1, 3.2, 95, 1000, 24, None, 'Espontânea',  'CATI', 'Em 2022 teremos eleição para presidente do Brasil. Se a eleição fosse hoje, em quem o(a) sr(a) votaria para presidente?'),\n",
    "('2021-06-07', '2021-06-10', 'Ipespe', 'Ipespe/XP', 'Presidente',1, 'PSOL', 'Guilherme Boulos', 1, 3.2, 95, 1000, 24, None, 'Espontânea',  'CATI', 'Em 2022 teremos eleição para presidente do Brasil. Se a eleição fosse hoje, em quem o(a) sr(a) votaria para presidente?'),\n",
    "('2021-06-07', '2021-06-10', 'Ipespe', 'Ipespe/XP', 'Presidente',1, 'DEM', 'Henrique Mandetta', 0, 3.2, 95, 1000, 24, None, 'Espontânea',  'CATI', 'Em 2022 teremos eleição para presidente do Brasil. Se a eleição fosse hoje, em quem o(a) sr(a) votaria para presidente?'),\n",
    " ('2021-06-07', '2021-06-10', 'Ipespe', 'Ipespe/XP', 'Presidente',1, 'PT', 'Fernando Haddad', 0, 3.2, 95, 1000, 24, None, 'Espontânea',  'CATI', 'Em 2022 teremos eleição para presidente do Brasil. Se a eleição fosse hoje, em quem o(a) sr(a) votaria para presidente?'),\n",
    " ('2021-06-01', '2021-06-04', 'Ipespe', 'Ipespe/XP', 'Presidente',1, None, 'Branco/Nulo', 8, 3.2, 95, 1000, 24, None, 'Espontânea',  'CATI', 'Em 2022 teremos eleição para presidente do Brasil. Se a eleição fosse hoje, em quem o(a) sr(a) votaria para presidente?'),\n",
    " ('2021-06-01', '2021-06-04', 'Ipespe', 'Ipespe/XP', 'Presidente',1, None, 'NS/NR', 36, 3.2, 95, 1000, 24, None, 'Espontânea',  'CATI', 'Em 2022 teremos eleição para presidente do Brasil. Se a eleição fosse hoje, em quem o(a) sr(a) votaria para presidente?'),\n",
    "]\n",
    "\n",
    "\n",
    "# Pesquisa de intenção \n",
    "ipespe2 = [('2021-06-07', '2021-06-10', 'Ipespe', 'Ipespe/XP', 'Presidente',1, 'PT', 'Lula', 32, 3.2, 95, 1000, 24, None, 'Intenção',  'CATI', 'Em 2022 teremos eleição para presidente do Brasil. Se a eleição fosse hoje, em quem o(a) sr(a) votaria para presidente?'),\n",
    "('2021-06-07', '2021-06-10', 'Ipespe', 'Ipespe/XP', 'Presidente',1, '(Sem partido)', 'Jair Bolsonaro', 28, 3.2, 95, 1000, 24, None, 'Intenção',  'CATI', 'Em 2022 teremos eleição para presidente do Brasil. Se a eleição fosse hoje, em quem o(a) sr(a) votaria para presidente?'),\n",
    "('2021-06-07', '2021-06-10', 'Ipespe', 'Ipespe/XP', 'Presidente',1, 'PDT', 'Ciro Gomes', 6, 3.2, 95, 1000, 24, None, 'Intenção',  'CATI', 'Em 2022 teremos eleição para presidente do Brasil. Se a eleição fosse hoje, em quem o(a) sr(a) votaria para presidente?'),\n",
    "('2021-06-07', '2021-06-10', 'Ipespe', 'Ipespe/XP', 'Presidente',1, '(Sem partido)', 'Luciano Huck', 4, 3.2, 95, 1000, 24, None, 'Intenção',  'CATI', 'Em 2022 teremos eleição para presidente do Brasil. Se a eleição fosse hoje, em quem o(a) sr(a) votaria para presidente?'),\n",
    "('2021-06-07', '2021-06-10', 'Ipespe', 'Ipespe/XP', 'Presidente',1, '(Sem partido)', 'Sérgio Moro', 7, 3.2, 95, 1000, 24, None, 'Intenção',  'CATI', 'Em 2022 teremos eleição para presidente do Brasil. Se a eleição fosse hoje, em quem o(a) sr(a) votaria para presidente?'),\n",
    "('2021-06-07', '2021-06-10', 'Ipespe', 'Ipespe/XP', 'Presidente',1, 'PSDB', 'João Doria', 3, 3.2, 95, 1000, 24, None, 'Intenção',  'CATI', 'Em 2022 teremos eleição para presidente do Brasil. Se a eleição fosse hoje, em quem o(a) sr(a) votaria para presidente?'),\n",
    "('2021-06-07', '2021-06-10', 'Ipespe', 'Ipespe/XP', 'Presidente',1, 'PSOL', 'Guilherme Boulos', 3, 3.2, 95, 1000, 24, None, 'Intenção',  'CATI', 'Em 2022 teremos eleição para presidente do Brasil. Se a eleição fosse hoje, em quem o(a) sr(a) votaria para presidente?'),\n",
    "('2021-06-07', '2021-06-10', 'Ipespe', 'Ipespe/XP', 'Presidente',1, 'DEM', 'Henrique Mandetta', 3, 3.2, 95, 1000, 24, None, 'Intenção',  'CATI', 'Em 2022 teremos eleição para presidente do Brasil. Se a eleição fosse hoje, em quem o(a) sr(a) votaria para presidente?'),\n",
    " ('2021-06-01', '2021-06-04', 'Ipespe', 'Ipespe/XP', 'Presidente',1, None, 'Branco/Nulo/NS/NR', 15, 3.2, 95, 1000, 24, None, 'Intenção',  'CATI', 'Em 2022 teremos eleição para presidente do Brasil. Se a eleição fosse hoje, em quem o(a) sr(a) votaria para presidente?'),\n",
    "]\n",
    "\n",
    "\n",
    "\n",
    "ipespe3 = [('2021-06-07', '2021-06-10', 'Ipespe', 'Ipespe/XP', 'Presidente',2, 'PT', 'Lula', 45, 3.2, 95, 1000, 24, None, 'Bolsonaro x Lula',  'CATI', 'Em 2022 teremos eleição para presidente do Brasil. Se a eleição fosse hoje, em quem o(a) sr(a) votaria para presidente?'),\n",
    "('2021-06-07', '2021-06-10', 'Ipespe', 'Ipespe/XP', 'Presidente',2, '(Sem partido)', 'Jair Bolsonaro', 36, 3.2, 95, 1000, 24, None, 'Bolsonaro x Lula',  'CATI', 'Em 2022 teremos eleição para presidente do Brasil. Se a eleição fosse hoje, em quem o(a) sr(a) votaria para presidente?'),\n",
    "('2021-06-07', '2021-06-10', 'Ipespe', 'Ipespe/XP', 'Presidente',2, None, 'Branco/Nulo/NS/NR', 19, 3.2, 95, 1000, 24, None, 'Bolsonaro x Lula',  'CATI', 'Em 2022 teremos eleição para presidente do Brasil. Se a eleição fosse hoje, em quem o(a) sr(a) votaria para presidente?'),\n",
    "('2021-06-07', '2021-06-10', 'Ipespe', 'Ipespe/XP', 'Presidente',2, 'PDT', 'Ciro Gomes', 41, 3.2, 95, 1000, 24, None, 'Bolsonaro x Ciro',  'CATI', 'Em 2022 teremos eleição para presidente do Brasil. Se a eleição fosse hoje, em quem o(a) sr(a) votaria para presidente?'),\n",
    "('2021-06-07', '2021-06-10', 'Ipespe', 'Ipespe/XP', 'Presidente',2, '(Sem partido)', 'Jair Bolsonaro', 37, 3.2, 95, 1000, 24, None, 'Bolsonaro x Ciro',  'CATI', 'Em 2022 teremos eleição para presidente do Brasil. Se a eleição fosse hoje, em quem o(a) sr(a) votaria para presidente?'),\n",
    "('2021-06-07', '2021-06-10', 'Ipespe', 'Ipespe/XP', 'Presidente',2, None, 'Branco/Nulo/NS/NR', 22, 3.2, 95, 1000, 24, None, 'Bolsonaro x Ciro',  'CATI', 'Em 2022 teremos eleição para presidente do Brasil. Se a eleição fosse hoje, em quem o(a) sr(a) votaria para presidente?'),\n",
    "('2021-06-07', '2021-06-10', 'Ipespe', 'Ipespe/XP', 'Presidente',2, '(Sem partido)', 'Sérgio Moro', 32, 3.2, 95, 1000, 24, None, 'Bolsonaro x Moro',  'CATI', 'Em 2022 teremos eleição para presidente do Brasil. Se a eleição fosse hoje, em quem o(a) sr(a) votaria para presidente?'),\n",
    "('2021-06-07', '2021-06-10', 'Ipespe', 'Ipespe/XP', 'Presidente',2, '(Sem partido)', 'Jair Bolsonaro', 32, 3.2, 95, 1000, 24, None, 'Bolsonaro x Moro',  'CATI', 'Em 2022 teremos eleição para presidente do Brasil. Se a eleição fosse hoje, em quem o(a) sr(a) votaria para presidente?'),\n",
    "('2021-06-07', '2021-06-10', 'Ipespe', 'Ipespe/XP', 'Presidente',2, None, 'Branco/Nulo/NS/NR', 35, 3.2, 95, 1000, 24, None, 'Bolsonaro x Moro',  'CATI', 'Em 2022 teremos eleição para presidente do Brasil. Se a eleição fosse hoje, em quem o(a) sr(a) votaria para presidente?'),\n",
    "('2021-06-07', '2021-06-10', 'Ipespe', 'Ipespe/XP', 'Presidente',2, '(Sem partido)', 'Luciano Huck', 34, 3.2, 95, 1000, 24, None, 'Bolsonaro x Huck',  'CATI', 'Em 2022 teremos eleição para presidente do Brasil. Se a eleição fosse hoje, em quem o(a) sr(a) votaria para presidente?'),\n",
    "('2021-06-07', '2021-06-10', 'Ipespe', 'Ipespe/XP', 'Presidente',2, '(Sem partido)', 'Jair Bolsonaro', 37, 3.2, 95, 1000, 24, None, 'Bolsonaro x Huck',  'CATI', 'Em 2022 teremos eleição para presidente do Brasil. Se a eleição fosse hoje, em quem o(a) sr(a) votaria para presidente?'),\n",
    "('2021-06-07', '2021-06-10', 'Ipespe', 'Ipespe/XP', 'Presidente',2, None, 'Branco/Nulo/NS/NR', 30, 3.2, 95, 1000, 24, None, 'Bolsonaro x Huck',  'CATI', 'Em 2022 teremos eleição para presidente do Brasil. Se a eleição fosse hoje, em quem o(a) sr(a) votaria para presidente?'),\n",
    "('2021-06-07', '2021-06-10', 'Ipespe', 'Ipespe/XP', 'Presidente',2, 'PSOL', 'Guilherme Boulos', 30, 3.2, 95, 1000, 24, None, 'Bolsonaro x Boulos',  'CATI', 'Em 2022 teremos eleição para presidente do Brasil. Se a eleição fosse hoje, em quem o(a) sr(a) votaria para presidente?'),\n",
    "('2021-06-07', '2021-06-10', 'Ipespe', 'Ipespe/XP', 'Presidente',2, '(Sem partido)', 'Jair Bolsonaro', 40, 3.2, 95, 1000, 24, None, 'Bolsonaro x Boulos',  'CATI', 'Em 2022 teremos eleição para presidente do Brasil. Se a eleição fosse hoje, em quem o(a) sr(a) votaria para presidente?'),\n",
    "('2021-06-07', '2021-06-10', 'Ipespe', 'Ipespe/XP', 'Presidente',2, None, 'Branco/Nulo/NS/NR', 30, 3.2, 95, 1000, 24, None, 'Bolsonaro x Boulos',  'CATI', 'Em 2022 teremos eleição para presidente do Brasil. Se a eleição fosse hoje, em quem o(a) sr(a) votaria para presidente?'),\n",
    "('2021-06-07', '2021-06-10', 'Ipespe', 'Ipespe/XP', 'Presidente',2, 'PSDB', 'João Doria', 33, 3.2, 95, 1000, 24, None, 'Bolsonaro x Doria',  'CATI', 'Em 2022 teremos eleição para presidente do Brasil. Se a eleição fosse hoje, em quem o(a) sr(a) votaria para presidente?'),\n",
    "('2021-06-07', '2021-06-10', 'Ipespe', 'Ipespe/XP', 'Presidente',2, '(Sem partido)', 'Jair Bolsonaro', 39, 3.2, 95, 1000, 24, None, 'Bolsonaro x Doria',  'CATI', 'Em 2022 teremos eleição para presidente do Brasil. Se a eleição fosse hoje, em quem o(a) sr(a) votaria para presidente?'),\n",
    "('2021-06-07', '2021-06-10', 'Ipespe', 'Ipespe/XP', 'Presidente',2, None, 'Branco/Nulo/NS/NR', 28, 3.2, 95, 1000, 24, None, 'Bolsonaro x Doria',  'CATI', 'Em 2022 teremos eleição para presidente do Brasil. Se a eleição fosse hoje, em quem o(a) sr(a) votaria para presidente?'),\n",
    "('2021-06-07', '2021-06-10', 'Ipespe', 'Ipespe/XP', 'Presidente',2, 'PT', 'Lula', 43, 3.2, 95, 1000, 24, None, 'Lula x Moro',  'CATI', 'Em 2022 teremos eleição para presidente do Brasil. Se a eleição fosse hoje, em quem o(a) sr(a) votaria para presidente?'),\n",
    "('2021-06-07', '2021-06-10', 'Ipespe', 'Ipespe/XP', 'Presidente',2, '(Sem partido)', 'Sérgio Moro', 35, 3.2, 95, 1000, 24, None, 'Lula x Moro',  'CATI', 'Em 2022 teremos eleição para presidente do Brasil. Se a eleição fosse hoje, em quem o(a) sr(a) votaria para presidente?'),\n",
    "('2021-06-07', '2021-06-10', 'Ipespe', 'Ipespe/XP', 'Presidente',2, None, 'Branco/Nulo/NS/NR', 22, 3.2, 95, 1000, 24, None, 'Lula x Moro',  'CATI', 'Em 2022 teremos eleição para presidente do Brasil. Se a eleição fosse hoje, em quem o(a) sr(a) votaria para presidente?'),\n",
    "]"
   ]
  },
  {
   "cell_type": "code",
   "execution_count": null,
   "metadata": {},
   "outputs": [],
   "source": []
  },
  {
   "cell_type": "code",
   "execution_count": 111,
   "metadata": {},
   "outputs": [
    {
     "output_type": "stream",
     "name": "stdout",
     "text": [
      "Banco: pollingpoint.db\nSQLite version: 3.34.0\nTotal de pesquisas registradas: 185\n"
     ]
    }
   ],
   "source": [
    "con = IntencaoDb()\n",
    "\n",
    "con.contar_pesquisas()"
   ]
  },
  {
   "cell_type": "code",
   "execution_count": 112,
   "metadata": {},
   "outputs": [
    {
     "output_type": "stream",
     "name": "stdout",
     "text": [
      "Dados inseridos da lista com sucesso: 21 registros.\nTotal de pesquisas registradas: 206\n"
     ]
    }
   ],
   "source": [
    "# Executar \n",
    "con.inserir_de_lista(lista = ipespe3)\n",
    "\n",
    "con.contar_pesquisas()"
   ]
  },
  {
   "cell_type": "code",
   "execution_count": 113,
   "metadata": {},
   "outputs": [
    {
     "output_type": "stream",
     "name": "stdout",
     "text": [
      "Backup realizado com sucesso.\nSalvo como sql/pollingpoint_bkp.sql\nConexão fechada.\n"
     ]
    }
   ],
   "source": [
    "con.backup()\n",
    "\n",
    "con.fechar_conexao()"
   ]
  },
  {
   "cell_type": "code",
   "execution_count": null,
   "metadata": {},
   "outputs": [],
   "source": []
  },
  {
   "cell_type": "code",
   "execution_count": 128,
   "metadata": {},
   "outputs": [],
   "source": [
    "Ideia1 = [('2020-08-24', '2020-08-31', 'IDEIA', 'Exame/IDEIA', 'Presidente',1, 'PT', 'Lula', 17, 3, 95, 1235, 27, None, 'Intenção',  'CATI', 'Se a eleição fosse hoje, você votaria em qaul dos candidatos?'),\n",
    "('2020-08-24', '2020-08-31', 'IDEIA', 'Exame/IDEIA', 'Presidente',1, '(Sem partido)', 'Jair Bolsonaro', 31, 3, 95, 1235, 27, None, 'Intenção',  'CATI', 'Se a eleição fosse hoje, você votaria em qaul dos candidatos?'),\n",
    "('2020-08-24', '2020-08-31', 'IDEIA', 'Exame/IDEIA', 'Presidente',1, 'PDT', 'Ciro Gomes', 6, 3, 95, 1235, 27, None, 'Intenção',  'CATI', 'Se a eleição fosse hoje, você votaria em qaul dos candidatos?'),\n",
    "('2020-08-24', '2020-08-31', 'IDEIA', 'Exame/IDEIA', 'Presidente',1, '(Sem partido)', 'Sérgio Moro', 13, 3, 95, 1235, 27, None, 'Intenção',  'CATI', 'Se a eleição fosse hoje, você votaria em qaul dos candidatos?'),\n",
    "('2020-08-24', '2020-08-31', 'IDEIA', 'Exame/IDEIA', 'Presidente',1, '(Sem partido)', 'Luciano Huck', 5, 3, 95, 1235, 27, None, 'Intenção',  'CATI', 'Se a eleição fosse hoje, você votaria em qaul dos candidatos?'),\n",
    "('2020-08-24', '2020-08-31', 'IDEIA', 'Exame/IDEIA', 'Presidente',1, 'PSDB', 'João Doria', 3, 3, 95, 1235, 27, None, 'Intenção',  'CATI', 'Se a eleição fosse hoje, você votaria em qaul dos candidatos?'),\n",
    "('2020-08-24', '2020-08-31', 'IDEIA', 'Exame/IDEIA', 'Presidente',1, 'DEM', 'Henrique Mandetta', 4, 3, 95, 1235, 27, None, 'Intenção',  'CATI', 'Se a eleição fosse hoje, você votaria em qaul dos candidatos?'),\n",
    "('2020-08-24', '2020-08-31', 'IDEIA', 'Exame/IDEIA', 'Presidente',1, 'NOVO', 'João Amoêdo', 3, 3, 95, 1235, 27, None, 'Intenção',  'CATI', 'Se a eleição fosse hoje, você votaria em qaul dos candidatos?'),\n",
    "('2020-08-24', '2020-08-31', 'IDEIA', 'Exame/IDEIA', 'Presidente',1, 'REDE', 'Marina Silva', 2, 3, 95, 1235, 27, None, 'Intenção',  'CATI', 'Se a eleição fosse hoje, você votaria em qaul dos candidatos?'),\n",
    "('2020-08-24', '2020-08-31', 'IDEIA', 'Exame/IDEIA', 'Presidente',1, 'PcdoB', 'Flavio Dino', 1, 3, 95, 1235, 27, None, 'Intenção',  'CATI', 'Se a eleição fosse hoje, você votaria em qaul dos candidatos?'),\n",
    "('2020-08-24', '2020-08-31', 'IDEIA', 'Exame/IDEIA', 'Presidente',1, None, 'Branco/Nulo', 7, 3, 95, 1235, 27, None, 'Intenção',  'CATI', 'Se a eleição fosse hoje, você votaria em qaul dos candidatos?'),\n",
    "('2020-08-24', '2020-08-31', 'IDEIA', 'Exame/IDEIA', 'Presidente',1, None, 'NS/NR', 7, 3, 95, 1235, 27, None, 'Intenção',  'CATI', 'Se a eleição fosse hoje, você votaria em qaul dos candidatos?'),\n",
    "]\n",
    "\n",
    "\n",
    "Ideia2 = [('2020-08-24', '2020-08-31', 'IDEIA', 'Exame/IDEIA', 'Presidente',2, 'PT', 'Lula', 31, 3, 95, 1235, 27, None, 'Bolsonaro x Lula',  'CATI', 'Se a eleição fosse hoje, você votaria em qaul dos candidatos?'),\n",
    "('2020-08-24', '2020-08-31', 'IDEIA', 'Exame/IDEIA', 'Presidente',2, '(Sem partido)', 'Jair Bolsonaro', 42, 3, 95, 1235, 27, None, 'Bolsonaro x Lula',  'CATI', 'Se a eleição fosse hoje, você votaria em qaul dos candidatos?'),\n",
    "('2020-08-24', '2020-08-31', 'IDEIA', 'Exame/IDEIA', 'Presidente',2, None, 'Branco/Nulo',21, 3, 95, 1235, 27, None, 'Bolsonaro x Lula',  'CATI', 'Se a eleição fosse hoje, você votaria em qaul dos candidatos?'),\n",
    "('2020-08-24', '2020-08-31', 'IDEIA', 'Exame/IDEIA', 'Presidente',2, None, 'NS/NR', 6, 3, 95, 1235, 27, None, 'Bolsonaro x Lula',  'CATI', 'Se a eleição fosse hoje, você votaria em qaul dos candidatos?'),\n",
    "('2020-08-24', '2020-08-31', 'IDEIA', 'Exame/IDEIA', 'Presidente',2, '(Sem partido)', 'Sérgio Moro', 31, 3, 95, 1235, 27, None, 'Bolsonaro x Moro',  'CATI', 'Se a eleição fosse hoje, você votaria em qaul dos candidatos?'),\n",
    "('2020-08-24', '2020-08-31', 'IDEIA', 'Exame/IDEIA', 'Presidente',2, '(Sem partido)', 'Jair Bolsonaro', 38, 3, 95, 1235, 27, None, 'Bolsonaro x Moro',  'CATI', 'Se a eleição fosse hoje, você votaria em qaul dos candidatos?'),\n",
    "('2020-08-24', '2020-08-31', 'IDEIA', 'Exame/IDEIA', 'Presidente',2, None, 'Branco/Nulo',23, 3, 95, 1235, 27, None, 'Bolsonaro x Moro',  'CATI', 'Se a eleição fosse hoje, você votaria em qaul dos candidatos?'),\n",
    "('2020-08-24', '2020-08-31', 'IDEIA', 'Exame/IDEIA', 'Presidente',2, None, 'NS/NR', 8, 3, 95, 1235, 27, None, 'Bolsonaro x Moro',  'CATI', 'Se a eleição fosse hoje, você votaria em qaul dos candidatos?'),\n",
    "]"
   ]
  },
  {
   "cell_type": "code",
   "execution_count": 129,
   "metadata": {},
   "outputs": [
    {
     "output_type": "stream",
     "name": "stdout",
     "text": [
      "Banco: pollingpoint.db\nSQLite version: 3.34.0\nTotal de pesquisas registradas: 251\n"
     ]
    }
   ],
   "source": [
    "con = IntencaoDb()\n",
    "\n",
    "con.contar_pesquisas()"
   ]
  },
  {
   "cell_type": "code",
   "execution_count": 131,
   "metadata": {},
   "outputs": [
    {
     "output_type": "stream",
     "name": "stdout",
     "text": [
      "Dados inseridos da lista com sucesso: 8 registros.\nTotal de pesquisas registradas: 271\n"
     ]
    }
   ],
   "source": [
    "# Executar \n",
    "con.inserir_de_lista(lista = Ideia2)\n",
    "\n",
    "con.contar_pesquisas()"
   ]
  },
  {
   "cell_type": "code",
   "execution_count": 132,
   "metadata": {},
   "outputs": [
    {
     "output_type": "stream",
     "name": "stdout",
     "text": [
      "Backup realizado com sucesso.\nSalvo como sql/pollingpoint_bkp.sql\nConexão fechada.\n"
     ]
    }
   ],
   "source": [
    "con.backup()\n",
    "\n",
    "con.fechar_conexao()"
   ]
  },
  {
   "cell_type": "code",
   "execution_count": null,
   "metadata": {},
   "outputs": [],
   "source": [
    "INSERT INTO \"intencao\" VALUES((SELECT IFNULL(MAX(id), 0) + 1 FROM intencao),'2021-03-08', '2021-03-10', 'Atlas', 'Atlas', 'Presidente',1, 'PDT', 'Ciro Gomes', 7.5, 3, 95, 3721, 27, NULL, 'Intenção',  'Online', 'Se esses fossem os candidatos, em quem você votaria nas próximas eleições presidenciais?','2021-06-16 21:59:21');\n"
   ]
  },
  {
   "cell_type": "code",
   "execution_count": 10,
   "metadata": {},
   "outputs": [],
   "source": [
    "\n",
    "\n",
    "Atlas1 = [('2021-03-08', '2021-03-10', 'Atlas', 'Atlas', 'Presidente',1, 'PT', 'Lula', 24.4, 3, 95, 3721, 27, None, 'Intenção',  'Online', 'Se esses fossem os candidatos, em quem você votaria nas próximas eleições presidenciais?'),\n",
    "('2021-03-08', '2021-03-10', 'Atlas', 'Atlas', 'Presidente',1, '(Sem partido)', 'Jair Bolsonaro', 32.7, 3, 95, 3721, 27, None, 'Intenção',  'Online', 'Se esses fossem os candidatos, em quem você votaria nas próximas eleições presidenciais?'),\n",
    "('2021-03-08', '2021-03-10', 'Atlas', 'Atlas', 'Presidente',1, 'PDT', 'Ciro Gomes', 7.5, 3, 95, 3721, 27, None, 'Intenção',  'CATI', 'Se esses fossem os candidatos, em quem você votaria nas próximas eleições presidenciais?'),\n",
    "('2021-03-08', '2021-03-101', 'Atlas', 'Atlas', 'Presidente',1, '(Sem partido)', 'Sérgio Moro', 9.7, 3, 95, 3721, 27, None, 'Intenção',  'Online', 'Se esses fossem os candidatos, em quem você votaria nas próximas eleições presidenciais?'),\n",
    "('2021-03-08', '2021-03-10', 'Atlas', 'Atlas', 'Presidente',1, '(Sem partido)', 'Luciano Huck', 2.5, 3, 95, 3721, 27, None, 'Intenção',  'Online', 'Se esses fossem os candidatos, em quem você votaria nas próximas eleições presidenciais?'),\n",
    "('2021-03-08', '2021-03-10', 'Atlas', 'Atlas', 'Presidente',1, 'PSDB', 'João Doria', 4.3, 3, 95, 3721, 27, None, 'Intenção',  'CATI', 'Se esses fossem os candidatos, em quem você votaria nas próximas eleições presidenciais?'),\n",
    "('2021-03-08', '2021-03-10', 'Atlas', 'Atlas', 'Presidente',1, 'DEM', 'Henrique Mandetta', 4.4, 3, 95, 3721, 27, None, 'Intenção',  'Online', 'Se esses fossem os candidatos, em quem você votaria nas próximas eleições presidenciais?'),\n",
    "('2021-03-08', '2021-03-10', 'Atlas', 'Atlas', 'Presidente',1, 'NOVO', 'João Amoêdo', 2, 3, 95, 3721, 27, None, 'Intenção',  'CATI', 'Se esses fossem os candidatos, em quem você votaria nas próximas eleições presidenciais?'),\n",
    "('2021-03-08', '2021-03-10', 'Atlas', 'Atlas', 'Presidente',1, 'PSOL', 'Guilherme Boulos', 0.9, 3, 95, 3721, 27, None, 'Intenção',  'Online', 'Se esses fossem os candidatos, em quem você votaria nas próximas eleições presidenciais?'),\n",
    "('2021-03-08', '2021-03-10', 'Atlas', 'Atlas', 'Presidente',1, 'PSD', 'Alexandre Kalil', 0.7, 3, 95, 3721, 27, None, 'Intenção',  'Online', 'Se esses fossem os candidatos, em quem você votaria nas próximas eleições presidenciais?'),\n",
    "('2021-03-08', '2021-03-10', 'Atlas', 'Atlas', 'Presidente',1, 'REDE', 'Marina Silva', 1.3, 3, 95, 3721, 27, None, 'Intenção',  'Online', 'Se esses fossem os candidatos, em quem você votaria nas próximas eleições presidenciais?'),\n",
    "('2021-03-08', '2021-03-10', 'Atlas', 'Atlas', 'Presidente',1, 'PcdoB', 'Flavio Dino', 0.7, 3, 95, 3721, 27, None, 'Intenção',  'Online', 'Se esses fossem os candidatos, em quem você votaria nas próximas eleições presidenciais?'),\n",
    "('2021-03-08', '2021-03-10', 'Atlas', 'Atlas', 'Presidente',1, None, 'Branco/Nulo/NS/NR', 6.1, 3, 95, 3721, 27, None, 'Intenção',  'Online', 'Se esses fossem os candidatos, em quem você votaria nas próximas eleições presidenciais?'),\n",
    "]\n",
    "\n",
    "\n",
    "\n",
    "\n",
    "\n",
    "\n",
    "\n",
    "Atlas2 = [('2021-03-08', '2021-03-10', 'Atlas', 'Atlas', 'Presidente',1, 'PT', 'Fernando Haddad', 15.7, 3, 95, 3721, 27, None, 'Intenção',  'Online', 'Se esses fossem os candidatos, em quem você votaria nas próximas eleições presidenciais?'),\n",
    "('2021-03-08', '2021-03-10', 'Atlas', 'Atlas', 'Presidente',1, '(Sem partido)', 'Jair Bolsonaro', 32.3, 3, 95, 3721, 27, None, 'Intenção',  'Online', 'Se esses fossem os candidatos, em quem você votaria nas próximas eleições presidenciais?'),\n",
    "('2021-03-08', '2021-03-10', 'Atlas', 'Atlas', 'Presidente',1, 'PDT', 'Ciro Gomes', 11.6, 3, 95, 3721, 27, None, 'Intenção',  'CATI', 'Se esses fossem os candidatos, em quem você votaria nas próximas eleições presidenciais?'),\n",
    "('2021-03-08', '2021-03-101', 'Atlas', 'Atlas', 'Presidente',1, '(Sem partido)', 'Sérgio Moro', 10.4, 3, 95, 3721, 27, None, 'Intenção',  'Online', 'Se esses fossem os candidatos, em quem você votaria nas próximas eleições presidenciais?'),\n",
    "('2021-03-08', '2021-03-10', 'Atlas', 'Atlas', 'Presidente',1, '(Sem partido)', 'Luciano Huck', 4.4, 3, 95, 3721, 27, None, 'Intenção',  'Online', 'Se esses fossem os candidatos, em quem você votaria nas próximas eleições presidenciais?'),\n",
    "('2021-03-08', '2021-03-10', 'Atlas', 'Atlas', 'Presidente',1, 'PSDB', 'João Doria', 5.3, 3, 95, 3721, 27, None, 'Intenção',  'CATI', 'Se esses fossem os candidatos, em quem você votaria nas próximas eleições presidenciais?'),\n",
    "('2021-03-08', '2021-03-10', 'Atlas', 'Atlas', 'Presidente',1, 'DEM', 'Henrique Mandetta', 5.2, 3, 95, 3721, 27, None, 'Intenção',  'Online', 'Se esses fossem os candidatos, em quem você votaria nas próximas eleições presidenciais?'),\n",
    "('2021-03-08', '2021-03-10', 'Atlas', 'Atlas', 'Presidente',1, 'NOVO', 'João Amoêdo', 2.5, 3, 95, 3721, 27, None, 'Intenção',  'Online', 'Se esses fossem os candidatos, em quem você votaria nas próximas eleições presidenciais?'),\n",
    "('2021-03-08', '2021-03-10', 'Atlas', 'Atlas', 'Presidente',1, 'PSOL', 'Guilherme Boulos', 2.3, 3, 95, 3721, 27, None, 'Intenção',  'Online', 'Se esses fossem os candidatos, em quem você votaria nas próximas eleições presidenciais?'),\n",
    "('2021-03-08', '2021-03-10', 'Atlas', 'Atlas', 'Presidente',1, 'PSD', 'Alexandre Kalil', 0.8, 3, 95, 3721, 27, None, 'Intenção',  'Online', 'Se esses fossem os candidatos, em quem você votaria nas próximas eleições presidenciais?'),\n",
    "('2021-03-08', '2021-03-10', 'Atlas', 'Atlas', 'Presidente',1, 'REDE', 'Marina Silva', 1.3, 3, 95, 3721, 27, None, 'Intenção',  'Online', 'Se esses fossem os candidatos, em quem você votaria nas próximas eleições presidenciais?'),\n",
    "('2021-03-08', '2021-03-10', 'Atlas', 'Atlas', 'Presidente',1, 'PcdoB', 'Flavio Dino', 1.3, 3, 95, 3721, 27, None, 'Intenção',  'Online', 'Se esses fossem os candidatos, em quem você votaria nas próximas eleições presidenciais?'),\n",
    "('2021-03-08', '2021-03-10', 'Atlas', 'Atlas', 'Presidente',1, None, 'Branco/Nulo/NS/NR', 7.1, 3, 95, 3721, 27, None, 'Intenção',  'Online', 'Se esses fossem os candidatos, em quem você votaria nas próximas eleições presidenciais?'),\n",
    "]\n",
    "\n",
    "\n",
    "\n",
    "\n",
    "\n",
    "Atlas3 = [('2021-03-08', '2021-03-10', 'Atlas', 'Atlas', 'Presidente',2, 'PT', 'Fernando Haddad', 43.0, 3, 95, 3721, 27, None, 'Bolsonaro x Haddad',  'Online', 'Se esses fossem os candidatos, em quem você votaria no 2o turno das próximas eleições presidenciais?'),\n",
    "('2021-03-08', '2021-03-10', 'Atlas', 'Atlas', 'Presidente',2, '(Sem partido)', 'Jair Bolsonaro', 39.4, 3, 95, 3721, 27, None, 'Bolsonaro x Haddad',   'Online', 'Se esses fossem os candidatos, em quem você votaria no 2o turno das próximas eleições presidenciais?'),\n",
    "('2021-03-08', '2021-03-10', 'Atlas', 'Atlas', 'Presidente',2, None, 'Branco/Nulo/NS/NR', 17.6, 3, 95, 3721, 27, None, 'Bolsonaro x Haddad',   'Online', 'Se esses fossem os candidatos, em quem você votaria no 2o turno das próximas eleições presidenciais?'),\n",
    "('2021-03-08', '2021-03-10', 'Atlas', 'Atlas', 'Presidente',2, 'PT', 'Lula', 44.9, 3, 95, 3721, 27, None, 'Bolsonaro x Lula', 'Online', 'Se esses fossem os candidatos, em quem você votaria no 2o turno das próximas eleições presidenciais?'),\n",
    "('2021-03-08', '2021-03-10', 'Atlas', 'Atlas', 'Presidente',2, '(Sem partido)', 'Jair Bolsonaro', 38.8, 3, 95, 3721, 27, None, 'Bolsonaro x Lula',   'Online', 'Se esses fossem os candidatos, em quem você votaria no 2o turno das próximas eleições presidenciais?'),\n",
    "('2021-03-08', '2021-03-10', 'Atlas', 'Atlas', 'Presidente',2, None, 'Branco/Nulo/NS/NR', 16.3, 3, 95, 3721, 27, None, 'Bolsonaro x Lula', 'Online', 'Se esses fossem os candidatos, em quem você votaria no 2o turno das próximas eleições presidenciais?'),\n",
    "('2021-03-08', '2021-03-10', 'Atlas', 'Atlas', 'Presidente',2, 'PSDB', 'João Doria', 39.3, 3, 95, 3721, 27, None, 'Bolsonaro x Doria', 'Online', 'Se esses fossem os candidatos, em quem você votaria no 2o turno das próximas eleições presidenciais?'),\n",
    "('2021-03-08', '2021-03-10', 'Atlas', 'Atlas', 'Presidente',2, '(Sem partido)', 'Jair Bolsonaro', 39.8, 3, 95, 3721, 27, None, 'Bolsonaro x Doria',   'Online', 'Se esses fossem os candidatos, em quem você votaria no 2o turno das próximas eleições presidenciais?'),\n",
    "('2021-03-08', '2021-03-10', 'Atlas', 'Atlas', 'Presidente',2, None, 'Branco/Nulo/NS/NR', 20.9, 3, 95, 3721, 27, None, 'Bolsonaro x Doria',   'Online', 'Se esses fossem os candidatos, em quem você votaria no 2o turno das próximas eleições presidenciais?'),\n",
    "('2021-03-08', '2021-03-10', 'Atlas', 'Atlas', 'Presidente',2, 'DEM', 'Henrique Mandetta', 46.6, 3, 95, 3721, 27, None, 'Bolsonaro x Mandetta',  'Online', 'Se esses fossem os candidatos, em quem você votaria no 2o turno das próximas eleições presidenciais?'),\n",
    "('2021-03-08', '2021-03-10', 'Atlas', 'Atlas', 'Presidente',2, '(Sem partido)', 'Jair Bolsonaro', 36.9, 3, 95, 3721, 27, None, 'Bolsonaro x Mandetta', 'Online', 'Se esses fossem os candidatos, em quem você votaria no 2o turno das próximas eleições presidenciais?'),\n",
    "('2021-03-08', '2021-03-10', 'Atlas', 'Atlas', 'Presidente',2, None, 'Branco/Nulo/NS/NR', 16.5, 3, 95, 3721, 27, None, 'Bolsonaro x Mandetta',   'Online', 'Se esses fossem os candidatos, em quem você votaria no 2o turno das próximas eleições presidenciais?'),\n",
    "('2021-03-08', '2021-03-10', 'Atlas', 'Atlas', 'Presidente',2, 'PDT', 'Ciro Gomes', 44.7, 3, 95, 3721, 27, None, 'Bolsonaro x Ciro', 'Online', 'Se esses fossem os candidatos, em quem você votaria no 2o turno das próximas eleições presidenciais?'),\n",
    "('2021-03-08', '2021-03-10', 'Atlas', 'Atlas', 'Presidente',2, '(Sem partido)', 'Jair Bolsonaro', 37.5, 3, 95, 3721, 27, None, 'Bolsonaro x Ciro',   'Online', 'Se esses fossem os candidatos, em quem você votaria no 2o turno das próximas eleições presidenciais?'),\n",
    "('2021-03-08', '2021-03-10', 'Atlas', 'Atlas', 'Presidente',2, None, 'Branco/Nulo/NS/NR', 17.8, 3, 95, 3721, 27, None, 'Bolsonaro x Ciro', 'Online', 'Se esses fossem os candidatos, em quem você votaria no 2o turno das próximas eleições presidenciais?'),\n",
    "('2021-03-08', '2021-03-10', 'Atlas', 'Atlas', 'Presidente',2, 'REDE', 'Marina Silva', 36.1, 3, 95, 3721, 27, None, 'Bolsonaro x Marina', 'Online', 'Se esses fossem os candidatos, em quem você votaria no 2o turno das próximas eleições presidenciais?'),\n",
    "('2021-03-08', '2021-03-10', 'Atlas', 'Atlas', 'Presidente',2, '(Sem partido)', 'Jair Bolsonaro', 37.1, 3, 95, 3721, 27, None, 'Bolsonaro x Marina',   'Online', 'Se esses fossem os candidatos, em quem você votaria no 2o turno das próximas eleições presidenciais?'),\n",
    "('2021-03-08', '2021-03-10', 'Atlas', 'Atlas', 'Presidente',2, None, 'Branco/Nulo/NS/NR', 26.8, 3, 95, 3721, 27, None, 'Bolsonaro x Marina',   'Online', 'Se esses fossem os candidatos, em quem você votaria no 2o turno das próximas eleições presidenciais?'),\n",
    "('2021-03-08', '2021-03-10', 'Atlas', 'Atlas', 'Presidente',2, '(Sem partido)', 'Sérgio Moro', 33.1, 3, 95, 3721, 27, None, 'Bolsonaro x Moro',  'Online', 'Se esses fossem os candidatos, em quem você votaria no 2o turno das próximas eleições presidenciais?'),\n",
    "('2021-03-08', '2021-03-10', 'Atlas', 'Atlas', 'Presidente',2, '(Sem partido)', 'Jair Bolsonaro', 34.3, 3, 95, 3721, 27, None, 'Bolsonaro x Moro',   'Online', 'Se esses fossem os candidatos, em quem você votaria no 2o turno das próximas eleições presidenciais?'),\n",
    "('2021-03-08', '2021-03-10', 'Atlas', 'Atlas', 'Presidente',2, None, 'Branco/Nulo/NS/NR', 30.2, 3, 95, 3721, 27, None, 'Bolsonaro x Moro', 'Online', 'Se esses fossem os candidatos, em quem você votaria no 2o turno das próximas eleições presidenciais?'),\n",
    "('2021-03-08', '2021-03-10', 'Atlas', 'Atlas', 'Presidente',2, '(Sem partido)', 'Luciano Huck', 32.5, 3, 95, 3721, 27, None, 'Bolsonaro x Huck',  'Online', 'Se esses fossem os candidatos, em quem você votaria no 2o turno das próximas eleições presidenciais?'),\n",
    "('2021-03-08', '2021-03-10', 'Atlas', 'Atlas', 'Presidente',2, '(Sem partido)', 'Jair Bolsonaro', 37.3, 3, 95, 3721, 27, None, 'Bolsonaro x Huck',   'Online', 'Se esses fossem os candidatos, em quem você votaria no 2o turno das próximas eleições presidenciais?'),\n",
    "('2021-03-08', '2021-03-10', 'Atlas', 'Atlas', 'Presidente',2, None, 'Branco/Nulo/NS/NR', 30.2, 3, 95, 3721, 27, None, 'Bolsonaro x Huck', 'Online', 'Se esses fossem os candidatos, em quem você votaria no 2o turno das próximas eleições presidenciais?'),\n",
    "]\n",
    "\n",
    "\n",
    "\n",
    "Atlas4 = [('2021-03-08', '2021-03-10', 'Atlas', 'Atlas', 'Presidente',1, 'PT', 'Lula', 36, 3, 95, 3721, 27, None, 'Potencial positivo',  'Online', 'Você tem uma imagem positiva ou negativa desses candidatos?'),\n",
    "('2021-03-08', '2021-03-10', 'Atlas', 'Atlas', 'Presidente',1, 'PT', 'Lula', 6, 3, 95, 3721, 27, None, 'Potencial neutro', 'Online', 'Você tem uma imagem positiva ou negativa desses candidatos?'),\n",
    "('2021-03-08', '2021-03-10', 'Atlas', 'Atlas', 'Presidente',1, 'PT', 'Lula', 58, 3, 95, 3721, 27, None, 'Potencial negativo', 'Online', 'Você tem uma imagem positiva ou negativa desses candidatos?'),\n",
    "('2021-03-08', '2021-03-10', 'Atlas', 'Atlas', 'Presidente',1, '(Sem partido)', 'Jair Bolsonaro', 36, 3, 95, 3721, 27, None, 'Potencial positivo', 'Online','Você tem uma imagem positiva ou negativa desses candidatos?'),\n",
    "('2021-03-08', '2021-03-10', 'Atlas', 'Atlas', 'Presidente',1, '(Sem partido)', 'Jair Bolsonaro', 4, 3, 95, 3721, 27, None, 'Potencial neutro', 'Online', 'Você tem uma imagem positiva ou negativa desses candidatos?'),\n",
    "('2021-03-08', '2021-03-10', 'Atlas', 'Atlas', 'Presidente',1, '(Sem partido)', 'Jair Bolsonaro', 60, 3, 95, 3721, 27, None, 'Potencial negativo','Online', 'Você tem uma imagem positiva ou negativa desses candidatos?'),\n",
    "('2021-03-08', '2021-03-10', 'Atlas', 'Atlas', 'Presidente',1, 'PT', 'Fernando Haddad', 30, 3, 95, 3721, 27, None, 'Potencial positivo', 'Online','Você tem uma imagem positiva ou negativa desses candidatos?'),\n",
    "('2021-03-08', '2021-03-10', 'Atlas', 'Atlas', 'Presidente',1, 'PT', 'Fernando Haddad', 13, 3, 95, 3721, 27, None, 'Potencial neutro', 'Online','Você tem uma imagem positiva ou negativa desses candidatos?'),\n",
    "('2021-03-08', '2021-03-10', 'Atlas', 'Atlas', 'Presidente',1, 'PT', 'Fernando Haddad', 57, 3, 95, 3721, 27, None, 'Potencial negativo', 'Online','Você tem uma imagem positiva ou negativa desses candidatos?'),\n",
    "('2021-03-08', '2021-03-10', 'Atlas', 'Atlas', 'Presidente',1, '(Sem partido)', 'Sérgio Moro', 24, 3, 95, 3721, 27, None, 'Potencial positivo','Online', 'Você tem uma imagem positiva ou negativa desses candidatos?'),\n",
    "('2021-03-08', '2021-03-10', 'Atlas', 'Atlas', 'Presidente',1, '(Sem partido)', 'Sérgio Moro', 13, 3, 95, 3721, 27, None, 'Potencial neutro', 'Online','Você tem uma imagem positiva ou negativa desses candidatos?'),\n",
    "('2021-03-08', '2021-03-10', 'Atlas', 'Atlas', 'Presidente',1, '(Sem partido)', 'Sérgio Moro', 63, 3, 95, 3721, 27, None, 'Potencial negativo', 'Online','Você tem uma imagem positiva ou negativa desses candidatos?'),\n",
    "('2021-03-08', '2021-03-10', 'Atlas', 'Atlas', 'Presidente',1, 'PDT', 'Ciro Gomes', 26, 3, 95, 3721, 27, None,  'Potencial positivo', 'Online','Você tem uma imagem positiva ou negativa desses candidatos?'),\n",
    "('2021-03-08', '2021-03-10', 'Atlas', 'Atlas', 'Presidente',1, 'PDT', 'Ciro Gomes', 20, 3, 95, 3721, 27, None, 'Potencial neutro', 'Online','Você tem uma imagem positiva ou negativa desses candidatos?'),\n",
    "('2021-03-08', '2021-03-10', 'Atlas', 'Atlas', 'Presidente',1, 'PDT', 'Ciro Gomes', 54, 3, 95, 3721, 27, None, 'Potencial negativo', 'Online','Você tem uma imagem positiva ou negativa desses candidatos?'),\n",
    "('2021-03-08', '2021-03-10', 'Atlas', 'Atlas', 'Presidente',1, 'PSDB', 'João Doria', 25, 3, 95, 3721, 27, None, 'Potencial positivo', 'Online','Você tem uma imagem positiva ou negativa desses candidatos?'),\n",
    "('2021-03-08', '2021-03-10', 'Atlas', 'Atlas', 'Presidente',1, 'PSDB', 'João Doria', 15, 3, 95, 3721, 27, None, 'Potencial neutro', 'Online', 'Você tem uma imagem positiva ou negativa desses candidatos?'),\n",
    "('2021-03-08', '2021-03-10', 'Atlas', 'Atlas', 'Presidente',1, 'PSDB', 'João Doria', 60, 3, 95, 3721, 27, None, 'Potencial negativo','Online', 'Você tem uma imagem positiva ou negativa desses candidatos?'),\n",
    "('2021-03-08', '2021-03-10', 'Atlas', 'Atlas', 'Presidente',1, 'DEM', 'Henrique Mandetta', 40, 3, 95, 3721, 27, None, 'Potencial positivo','Online', 'Você tem uma imagem positiva ou negativa desses candidatos?'),\n",
    "('2021-03-08', '2021-03-10', 'Atlas', 'Atlas', 'Presidente',1, 'DEM', 'Henrique Mandetta', 20, 3, 95, 3721, 27, None, 'Potencial neutro', 'Online','Você tem uma imagem positiva ou negativa desses candidatos?'),\n",
    "('2021-03-08', '2021-03-10', 'Atlas', 'Atlas', 'Presidente',1, 'DEM', 'Henrique Mandetta', 40, 3, 95, 3721, 27, None, 'Potencial negativo', 'Online','Você tem uma imagem positiva ou negativa desses candidatos?'),\n",
    "('2021-03-08', '2021-03-10', 'Atlas', 'Atlas', 'Presidente',1, '(Sem partido)', 'Luciano Huck', 20, 3, 95, 3721, 27, None, 'Potencial positivo', 'Online','Você tem uma imagem positiva ou negativa desses candidatos?'),\n",
    "('2021-03-08', '2021-03-10', 'Atlas', 'Atlas', 'Presidente',1, '(Sem partido)', 'Luciano Huck', 23, 3, 95, 3721, 27, None, 'Potencial neutro', 'Online','Você tem uma imagem positiva ou negativa desses candidatos?'),\n",
    "('2021-03-08', '2021-03-10', 'Atlas', 'Atlas', 'Presidente',1, '(Sem partido)', 'Luciano Huck', 57, 3, 95, 3721, 27, None, 'Potencial negativo','Online', 'Você tem uma imagem positiva ou negativa desses candidatos?'),\n",
    "('2021-03-08', '2021-03-10', 'Atlas', 'Atlas', 'Presidente',1, 'NOVO', 'João Amoêdo', 13, 3, 95, 3721, 27, None,  'Potencial positivo', 'Online','Você tem uma imagem positiva ou negativa desses candidatos?'),\n",
    "('2021-03-08', '2021-03-10', 'Atlas', 'Atlas', 'Presidente',1, 'NOVO', 'João Amoêdo', 48, 3, 95, 3721, 27, None, 'Potencial neutro', 'Online','Você tem uma imagem positiva ou negativa desses candidatos?'),\n",
    "('2021-03-08', '2021-03-10', 'Atlas', 'Atlas', 'Presidente',1, 'NOVO', 'João Amoêdo', 39, 3, 95, 3721, 27, None, 'Potencial negativo', 'Online','Você tem uma imagem positiva ou negativa desses candidatos?'),\n",
    "('2021-03-08', '2021-03-10', 'Atlas', 'Atlas', 'Presidente',1, 'REDE', 'Marina Silva', 23, 3, 95, 3721, 27, None, 'Potencial positivo', 'Online','Você tem uma imagem positiva ou negativa desses candidatos?'),\n",
    "('2021-03-08', '2021-03-10', 'Atlas', 'Atlas', 'Presidente',1, 'REDE', 'Marina Silva', 23, 3, 95, 3721, 27, None, 'Potencial neutro', 'Online','Você tem uma imagem positiva ou negativa desses candidatos?'),\n",
    "('2021-03-08', '2021-03-10', 'Atlas', 'Atlas', 'Presidente',1, 'REDE', 'Marina Silva', 54, 3, 95, 3721, 27, None, 'Potencial negativo','Online', 'Você tem uma imagem positiva ou negativa desses candidatos?'),\n",
    "('2021-03-08', '2021-03-10', 'Atlas', 'Atlas', 'Presidente',1, 'PcdoB', 'Flavio Dino', 17, 3, 95, 3721, 27, None, 'Potencial positivo', 'Online','Você tem uma imagem positiva ou negativa desses candidatos?'),\n",
    "('2021-03-08', '2021-03-10', 'Atlas', 'Atlas', 'Presidente',1, 'PcdoB', 'Flavio Dino', 47, 3, 95, 3721, 27, None, 'Potencial neutro', 'Online','Você tem uma imagem positiva ou negativa desses candidatos?'),\n",
    "('2021-03-08', '2021-03-10', 'Atlas', 'Atlas', 'Presidente',1, 'PcdoB', 'Flavio Dino', 36, 3, 95, 3721, 27, None, 'Potencial negativo', 'Online','Você tem uma imagem positiva ou negativa desses candidatos?'),\n",
    "('2021-03-08', '2021-03-10', 'Atlas', 'Atlas', 'Presidente',1, 'DEM', 'Rodrigo Maia', 14, 3, 95, 3721, 27, None, 'Potencial positivo', 'Online','Você tem uma imagem positiva ou negativa desses candidatos?'),\n",
    "('2021-03-08', '2021-03-10', 'Atlas', 'Atlas', 'Presidente',1, 'DEM', 'Rodrigo Maia', 15, 3, 95, 3721, 27, None, 'Potencial neutro', 'Online','Você tem uma imagem positiva ou negativa desses candidatos?'),\n",
    "('2021-03-08', '2021-03-10', 'Atlas', 'Atlas', 'Presidente',1, 'DEM', 'Rodrigo Maia', 71, 3, 95, 3721, 27, None, 'Potencial negativo','Online', 'Você tem uma imagem positiva ou negativa desses candidatos?'),\n",
    "('2021-03-08', '2021-03-10', 'Atlas', 'Atlas', 'Presidente',1, 'PRTB', 'Hamilton Mourão', 32, 3, 95, 3721, 27, None, 'Potencial positivo', 'Online','Você tem uma imagem positiva ou negativa desses candidatos?'),\n",
    "('2021-03-08', '2021-03-10', 'Atlas', 'Atlas', 'Presidente',1, 'PRTB', 'Hamilton Mourão', 25, 3, 95, 3721, 27, None, 'Potencial neutro', 'Online','Você tem uma imagem positiva ou negativa desses candidatos?'),\n",
    "('2021-03-08', '2021-03-10', 'Atlas', 'Atlas', 'Presidente',1, 'PRTB', 'Hamilton Mourão', 43, 3, 95, 3721, 27, None, 'Potencial negativo', 'Online','Você tem uma imagem positiva ou negativa desses candidatos?'),\n",
    "('2021-03-08', '2021-03-10', 'Atlas', 'Atlas', 'Presidente',1, '(Sem partido)', 'Paulo Guedes', 34, 3, 95, 3721, 27, None, 'Potencial positivo', 'Online','Você tem uma imagem positiva ou negativa desses candidatos?'),\n",
    "('2021-03-08', '2021-03-10', 'Atlas', 'Atlas', 'Presidente',1, '(Sem partido)', 'Paulo Guedes', 15, 3, 95, 3721, 27, None, 'Potencial neutro', 'Online','Você tem uma imagem positiva ou negativa desses candidatos?'),\n",
    "('2021-03-08', '2021-03-10', 'Atlas', 'Atlas', 'Presidente',1, '(Sem partido)', 'Paulo Guedes', 51, 3, 95, 3721, 27, None, 'Potencial negativo', 'Online','Você tem uma imagem positiva ou negativa desses candidatos?'),\n",
    "]"
   ]
  },
  {
   "cell_type": "code",
   "execution_count": null,
   "metadata": {},
   "outputs": [],
   "source": []
  },
  {
   "cell_type": "code",
   "execution_count": 49,
   "metadata": {},
   "outputs": [
    {
     "output_type": "stream",
     "name": "stdout",
     "text": [
      "Banco: pollingpoint.db\nSQLite version: 3.34.0\nTotal de pesquisas registradas: 308\n"
     ]
    }
   ],
   "source": [
    "con = IntencaoDb()\n",
    "\n",
    "con.contar_pesquisas()"
   ]
  },
  {
   "source": [
    "# Executar \n",
    "con.inserir_de_lista(lista = Atlas4)\n",
    "\n",
    "con.contar_pesquisas()"
   ],
   "cell_type": "code",
   "metadata": {},
   "execution_count": 11,
   "outputs": [
    {
     "output_type": "stream",
     "name": "stdout",
     "text": [
      "Dados inseridos da lista com sucesso: 42 registros.\nTotal de pesquisas registradas: 351\n"
     ]
    }
   ]
  },
  {
   "cell_type": "code",
   "execution_count": 12,
   "metadata": {},
   "outputs": [
    {
     "output_type": "stream",
     "name": "stdout",
     "text": [
      "Backup realizado com sucesso.\nSalvo como sql/pollingpoint_bkp.sql\nConexão fechada.\n"
     ]
    }
   ],
   "source": [
    "con.backup()\n",
    "\n",
    "con.fechar_conexao()"
   ]
  },
  {
   "cell_type": "code",
   "execution_count": null,
   "metadata": {},
   "outputs": [],
   "source": []
  },
  {
   "cell_type": "code",
   "execution_count": 100,
   "metadata": {},
   "outputs": [],
   "source": [
    "Ranking = [('2021-06-01', '2021-06-04', 'Ranking Brasil', 'Ranking Brasil', 'Presidente',1, 'PT', 'Lula', 32.07, 2.5, 95, 3000, 25, 163, 'Intenção',  'CATI', 'Se a eleição fosse hoje, em qual dos candidatos que vou falar você votaria?'),\n",
    "('2021-06-01', '2021-06-04', 'Ranking Brasil', 'Ranking Brasil', 'Presidente',1, '(Sem partido)', 'Jair Bolsonaro', 27.33, 2.5, 95, 3000, 25, 163, 'Intenção',  'CATI', 'Se a eleição fosse hoje, em qual dos candidatos que vou falar você votaria?'),\n",
    "('2021-06-01', '2021-06-04', 'Ranking Brasil', 'Ranking Brasil', 'Presidente',1, 'PDT', 'Ciro Gomes', 4.33, 2.5, 95, 3000, 25, 163, 'Intenção',  'CATI', 'Se a eleição fosse hoje, em qual dos candidatos que vou falar você votaria?'),\n",
    "('2021-06-01', '2021-06-04', 'Ranking Brasil', 'Ranking Brasil', 'Presidente',1, '(Sem partido)', 'Sérgio Moro', 4.07, 2.5, 95, 3000, 25, 163, 'Intenção',  'CATI', 'Se a eleição fosse hoje, em qual dos candidatos que vou falar você votaria?'),\n",
    "('2021-06-01', '2021-06-04', 'Ranking Brasil', 'Ranking Brasil', 'Presidente',1, 'PSDB', 'João Doria', 3.27, 2.5, 95, 3000, 25, 163, 'Intenção',  'CATI', 'Se a eleição fosse hoje, em qual dos candidatos que vou falar você votaria?'),\n",
    "('2021-06-01', '2021-06-04', 'Ranking Brasil', 'Ranking Brasil', 'Presidente',1, '(Sem partido)', 'Luciano Huck', 3.07, 2.5, 95, 3000, 25, '163', 'Intenção',  'CATI', 'Se a eleição fosse hoje, em qual dos candidatos que vou falar você votaria?'),\n",
    "('2021-06-01', '2021-06-04', 'Ranking Brasil', 'Ranking Brasil', 'Presidente',1, 'DEM', 'Henrique Mandetta', 2.10, 2.5, 95, 3000, 25, 163, 'Intenção',  'CATI', 'Se a eleição fosse hoje, em qual dos candidatos que vou falar você votaria?'),\n",
    "('2021-06-01', '2021-06-04', 'Ranking Brasil', 'Ranking Brasil', 'Presidente',1, 'MDB', 'Michel Temer', 1.67, 2.5, 95, 3000, 25, 163, 'Intenção',  'CATI', 'Se a eleição fosse hoje, em qual dos candidatos que vou falar você votaria?'),\n",
    "('2021-06-01', '2021-06-04', 'Ranking Brasil', 'Ranking Brasil', 'Presidente',1, 'NOVO', 'João Amoêdo', 1.53, 2.5, 95, 3000, 25, 163, 'Intenção',  'CATI', 'Se a eleição fosse hoje, em qual dos candidatos que vou falar você votaria?'),\n",
    "('2021-06-01', '2021-06-04', 'Ranking Brasil', 'Ranking Brasil', 'Presidente',1, 'PSOL', 'Guilherme Boulos', 1.17, 2.5, 95, 3000, 25, 163, 'Intenção',  'CATI', 'Se a eleição fosse hoje, em qual dos candidatos que vou falar você votaria?'), \n",
    "('2021-06-01', '2021-06-04', 'Ranking Brasil', 'Ranking Brasil', 'Presidente',1, 'REDE', 'Marina Silva', 1.10, 2.5, 95, 3000, 25, 163, 'Intenção',  'CATI', 'Se a eleição fosse hoje, em qual dos candidatos que vou falar você votaria?'), \n",
    "('2021-06-01', '2021-06-04', 'Ranking Brasil', 'Ranking Brasil', 'Presidente',1, None, 'Branco/Nulo/NS/NR', 18.33, 2.5, 95, 3000, 25, 163, 'Intenção',  'CATI', 'Se a eleição fosse hoje, em qual dos candidatos que vou falar você votaria?'), \n",
    "]\n",
    "\n",
    "\n",
    "Ranking2 = [('2021-06-01', '2021-06-04', 'Ranking Brasil', 'Ranking Brasil', 'Presidente',1, 'PT', 'Lula', 21.30, 2.5, 95, 3000, 25, 163, 'Espontânea',  'CATI', 'Se a eleição fosse hoje, em qual dos candidatos que vou falar você votaria?'),\n",
    "('2021-06-01', '2021-06-04', 'Ranking Brasil', 'Ranking Brasil', 'Presidente',1, '(Sem partido)', 'Jair Bolsonaro', 18.23, 2.5, 95, 3000, 25, 163, 'Espontânea',  'CATI', 'Se a eleição fosse hoje, em qual dos candidatos que vou falar você votaria?'),\n",
    "('2021-06-01', '2021-06-04', 'Ranking Brasil', 'Ranking Brasil', 'Presidente',1, 'PDT', 'Ciro Gomes', 1.73, 2.5, 95, 3000, 25, 163, 'Espontânea',  'CATI', 'Se a eleição fosse hoje, em qual dos candidatos que vou falar você votaria?'),\n",
    "('2021-06-01', '2021-06-04', 'Ranking Brasil', 'Ranking Brasil', 'Presidente',1, '(Sem partido)', 'Sérgio Moro', 1.57, 2.5, 95, 3000, 25, 163, 'Espontânea',  'CATI', 'Se a eleição fosse hoje, em qual dos candidatos que vou falar você votaria?'),\n",
    "('2021-06-01', '2021-06-04', 'Ranking Brasil', 'Ranking Brasil', 'Presidente',1, 'PSDB', 'João Doria', 1.43, 2.5, 95, 3000, 25, 163, 'Espontânea',  'CATI', 'Se a eleição fosse hoje, em qual dos candidatos que vou falar você votaria?'),\n",
    "('2021-06-01', '2021-06-04', 'Ranking Brasil', 'Ranking Brasil', 'Presidente',1, '(Sem partido)', 'Luciano Huck', 1.10, 2.5, 95, 3000, 25, '163', 'Espontânea',  'CATI', 'Se a eleição fosse hoje, em qual dos candidatos que vou falar você votaria?'),\n",
    "('2021-06-01', '2021-06-04', 'Ranking Brasil', 'Ranking Brasil', 'Presidente',1, 'DEM', 'Henrique Mandetta', 1.17, 2.5, 95, 3000, 25, 163, 'Espontânea',  'CATI', 'Se a eleição fosse hoje, em qual dos candidatos que vou falar você votaria?'),\n",
    "('2021-06-01', '2021-06-04', 'Ranking Brasil', 'Ranking Brasil', 'Presidente',1, 'MDB', 'Michel Temer', 0.87, 2.5, 95, 3000, 25, 163, 'Espontânea',  'CATI', 'Se a eleição fosse hoje, em qual dos candidatos que vou falar você votaria?'),\n",
    "('2021-06-01', '2021-06-04', 'Ranking Brasil', 'Ranking Brasil', 'Presidente',1, 'NOVO', 'João Amoêdo', 0.57, 2.5, 95, 3000, 25, 163, 'Espontânea',  'CATI', 'Se a eleição fosse hoje, em qual dos candidatos que vou falar você votaria?'),\n",
    "('2021-06-01', '2021-06-04', 'Ranking Brasil', 'Ranking Brasil', 'Presidente',1, 'PSOL', 'Guilherme Boulos', 0.63, 2.5, 95, 3000, 25, 163, 'Espontânea',  'CATI', 'Se a eleição fosse hoje, em qual dos candidatos que vou falar você votaria?'), \n",
    "('2021-06-01', '2021-06-04', 'Ranking Brasil', 'Ranking Brasil', 'Presidente',1, 'REDE', 'Outros', 1.40, 2.5, 95, 3000, 25, 163, 'Espontânea',  'CATI', 'Se a eleição fosse hoje, em qual dos candidatos que vou falar você votaria?'), \n",
    "('2021-06-01', '2021-06-04', 'Ranking Brasil', 'Ranking Brasil', 'Presidente',1, None, 'Branco/Nulo/NS/NR', 50.00, 2.5, 95, 3000, 25, 163, 'Espontânea',  'CATI', 'Se a eleição fosse hoje, em qual dos candidatos que vou falar você votaria?'), \n",
    "]\n",
    "\n",
    "\n",
    "\n",
    "Ranking3 = [('2021-06-01', '2021-06-04', 'Ranking Brasil', 'Ranking Brasil', 'Presidente',1, 'PT', 'Lula', 42.03, 2.5, 95, 3000, 25, 163, 'Lula x Bolsonaro x Ciro',  'CATI', 'Se a eleição fosse hoje, em qual dos candidatos que vou falar você votaria?'),\n",
    "('2021-06-01', '2021-06-04', 'Ranking Brasil', 'Ranking Brasil', 'Presidente',1, '(Sem partido)', 'Jair Bolsonaro', 30.83, 2.5, 95, 3000, 25, 163, 'Lula x Bolsonaro x Ciro',  'CATI', 'Se a eleição fosse hoje, em qual dos candidatos que vou falar você votaria?'),\n",
    "('2021-06-01', '2021-06-04', 'Ranking Brasil', 'Ranking Brasil', 'Presidente',1, 'PDT', 'Ciro Gomes', 10.37, 2.5, 95, 3000, 25, 163, 'Lula x Bolsonaro x Ciro', 'CATI', 'Se a eleição fosse hoje, em qual dos candidatos que vou falar você votaria?'),\n",
    "('2021-06-01', '2021-06-04', 'Ranking Brasil', 'Ranking Brasil', 'Presidente',1, None, 'Branco/Nulo/NS/NR', 16.77, 2.5, 95, 3000, 25, 163, 'Lula x Bolsonaro x Ciro', 'CATI', 'Se a eleição fosse hoje, em qual dos candidatos que vou falar você votaria?'),\n",
    "('2021-06-01', '2021-06-04', 'Ranking Brasil', 'Ranking Brasil', 'Presidente',1, 'PT', 'Lula', 41.13, 2.5, 95, 3000, 25, 163, 'Lula x Bolsonaro x Moro',  'CATI', 'Se a eleição fosse hoje, em qual dos candidatos que vou falar você votaria?'),\n",
    "('2021-06-01', '2021-06-04', 'Ranking Brasil', 'Ranking Brasil', 'Presidente',1, '(Sem partido)', 'Jair Bolsonaro', 31.17, 2.5, 95, 3000, 25, 163, 'Lula x Bolsonaro x Moro',  'CATI', 'Se a eleição fosse hoje, em qual dos candidatos que vou falar você votaria?'),\n",
    "('2021-06-01', '2021-06-04', 'Ranking Brasil', 'Ranking Brasil', 'Presidente',1, '(Sem partido)', 'Sérgio Moro', 11.50, 2.5, 95, 3000, 25, 163, 'Lula x Bolsonaro x Moro', 'CATI', 'Se a eleição fosse hoje, em qual dos candidatos que vou falar você votaria?'),\n",
    "('2021-06-01', '2021-06-04', 'Ranking Brasil', 'Ranking Brasil', 'Presidente',1, None, 'Branco/Nulo/NS/NR', 16.20, 2.5, 95, 3000, 25, 163, 'Lula x Bolsonaro x Moro', 'CATI', 'Se a eleição fosse hoje, em qual dos candidatos que vou falar você votaria?'),\n",
    "('2021-06-01', '2021-06-04', 'Ranking Brasil', 'Ranking Brasil', 'Presidente',1, 'PT', 'Lula', 43.00, 2.5, 95, 3000, 25, 163, 'Lula x Bolsonaro x Doria',  'CATI', 'Se a eleição fosse hoje, em qual dos candidatos que vou falar você votaria?'),\n",
    "('2021-06-01', '2021-06-04', 'Ranking Brasil', 'Ranking Brasil', 'Presidente',1, '(Sem partido)', 'Jair Bolsonaro', 32.07, 2.5, 95, 3000, 25, 163, 'Lula x Bolsonaro x Doria',  'CATI', 'Se a eleição fosse hoje, em qual dos candidatos que vou falar você votaria?'),\n",
    "('2021-06-01', '2021-06-04', 'Ranking Brasil', 'Ranking Brasil', 'Presidente',1, 'PSDB', 'João Doria', 9.33, 2.5, 95, 3000, 25, 163, 'Lula x Bolsonaro x Dória', 'CATI', 'Se a eleição fosse hoje, em qual dos candidatos que vou falar você votaria?'),\n",
    "('2021-06-01', '2021-06-04', 'Ranking Brasil', 'Ranking Brasil', 'Presidente',1, None, 'Branco/Nulo/NS/NR', 15.60, 2.5, 95, 3000, 25, 163, 'Lula x Bolsonaro x Doria', 'CATI', 'Se a eleição fosse hoje, em qual dos candidatos que vou falar você votaria?'),\n",
    "('2021-06-01', '2021-06-04', 'Ranking Brasil', 'Ranking Brasil', 'Presidente',1, 'PT', 'Lula', 42.33, 2.5, 95, 3000, 25, 163, 'Lula x Bolsonaro x Huck',  'CATI', 'Se a eleição fosse hoje, em qual dos candidatos que vou falar você votaria?'),\n",
    "('2021-06-01', '2021-06-04', 'Ranking Brasil', 'Ranking Brasil', 'Presidente',1, '(Sem partido)', 'Jair Bolsonaro', 33.0, 2.5, 95, 3000, 25, 163, 'Lula x Bolsonaro x Huck',  'CATI', 'Se a eleição fosse hoje, em qual dos candidatos que vou falar você votaria?'),\n",
    "('2021-06-01', '2021-06-04', 'Ranking Brasil', 'Ranking Brasil', 'Presidente',1, '(Sem partido)', 'Luciano Huck', 8.77, 2.5, 95, 3000, 25, 163, 'Lula x Bolsonaro x Huck', 'CATI', 'Se a eleição fosse hoje, em qual dos candidatos que vou falar você votaria?'),\n",
    "('2021-06-01', '2021-06-04', 'Ranking Brasil', 'Ranking Brasil', 'Presidente',1, None, 'Branco/Nulo/NS/NR', 15.90, 2.5, 95, 3000, 25, 163, 'Lula x Bolsonaro x Huck', 'CATI', 'Se a eleição fosse hoje, em qual dos candidatos que vou falar você votaria?'),\n",
    "('2021-06-01', '2021-06-04', 'Ranking Brasil', 'Ranking Brasil', 'Presidente',1, 'PT', 'Lula', 44.27, 2.5, 95, 3000, 25, 163, 'Lula x Bolsonaro x Mandetta',  'CATI', 'Se a eleição fosse hoje, em qual dos candidatos que vou falar você votaria?'),\n",
    "('2021-06-01', '2021-06-04', 'Ranking Brasil', 'Ranking Brasil', 'Presidente',1, '(Sem partido)', 'Jair Bolsonaro', 31.0, 2.5, 95, 3000, 25, 163, 'Lula x Bolsonaro x Mandetta',  'CATI', 'Se a eleição fosse hoje, em qual dos candidatos que vou falar você votaria?'),\n",
    "('2021-06-01', '2021-06-04', 'Ranking Brasil', 'Ranking Brasil', 'Presidente',1, 'DEM', 'Henrique Mandetta', 7.53, 2.5, 95, 3000, 25, 163, 'Lula x Bolsonaro x Mandetta', 'CATI', 'Se a eleição fosse hoje, em qual dos candidatos que vou falar você votaria?'),\n",
    "('2021-06-01', '2021-06-04', 'Ranking Brasil', 'Ranking Brasil', 'Presidente',1, None, 'Branco/Nulo/NS/NR', 17.20, 2.5, 95, 3000, 25, 163, 'Lula x Bolsonaro x Mandetta', 'CATI', 'Se a eleição fosse hoje, em qual dos candidatos que vou falar você votaria?'),\n",
    "('2021-06-01', '2021-06-04', 'Ranking Brasil', 'Ranking Brasil', 'Presidente',1, 'PT', 'Lula', 43.10, 2.5, 95, 3000, 25, 163, 'Lula x Bolsonaro x Temer',  'CATI', 'Se a eleição fosse hoje, em qual dos candidatos que vou falar você votaria?'),\n",
    "('2021-06-01', '2021-06-04', 'Ranking Brasil', 'Ranking Brasil', 'Presidente',1, '(Sem partido)', 'Jair Bolsonaro', 32.03, 2.5, 95, 3000, 25, 163, 'Lula x Bolsonaro x Temer',  'CATI', 'Se a eleição fosse hoje, em qual dos candidatos que vou falar você votaria?'),\n",
    "('2021-06-01', '2021-06-04', 'Ranking Brasil', 'Ranking Brasil', 'Presidente',1, 'MDB', 'Michel Temer', 7.27, 2.5, 95, 3000, 25, 163, 'Lula x Bolsonaro x Temer', 'CATI', 'Se a eleição fosse hoje, em qual dos candidatos que vou falar você votaria?'),\n",
    "('2021-06-01', '2021-06-04', 'Ranking Brasil', 'Ranking Brasil', 'Presidente',1, None, 'Branco/Nulo/NS/NR', 17.60, 2.5, 95, 3000, 25, 163, 'Lula x Bolsonaro x Temer', 'CATI', 'Se a eleição fosse hoje, em qual dos candidatos que vou falar você votaria?'),\n",
    "('2021-06-01', '2021-06-04', 'Ranking Brasil', 'Ranking Brasil', 'Presidente',1, 'PT', 'Lula', 43.13, 2.5, 95, 3000, 25, 163, 'Lula x Bolsonaro x Amoêdo',  'CATI', 'Se a eleição fosse hoje, em qual dos candidatos que vou falar você votaria?'),\n",
    "('2021-06-01', '2021-06-04', 'Ranking Brasil', 'Ranking Brasil', 'Presidente',1, '(Sem partido)', 'Jair Bolsonaro', 31.47, 2.5, 95, 3000, 25, 163, 'Lula x Bolsonaro x Amoêdo',  'CATI', 'Se a eleição fosse hoje, em qual dos candidatos que vou falar você votaria?'),\n",
    "('2021-06-01', '2021-06-04', 'Ranking Brasil', 'Ranking Brasil', 'Presidente',1, 'NOVO', 'João Amoêdo', 6.30, 2.5, 95, 3000, 25, 163, 'Lula x Bolsonaro x Amoêdo', 'CATI', 'Se a eleição fosse hoje, em qual dos candidatos que vou falar você votaria?'),\n",
    "('2021-06-01', '2021-06-04', 'Ranking Brasil', 'Ranking Brasil', 'Presidente',1, None, 'Branco/Nulo/NS/NR', 18.10, 2.5, 95, 3000, 25, 163, 'Lula x Bolsonaro x Amoêdo', 'CATI', 'Se a eleição fosse hoje, em qual dos candidatos que vou falar você votaria?'),\n",
    "('2021-06-01', '2021-06-04', 'Ranking Brasil', 'Ranking Brasil', 'Presidente',1, 'PT', 'Lula', 45.50, 2.5, 95, 3000, 25, 163, 'Lula x Bolsonaro x Boulos',  'CATI', 'Se a eleição fosse hoje, em qual dos candidatos que vou falar você votaria?'),\n",
    "('2021-06-01', '2021-06-04', 'Ranking Brasil', 'Ranking Brasil', 'Presidente',1, '(Sem partido)', 'Jair Bolsonaro', 33.20, 2.5, 95, 3000, 25, 163, 'Lula x Bolsonaro x Boulos',  'CATI', 'Se a eleição fosse hoje, em qual dos candidatos que vou falar você votaria?'),\n",
    "('2021-06-01', '2021-06-04', 'Ranking Brasil', 'Ranking Brasil', 'Presidente',1, 'PSOL', 'Guilherme Boulos', 5.0, 2.5, 95, 3000, 25, 163, 'Lula x Bolsonaro x Boulos', 'CATI', 'Se a eleição fosse hoje, em qual dos candidatos que vou falar você votaria?'),\n",
    "('2021-06-01', '2021-06-04', 'Ranking Brasil', 'Ranking Brasil', 'Presidente',1, None, 'Branco/Nulo/NS/NR', 16.30, 2.5, 95, 3000, 25, 163, 'Lula x Bolsonaro x Boulos', 'CATI', 'Se a eleição fosse hoje, em qual dos candidatos que vou falar você votaria?'),\n",
    "('2021-06-01', '2021-06-04', 'Ranking Brasil', 'Ranking Brasil', 'Presidente',1, 'PT', 'Lula', 45.83, 2.5, 95, 3000, 25, 163, 'Lula x Bolsonaro x Marina',  'CATI', 'Se a eleição fosse hoje, em qual dos candidatos que vou falar você votaria?'),\n",
    "('2021-06-01', '2021-06-04', 'Ranking Brasil', 'Ranking Brasil', 'Presidente',1, '(Sem partido)', 'Jair Bolsonaro', 33.67, 2.5, 95, 3000, 25, 163, 'Lula x Bolsonaro x Marina',  'CATI', 'Se a eleição fosse hoje, em qual dos candidatos que vou falar você votaria?'),\n",
    "('2021-06-01', '2021-06-04', 'Ranking Brasil', 'Ranking Brasil', 'Presidente',1, 'REDE', 'Marina Silva', 4.90, 2.5, 95, 3000, 25, 163, 'Lula x Bolsonaro x Marina', 'CATI', 'Se a eleição fosse hoje, em qual dos candidatos que vou falar você votaria?'),\n",
    "('2021-06-01', '2021-06-04', 'Ranking Brasil', 'Ranking Brasil', 'Presidente',1, None, 'Branco/Nulo/NS/NR', 15.60, 2.5, 95, 3000, 25, 163, 'Lula x Bolsonaro x Marina', 'CATI', 'Se a eleição fosse hoje, em qual dos candidatos que vou falar você votaria?'),\n",
    "('2021-06-01', '2021-06-04', 'Ranking Brasil', 'Ranking Brasil', 'Presidente',2, 'PT', 'Lula', 47.07, 2.5, 95, 3000, 25, 163, 'Lula x Bolsonaro',  'CATI', 'Se a eleição fosse hoje, em qual dos candidatos que vou falar você votaria?'),\n",
    "('2021-06-01', '2021-06-04', 'Ranking Brasil', 'Ranking Brasil', 'Presidente',2, '(Sem partido)', 'Jair Bolsonaro', 35.13, 2.5, 95, 3000, 25, 163, 'Lula x Bolsonaro',  'CATI', 'Se a eleição fosse hoje, em qual dos candidatos que vou falar você votaria?'),\n",
    "('2021-06-01', '2021-06-04', 'Ranking Brasil', 'Ranking Brasil', 'Presidente',2, None, 'Branco/Nulo/NS/NR', 17.80, 2.5, 95, 3000, 25, 163, 'Lula x Bolsonaro', 'CATI', 'Se a eleição fosse hoje, em qual dos candidatos que vou falar você votaria?'),\n",
    "]\n",
    "\n",
    "\n",
    "\n",
    "Ranking4 = [('2021-06-01', '2021-06-04', 'Ranking Brasil', 'Ranking Brasil', 'Presidente',1, 'PT', 'Lula', 31.20, 2.5, 95, 3000, 25, 163, 'Rejeição',  'CATI', 'Se a eleição fosse hoje, em qual dos candidatos que vou falar você votaria?'),\n",
    "('2021-06-01', '2021-06-04', 'Ranking Brasil', 'Ranking Brasil', 'Presidente',1, '(Sem partido)', 'Jair Bolsonaro', 43.00, 2.5, 95, 3000, 25, 163, 'Rejeição',  'CATI', 'Se a eleição fosse hoje, em qual dos candidatos que vou falar você votaria?'),\n",
    "('2021-06-01', '2021-06-04', 'Ranking Brasil', 'Ranking Brasil', 'Presidente',1, 'PDT', 'Ciro Gomes', 4.03, 2.5, 95, 3000, 25, 163, 'Rejeição',  'CATI', 'Se a eleição fosse hoje, em qual dos candidatos que vou falar você votaria?'),\n",
    "('2021-06-01', '2021-06-04', 'Ranking Brasil', 'Ranking Brasil', 'Presidente',1, '(Sem partido)', 'Sérgio Moro', 1.77, 2.5, 95, 3000, 25, 163, 'Rejeição',  'CATI', 'Se a eleição fosse hoje, em qual dos candidatos que vou falar você votaria?'),\n",
    "('2021-06-01', '2021-06-04', 'Ranking Brasil', 'Ranking Brasil', 'Presidente',1, 'PSDB', 'João Doria', 2.10, 2.5, 95, 3000, 25, 163, 'Rejeição',  'CATI', 'Se a eleição fosse hoje, em qual dos candidatos que vou falar você votaria?'),\n",
    "('2021-06-01', '2021-06-04', 'Ranking Brasil', 'Ranking Brasil', 'Presidente',1, '(Sem partido)', 'Luciano Huck', 1.40, 2.5, 95, 3000, 25, '163', 'Rejeição',  'CATI', 'Se a eleição fosse hoje, em qual dos candidatos que vou falar você votaria?'),\n",
    "('2021-06-01', '2021-06-04', 'Ranking Brasil', 'Ranking Brasil', 'Presidente',1, 'DEM', 'Henrique Mandetta', 1.27, 2.5, 95, 3000, 25, 163, 'Rejeição',  'CATI', 'Se a eleição fosse hoje, em qual dos candidatos que vou falar você votaria?'),\n",
    "('2021-06-01', '2021-06-04', 'Ranking Brasil', 'Ranking Brasil', 'Presidente',1, 'MDB', 'Michel Temer', 2.88, 2.5, 95, 3000, 25, 163, 'Rejeição',  'CATI', 'Se a eleição fosse hoje, em qual dos candidatos que vou falar você votaria?'),\n",
    "('2021-06-01', '2021-06-04', 'Ranking Brasil', 'Ranking Brasil', 'Presidente',1, 'NOVO', 'João Amoêdo', 1.53, 2.5, 95, 3000, 25, 163, 'Rejeição',  'CATI', 'Se a eleição fosse hoje, em qual dos candidatos que vou falar você votaria?'),\n",
    "('2021-06-01', '2021-06-04', 'Ranking Brasil', 'Ranking Brasil', 'Presidente',1, 'PSOL', 'Guilherme Boulos', 1.13, 2.5, 95, 3000, 25, 163, 'Rejeição',  'CATI', 'Se a eleição fosse hoje, em qual dos candidatos que vou falar você votaria?'), \n",
    "('2021-06-01', '2021-06-04', 'Ranking Brasil', 'Ranking Brasil', 'Presidente',1, 'REDE', 'Marina Silva', 3.27, 2.5, 95, 3000, 25, 163, 'Rejeição',  'CATI', 'Se a eleição fosse hoje, em qual dos candidatos que vou falar você votaria?'), \n",
    "('2021-06-01', '2021-06-04', 'Ranking Brasil', 'Ranking Brasil', 'Presidente',1, None, 'Branco/Nulo/NS/NR', 6.47, 2.5, 95, 3000, 25, 163, 'Rejeição',  'CATI', 'Se a eleição fosse hoje, em qual dos candidatos que vou falar você votaria?'), \n",
    "]\n"
   ]
  },
  {
   "cell_type": "code",
   "execution_count": 101,
   "metadata": {},
   "outputs": [
    {
     "output_type": "stream",
     "name": "stdout",
     "text": [
      "Dados inseridos da lista com sucesso: 12 registros.\n"
     ]
    }
   ],
   "source": [
    "# Executar \n",
    "con.inserir_de_lista(lista = Ranking4)"
   ]
  },
  {
   "cell_type": "code",
   "execution_count": 102,
   "metadata": {},
   "outputs": [
    {
     "output_type": "stream",
     "name": "stdout",
     "text": [
      "Total de pesquisas registradas: 164\n"
     ]
    }
   ],
   "source": [
    "con.contar_pesquisas()"
   ]
  },
  {
   "cell_type": "code",
   "execution_count": 15,
   "metadata": {},
   "outputs": [
    {
     "output_type": "error",
     "ename": "AttributeError",
     "evalue": "'sqlite3.Connection' object has no attribute 'fechar_conexao'",
     "traceback": [
      "\u001b[0;31m---------------------------------------------------------------------------\u001b[0m",
      "\u001b[0;31mAttributeError\u001b[0m                            Traceback (most recent call last)",
      "\u001b[0;32m<ipython-input-15-f11b960743fd>\u001b[0m in \u001b[0;36m<module>\u001b[0;34m\u001b[0m\n\u001b[1;32m      1\u001b[0m \u001b[0;31m# con.backup()\u001b[0m\u001b[0;34m\u001b[0m\u001b[0;34m\u001b[0m\u001b[0;34m\u001b[0m\u001b[0m\n\u001b[1;32m      2\u001b[0m \u001b[0;34m\u001b[0m\u001b[0m\n\u001b[0;32m----> 3\u001b[0;31m \u001b[0mcon\u001b[0m\u001b[0;34m.\u001b[0m\u001b[0mfechar_conexao\u001b[0m\u001b[0;34m(\u001b[0m\u001b[0;34m)\u001b[0m\u001b[0;34m\u001b[0m\u001b[0;34m\u001b[0m\u001b[0m\n\u001b[0m",
      "\u001b[0;31mAttributeError\u001b[0m: 'sqlite3.Connection' object has no attribute 'fechar_conexao'"
     ]
    }
   ],
   "source": [
    "# con.backup()\n",
    "\n",
    "con.fechar_conexao()"
   ]
  },
  {
   "cell_type": "code",
   "execution_count": 22,
   "metadata": {},
   "outputs": [],
   "source": [
    "\n",
    "\n",
    "\n",
    "\n"
   ]
  },
  {
   "cell_type": "code",
   "execution_count": 23,
   "metadata": {},
   "outputs": [
    {
     "output_type": "error",
     "ename": "OperationalError",
     "evalue": "database is locked",
     "traceback": [
      "\u001b[0;31m---------------------------------------------------------------------------\u001b[0m",
      "\u001b[0;31mOperationalError\u001b[0m                          Traceback (most recent call last)",
      "\u001b[0;32m<ipython-input-23-20cc496cec15>\u001b[0m in \u001b[0;36m<module>\u001b[0;34m\u001b[0m\n\u001b[0;32m----> 1\u001b[0;31m cursor.execute(\"\"\"\n\u001b[0m\u001b[1;32m      2\u001b[0m \u001b[0mDELETE\u001b[0m \u001b[0mFROM\u001b[0m \u001b[0mintencao\u001b[0m\u001b[0;34m\u001b[0m\u001b[0;34m\u001b[0m\u001b[0m\n\u001b[1;32m      3\u001b[0m \u001b[0mWHERE\u001b[0m \u001b[0mid\u001b[0m \u001b[0;34m=\u001b[0m \u001b[0;36m273\u001b[0m\u001b[0;34m;\u001b[0m\u001b[0;34m\u001b[0m\u001b[0;34m\u001b[0m\u001b[0m\n\u001b[1;32m      4\u001b[0m \"\"\")\n\u001b[1;32m      5\u001b[0m \u001b[0;34m\u001b[0m\u001b[0m\n",
      "\u001b[0;31mOperationalError\u001b[0m: database is locked"
     ]
    }
   ],
   "source": [
    "con = sqlite3.connect('pollingpoint.db')\n",
    "\n",
    "cursor = con.cursor()\n",
    "\n",
    "cursor.execute(\"\"\"\n",
    "DELETE FROM intencao \n",
    "WHERE id = 273;\n",
    "\"\"\")\n",
    "\n",
    "# gravando no bd\n",
    "con.commit()\n",
    "\n",
    "print('Dados atualizados com sucesso.')\n",
    "\n",
    "con.close()"
   ]
  },
  {
   "cell_type": "code",
   "execution_count": null,
   "metadata": {},
   "outputs": [],
   "source": []
  }
 ],
 "metadata": {
  "kernelspec": {
   "name": "python3",
   "display_name": "Python 3.8.6 64-bit"
  },
  "language_info": {
   "codemirror_mode": {
    "name": "ipython",
    "version": 2
   },
   "file_extension": ".py",
   "mimetype": "text/x-python",
   "name": "python",
   "nbconvert_exporter": "python",
   "pygments_lexer": "ipython2",
   "version": "3.8.6"
  },
  "metadata": {
   "interpreter": {
    "hash": "7e85ec9bf098c5427e45e2f632dcd4eeff803b007e1abd287d600879388709c1"
   }
  },
  "interpreter": {
   "hash": "7e85ec9bf098c5427e45e2f632dcd4eeff803b007e1abd287d600879388709c1"
  }
 },
 "nbformat": 4,
 "nbformat_minor": 2
}