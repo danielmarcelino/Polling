{
 "cells": [
  {
   "source": [
    "## Popula o banco\n",
    "\n",
    "\n"
   ],
   "cell_type": "markdown",
   "metadata": {}
  },
  {
   "cell_type": "code",
   "execution_count": 257,
   "metadata": {},
   "outputs": [],
   "source": [
    "import pandas as pd                   #importando a Pandas\n",
    "import numpy as np\n",
    "import sqlite3\n",
    "import watermark\n",
    "import warnings                       #importando a biblioca de avisos                              \n",
    "warnings.filterwarnings('ignore')     #ignorando os warnings"
   ]
  },
  {
   "cell_type": "code",
   "execution_count": 180,
   "metadata": {},
   "outputs": [
    {
     "output_type": "stream",
     "name": "stdout",
     "text": [
      "Last updated: 2021-06-09T23:31:51.847867-03:00\n\nPython implementation: CPython\nPython version       : 3.8.6\nIPython version      : 7.18.1\n\nCompiler    : Clang 12.0.0 (clang-1200.0.32.27)\nOS          : Darwin\nRelease     : 19.6.0\nMachine     : x86_64\nProcessor   : i386\nCPU cores   : 8\nArchitecture: 64bit\n\n"
     ]
    }
   ],
   "source": [
    "%load_ext watermark\n",
    "\n",
    "%watermark"
   ]
  },
  {
   "cell_type": "code",
   "execution_count": 2,
   "metadata": {},
   "outputs": [],
   "source": []
  },
  {
   "cell_type": "code",
   "execution_count": 320,
   "metadata": {},
   "outputs": [
    {
     "output_type": "execute_result",
     "data": {
      "text/plain": [
       "      DATAFIM  POSITIVA  REGULAR  NEGATIVA  NS.NR  ERRO  IC   N  UFs CIDADES  \\\n",
       "0  1986-03-15      71.0     25.0       2.0    3.0   3.0  95 NaN  NaN     NaN   \n",
       "1  1987-03-15      33.0     45.0      19.0    3.0   3.0  95 NaN  NaN     NaN   \n",
       "2  1987-05-15       9.0     35.0      54.0    2.0   3.0  95 NaN  NaN     NaN   \n",
       "3  1987-11-15      11.0     29.0      58.0    2.0   3.0  95 NaN  NaN     NaN   \n",
       "4  1988-03-15      10.0     23.0      65.0    2.0   3.0  95 NaN  NaN     NaN   \n",
       "\n",
       "     EMPRESA PARTIDO   PRESIDENTE                          TIPO  \\\n",
       "0  Datafolha    PMDB  José Sarney  Avaliação do governo federal   \n",
       "1  Datafolha    PMDB  José Sarney  Avaliação do governo federal   \n",
       "2  Datafolha    PMDB  José Sarney  Avaliação do governo federal   \n",
       "3  Datafolha    PMDB  José Sarney  Avaliação do governo federal   \n",
       "4  Datafolha    PMDB  José Sarney  Avaliação do governo federal   \n",
       "\n",
       "                                            PERGUNTA MODO  \n",
       "0  Na sua opinião, o presidente José Sarney está ...   FF  \n",
       "1  Na sua opinião, o presidente José Sarney está ...   FF  \n",
       "2  Na sua opinião, o presidente José Sarney está ...   FF  \n",
       "3  Na sua opinião, o presidente José Sarney está ...   FF  \n",
       "4  Na sua opinião, o presidente José Sarney está ...   FF  "
      ],
      "text/html": "<div>\n<style scoped>\n    .dataframe tbody tr th:only-of-type {\n        vertical-align: middle;\n    }\n\n    .dataframe tbody tr th {\n        vertical-align: top;\n    }\n\n    .dataframe thead th {\n        text-align: right;\n    }\n</style>\n<table border=\"1\" class=\"dataframe\">\n  <thead>\n    <tr style=\"text-align: right;\">\n      <th></th>\n      <th>DATAFIM</th>\n      <th>POSITIVA</th>\n      <th>REGULAR</th>\n      <th>NEGATIVA</th>\n      <th>NS.NR</th>\n      <th>ERRO</th>\n      <th>IC</th>\n      <th>N</th>\n      <th>UFs</th>\n      <th>CIDADES</th>\n      <th>EMPRESA</th>\n      <th>PARTIDO</th>\n      <th>PRESIDENTE</th>\n      <th>TIPO</th>\n      <th>PERGUNTA</th>\n      <th>MODO</th>\n    </tr>\n  </thead>\n  <tbody>\n    <tr>\n      <th>0</th>\n      <td>1986-03-15</td>\n      <td>71.0</td>\n      <td>25.0</td>\n      <td>2.0</td>\n      <td>3.0</td>\n      <td>3.0</td>\n      <td>95</td>\n      <td>NaN</td>\n      <td>NaN</td>\n      <td>NaN</td>\n      <td>Datafolha</td>\n      <td>PMDB</td>\n      <td>José Sarney</td>\n      <td>Avaliação do governo federal</td>\n      <td>Na sua opinião, o presidente José Sarney está ...</td>\n      <td>FF</td>\n    </tr>\n    <tr>\n      <th>1</th>\n      <td>1987-03-15</td>\n      <td>33.0</td>\n      <td>45.0</td>\n      <td>19.0</td>\n      <td>3.0</td>\n      <td>3.0</td>\n      <td>95</td>\n      <td>NaN</td>\n      <td>NaN</td>\n      <td>NaN</td>\n      <td>Datafolha</td>\n      <td>PMDB</td>\n      <td>José Sarney</td>\n      <td>Avaliação do governo federal</td>\n      <td>Na sua opinião, o presidente José Sarney está ...</td>\n      <td>FF</td>\n    </tr>\n    <tr>\n      <th>2</th>\n      <td>1987-05-15</td>\n      <td>9.0</td>\n      <td>35.0</td>\n      <td>54.0</td>\n      <td>2.0</td>\n      <td>3.0</td>\n      <td>95</td>\n      <td>NaN</td>\n      <td>NaN</td>\n      <td>NaN</td>\n      <td>Datafolha</td>\n      <td>PMDB</td>\n      <td>José Sarney</td>\n      <td>Avaliação do governo federal</td>\n      <td>Na sua opinião, o presidente José Sarney está ...</td>\n      <td>FF</td>\n    </tr>\n    <tr>\n      <th>3</th>\n      <td>1987-11-15</td>\n      <td>11.0</td>\n      <td>29.0</td>\n      <td>58.0</td>\n      <td>2.0</td>\n      <td>3.0</td>\n      <td>95</td>\n      <td>NaN</td>\n      <td>NaN</td>\n      <td>NaN</td>\n      <td>Datafolha</td>\n      <td>PMDB</td>\n      <td>José Sarney</td>\n      <td>Avaliação do governo federal</td>\n      <td>Na sua opinião, o presidente José Sarney está ...</td>\n      <td>FF</td>\n    </tr>\n    <tr>\n      <th>4</th>\n      <td>1988-03-15</td>\n      <td>10.0</td>\n      <td>23.0</td>\n      <td>65.0</td>\n      <td>2.0</td>\n      <td>3.0</td>\n      <td>95</td>\n      <td>NaN</td>\n      <td>NaN</td>\n      <td>NaN</td>\n      <td>Datafolha</td>\n      <td>PMDB</td>\n      <td>José Sarney</td>\n      <td>Avaliação do governo federal</td>\n      <td>Na sua opinião, o presidente José Sarney está ...</td>\n      <td>FF</td>\n    </tr>\n  </tbody>\n</table>\n</div>"
     },
     "metadata": {},
     "execution_count": 320
    }
   ],
   "source": [
    "# df_pop = pd.read_csv(\"~/Aprovacao/dados/Popularidade.csv\",  parse_dates=['DATAFIM'])\n",
    "\n",
    "df_pop = pd.read_csv(\"~/Aprovacao/dados/Popularidade.csv\")\n",
    "\n",
    "df_pop.sort_values('DATAFIM', inplace=True)\n",
    "\n",
    "df_pop.head()"
   ]
  },
  {
   "cell_type": "code",
   "execution_count": 321,
   "metadata": {},
   "outputs": [
    {
     "output_type": "stream",
     "name": "stdout",
     "text": [
      "173\n0\n486\n"
     ]
    }
   ],
   "source": [
    "print(df_pop['N'].isnull().sum())\n",
    "print(df_pop['MODO'].isna().sum())\n",
    "print(df_pop['UFs'].isnull().sum())\n"
   ]
  },
  {
   "cell_type": "code",
   "execution_count": 322,
   "metadata": {},
   "outputs": [
    {
     "output_type": "execute_result",
     "data": {
      "text/plain": [
       "     data_ini    data_fim         empresa            nome  positiva  regular  \\\n",
       "0         NaN  1986-03-15       Datafolha       Datafolha     71.00    25.00   \n",
       "1         NaN  1987-03-15       Datafolha       Datafolha     33.00    45.00   \n",
       "2         NaN  1987-05-15       Datafolha       Datafolha      9.00    35.00   \n",
       "3         NaN  1987-11-15       Datafolha       Datafolha     11.00    29.00   \n",
       "4         NaN  1988-03-15       Datafolha       Datafolha     10.00    23.00   \n",
       "..        ...         ...             ...             ...       ...      ...   \n",
       "692       NaN  2021-05-26        Poder360        Poder360     35.00      NaN   \n",
       "693       NaN  2021-06-04  Ranking Brasil  Ranking Brasil     27.37    19.03   \n",
       "694       NaN  2021-06-04  Ranking Brasil  Ranking Brasil     37.93     1.00   \n",
       "695       NaN  2021-06-09        Poder360        Poder360     30.00    17.00   \n",
       "696       NaN  2021-06-09        Poder360        Poder360     38.00      NaN   \n",
       "\n",
       "     negativa  nsnr  erro  ic  amostra  ufs cidades        partido  \\\n",
       "0        2.00   3.0   3.0  95      NaN  NaN     NaN           PMDB   \n",
       "1       19.00   3.0   3.0  95      NaN  NaN     NaN           PMDB   \n",
       "2       54.00   2.0   3.0  95      NaN  NaN     NaN           PMDB   \n",
       "3       58.00   2.0   3.0  95      NaN  NaN     NaN           PMDB   \n",
       "4       65.00   2.0   3.0  95      NaN  NaN     NaN           PMDB   \n",
       "..        ...   ...   ...  ..      ...  ...     ...            ...   \n",
       "692     59.00   6.0   2.0  95   2500.0   27     462  (Sem partido)   \n",
       "693     51.00   2.6   2.5  95   3000.0   BR     163  (Sem partido)   \n",
       "694     60.17   1.9   2.5  95   3000.0   BR     163  (Sem partido)   \n",
       "695     52.00   1.0   2.0  95   2500.0   27     522  (Sem partido)   \n",
       "696     54.00   8.0   2.0  95   2500.0   27     522  (Sem partido)   \n",
       "\n",
       "         presidente                          tipo  \\\n",
       "0       José Sarney  Avaliação do governo federal   \n",
       "1       José Sarney  Avaliação do governo federal   \n",
       "2       José Sarney  Avaliação do governo federal   \n",
       "3       José Sarney  Avaliação do governo federal   \n",
       "4       José Sarney  Avaliação do governo federal   \n",
       "..              ...                           ...   \n",
       "692  Jair Bolsonaro  Aprovação do governo federal   \n",
       "693  Jair Bolsonaro  Avaliação do governo federal   \n",
       "694  Jair Bolsonaro  Aprovação do governo federal   \n",
       "695  Jair Bolsonaro  Avaliação do governo federal   \n",
       "696  Jair Bolsonaro  Aprovação do governo federal   \n",
       "\n",
       "                                              pergunta  modo  \n",
       "0    Na sua opinião, o presidente José Sarney está ...    FF  \n",
       "1    Na sua opinião, o presidente José Sarney está ...    FF  \n",
       "2    Na sua opinião, o presidente José Sarney está ...    FF  \n",
       "3    Na sua opinião, o presidente José Sarney está ...    FF  \n",
       "4    Na sua opinião, o presidente José Sarney está ...    FF  \n",
       "..                                                 ...   ...  \n",
       "692  Você aprova ou desaprova o governo do preside...   IVR  \n",
       "693  Como você avalia o governo do presidente Jair ...  CATI  \n",
       "694  Como você avalia o governo do presidente Jair ...  CATI  \n",
       "695  De maneira geral, como você avalia o trabalho...   IVR  \n",
       "696  Você aprova ou desaprova o governo do preside...   IVR  \n",
       "\n",
       "[697 rows x 18 columns]"
      ],
      "text/html": "<div>\n<style scoped>\n    .dataframe tbody tr th:only-of-type {\n        vertical-align: middle;\n    }\n\n    .dataframe tbody tr th {\n        vertical-align: top;\n    }\n\n    .dataframe thead th {\n        text-align: right;\n    }\n</style>\n<table border=\"1\" class=\"dataframe\">\n  <thead>\n    <tr style=\"text-align: right;\">\n      <th></th>\n      <th>data_ini</th>\n      <th>data_fim</th>\n      <th>empresa</th>\n      <th>nome</th>\n      <th>positiva</th>\n      <th>regular</th>\n      <th>negativa</th>\n      <th>nsnr</th>\n      <th>erro</th>\n      <th>ic</th>\n      <th>amostra</th>\n      <th>ufs</th>\n      <th>cidades</th>\n      <th>partido</th>\n      <th>presidente</th>\n      <th>tipo</th>\n      <th>pergunta</th>\n      <th>modo</th>\n    </tr>\n  </thead>\n  <tbody>\n    <tr>\n      <th>0</th>\n      <td>NaN</td>\n      <td>1986-03-15</td>\n      <td>Datafolha</td>\n      <td>Datafolha</td>\n      <td>71.00</td>\n      <td>25.00</td>\n      <td>2.00</td>\n      <td>3.0</td>\n      <td>3.0</td>\n      <td>95</td>\n      <td>NaN</td>\n      <td>NaN</td>\n      <td>NaN</td>\n      <td>PMDB</td>\n      <td>José Sarney</td>\n      <td>Avaliação do governo federal</td>\n      <td>Na sua opinião, o presidente José Sarney está ...</td>\n      <td>FF</td>\n    </tr>\n    <tr>\n      <th>1</th>\n      <td>NaN</td>\n      <td>1987-03-15</td>\n      <td>Datafolha</td>\n      <td>Datafolha</td>\n      <td>33.00</td>\n      <td>45.00</td>\n      <td>19.00</td>\n      <td>3.0</td>\n      <td>3.0</td>\n      <td>95</td>\n      <td>NaN</td>\n      <td>NaN</td>\n      <td>NaN</td>\n      <td>PMDB</td>\n      <td>José Sarney</td>\n      <td>Avaliação do governo federal</td>\n      <td>Na sua opinião, o presidente José Sarney está ...</td>\n      <td>FF</td>\n    </tr>\n    <tr>\n      <th>2</th>\n      <td>NaN</td>\n      <td>1987-05-15</td>\n      <td>Datafolha</td>\n      <td>Datafolha</td>\n      <td>9.00</td>\n      <td>35.00</td>\n      <td>54.00</td>\n      <td>2.0</td>\n      <td>3.0</td>\n      <td>95</td>\n      <td>NaN</td>\n      <td>NaN</td>\n      <td>NaN</td>\n      <td>PMDB</td>\n      <td>José Sarney</td>\n      <td>Avaliação do governo federal</td>\n      <td>Na sua opinião, o presidente José Sarney está ...</td>\n      <td>FF</td>\n    </tr>\n    <tr>\n      <th>3</th>\n      <td>NaN</td>\n      <td>1987-11-15</td>\n      <td>Datafolha</td>\n      <td>Datafolha</td>\n      <td>11.00</td>\n      <td>29.00</td>\n      <td>58.00</td>\n      <td>2.0</td>\n      <td>3.0</td>\n      <td>95</td>\n      <td>NaN</td>\n      <td>NaN</td>\n      <td>NaN</td>\n      <td>PMDB</td>\n      <td>José Sarney</td>\n      <td>Avaliação do governo federal</td>\n      <td>Na sua opinião, o presidente José Sarney está ...</td>\n      <td>FF</td>\n    </tr>\n    <tr>\n      <th>4</th>\n      <td>NaN</td>\n      <td>1988-03-15</td>\n      <td>Datafolha</td>\n      <td>Datafolha</td>\n      <td>10.00</td>\n      <td>23.00</td>\n      <td>65.00</td>\n      <td>2.0</td>\n      <td>3.0</td>\n      <td>95</td>\n      <td>NaN</td>\n      <td>NaN</td>\n      <td>NaN</td>\n      <td>PMDB</td>\n      <td>José Sarney</td>\n      <td>Avaliação do governo federal</td>\n      <td>Na sua opinião, o presidente José Sarney está ...</td>\n      <td>FF</td>\n    </tr>\n    <tr>\n      <th>...</th>\n      <td>...</td>\n      <td>...</td>\n      <td>...</td>\n      <td>...</td>\n      <td>...</td>\n      <td>...</td>\n      <td>...</td>\n      <td>...</td>\n      <td>...</td>\n      <td>...</td>\n      <td>...</td>\n      <td>...</td>\n      <td>...</td>\n      <td>...</td>\n      <td>...</td>\n      <td>...</td>\n      <td>...</td>\n      <td>...</td>\n    </tr>\n    <tr>\n      <th>692</th>\n      <td>NaN</td>\n      <td>2021-05-26</td>\n      <td>Poder360</td>\n      <td>Poder360</td>\n      <td>35.00</td>\n      <td>NaN</td>\n      <td>59.00</td>\n      <td>6.0</td>\n      <td>2.0</td>\n      <td>95</td>\n      <td>2500.0</td>\n      <td>27</td>\n      <td>462</td>\n      <td>(Sem partido)</td>\n      <td>Jair Bolsonaro</td>\n      <td>Aprovação do governo federal</td>\n      <td>Você aprova ou desaprova o governo do preside...</td>\n      <td>IVR</td>\n    </tr>\n    <tr>\n      <th>693</th>\n      <td>NaN</td>\n      <td>2021-06-04</td>\n      <td>Ranking Brasil</td>\n      <td>Ranking Brasil</td>\n      <td>27.37</td>\n      <td>19.03</td>\n      <td>51.00</td>\n      <td>2.6</td>\n      <td>2.5</td>\n      <td>95</td>\n      <td>3000.0</td>\n      <td>BR</td>\n      <td>163</td>\n      <td>(Sem partido)</td>\n      <td>Jair Bolsonaro</td>\n      <td>Avaliação do governo federal</td>\n      <td>Como você avalia o governo do presidente Jair ...</td>\n      <td>CATI</td>\n    </tr>\n    <tr>\n      <th>694</th>\n      <td>NaN</td>\n      <td>2021-06-04</td>\n      <td>Ranking Brasil</td>\n      <td>Ranking Brasil</td>\n      <td>37.93</td>\n      <td>1.00</td>\n      <td>60.17</td>\n      <td>1.9</td>\n      <td>2.5</td>\n      <td>95</td>\n      <td>3000.0</td>\n      <td>BR</td>\n      <td>163</td>\n      <td>(Sem partido)</td>\n      <td>Jair Bolsonaro</td>\n      <td>Aprovação do governo federal</td>\n      <td>Como você avalia o governo do presidente Jair ...</td>\n      <td>CATI</td>\n    </tr>\n    <tr>\n      <th>695</th>\n      <td>NaN</td>\n      <td>2021-06-09</td>\n      <td>Poder360</td>\n      <td>Poder360</td>\n      <td>30.00</td>\n      <td>17.00</td>\n      <td>52.00</td>\n      <td>1.0</td>\n      <td>2.0</td>\n      <td>95</td>\n      <td>2500.0</td>\n      <td>27</td>\n      <td>522</td>\n      <td>(Sem partido)</td>\n      <td>Jair Bolsonaro</td>\n      <td>Avaliação do governo federal</td>\n      <td>De maneira geral, como você avalia o trabalho...</td>\n      <td>IVR</td>\n    </tr>\n    <tr>\n      <th>696</th>\n      <td>NaN</td>\n      <td>2021-06-09</td>\n      <td>Poder360</td>\n      <td>Poder360</td>\n      <td>38.00</td>\n      <td>NaN</td>\n      <td>54.00</td>\n      <td>8.0</td>\n      <td>2.0</td>\n      <td>95</td>\n      <td>2500.0</td>\n      <td>27</td>\n      <td>522</td>\n      <td>(Sem partido)</td>\n      <td>Jair Bolsonaro</td>\n      <td>Aprovação do governo federal</td>\n      <td>Você aprova ou desaprova o governo do preside...</td>\n      <td>IVR</td>\n    </tr>\n  </tbody>\n</table>\n<p>697 rows × 18 columns</p>\n</div>"
     },
     "metadata": {},
     "execution_count": 322
    }
   ],
   "source": [
    "df_pop.rename(columns={'DATAFIM': 'data_fim', 'POSITIVA': 'positiva', 'REGULAR': 'regular',  'NEGATIVA': 'negativa',  'NS.NR': 'nsnr', 'ERRO': 'erro', 'IC': 'ic', 'N': 'amostra', 'UFs': 'ufs',  'CIDADES': 'cidades',  'EMPRESA': 'empresa',  'PARTIDO': 'partido', 'PRESIDENTE': 'presidente', 'TIPO': 'tipo', 'PERGUNTA': 'pergunta', 'MODO': 'modo'}, inplace=True)\n",
    "\n",
    "df_pop['nome'] = df_pop['empresa']\n",
    "df_pop['data_ini'] = np.nan\n",
    "\n",
    "column_order = ['data_ini', 'data_fim','empresa','nome','positiva','regular','negativa','nsnr','erro','ic','amostra','ufs','cidades','partido','presidente','tipo','pergunta','modo']\n",
    "\n",
    "df_pop = df_pop.reindex(columns=column_order)\n",
    "\n",
    "## Correções \n",
    "df_pop['partido'].fillna('(Sem partido)',inplace=True)\n",
    "\n",
    "df_pop"
   ]
  },
  {
   "cell_type": "code",
   "execution_count": 228,
   "metadata": {},
   "outputs": [
    {
     "output_type": "stream",
     "name": "stdout",
     "text": [
      "0\n689\n"
     ]
    }
   ],
   "source": [
    "print(df_pop['modo'].isna().sum())\n",
    "\n",
    "print(df_pop['modo'].notna().sum())\n"
   ]
  },
  {
   "cell_type": "code",
   "execution_count": 170,
   "metadata": {},
   "outputs": [
    {
     "output_type": "stream",
     "name": "stdout",
     "text": [
      "0\n689\n"
     ]
    }
   ],
   "source": [
    "print(df_pop['partido'].isna().sum())\n",
    "\n",
    "print(df_pop['partido'].notna().sum())"
   ]
  },
  {
   "cell_type": "code",
   "execution_count": 171,
   "metadata": {},
   "outputs": [
    {
     "output_type": "stream",
     "name": "stdout",
     "text": [
      "0\n689\n"
     ]
    }
   ],
   "source": [
    "print(df_pop['data_fim'].isna().sum())\n",
    "\n",
    "print(df_pop['data_fim'].notna().sum())\n"
   ]
  },
  {
   "cell_type": "code",
   "execution_count": 172,
   "metadata": {},
   "outputs": [
    {
     "output_type": "stream",
     "name": "stdout",
     "text": [
      "62\n627\n"
     ]
    }
   ],
   "source": [
    "print(df_pop['empresa'].isna().sum())\n",
    "\n",
    "print(df_pop['empresa'].notna().sum())"
   ]
  },
  {
   "cell_type": "code",
   "execution_count": 173,
   "metadata": {},
   "outputs": [
    {
     "output_type": "stream",
     "name": "stdout",
     "text": [
      "0\n689\n"
     ]
    }
   ],
   "source": [
    "print(df_pop['tipo'].isna().sum())\n",
    "\n",
    "print(df_pop['tipo'].notna().sum())"
   ]
  },
  {
   "source": [
    "## write to SQL\n"
   ],
   "cell_type": "markdown",
   "metadata": {}
  },
  {
   "cell_type": "code",
   "execution_count": 13,
   "metadata": {},
   "outputs": [],
   "source": [
    "\n"
   ]
  },
  {
   "cell_type": "code",
   "execution_count": null,
   "metadata": {},
   "outputs": [],
   "source": [
    " def partido_condition(r):\n",
    "     if r['presidente'] ==  \"Jair Bolsonaro\": return \"text a\"\n",
    "     if pd.isnull(r['col1']) and pd.notnull(r['col2']): return r['col2']\n",
    "     return \"text b\""
   ]
  },
  {
   "cell_type": "code",
   "execution_count": 398,
   "metadata": {},
   "outputs": [],
   "source": [
    "import manage\n"
   ]
  },
  {
   "cell_type": "code",
   "execution_count": null,
   "metadata": {},
   "outputs": [],
   "source": []
  },
  {
   "cell_type": "code",
   "execution_count": 261,
   "metadata": {},
   "outputs": [
    {
     "output_type": "execute_result",
     "data": {
      "text/plain": [
       "     data_ini    data_fim         empresa            nome  positiva  regular  \\\n",
       "0         NaN  1986-03-15       Datafolha       Datafolha     71.00    25.00   \n",
       "1         NaN  1987-03-15       Datafolha       Datafolha     33.00    45.00   \n",
       "2         NaN  1987-05-15       Datafolha       Datafolha      9.00    35.00   \n",
       "3         NaN  1987-11-15       Datafolha       Datafolha     11.00    29.00   \n",
       "4         NaN  1988-03-15       Datafolha       Datafolha     10.00    23.00   \n",
       "..        ...         ...             ...             ...       ...      ...   \n",
       "692       NaN  2021-05-26        Poder360        Poder360     35.00      NaN   \n",
       "693       NaN  2021-06-04  Ranking Brasil  Ranking Brasil     27.37    19.03   \n",
       "694       NaN  2021-06-04  Ranking Brasil  Ranking Brasil     37.93     1.00   \n",
       "695       NaN  2021-06-09        Poder360        Poder360     30.00    17.00   \n",
       "696       NaN  2021-06-09        Poder360        Poder360     38.00      NaN   \n",
       "\n",
       "     negativa  nsnr  erro  ic  amostra  ufs cidades        partido  \\\n",
       "0        2.00   3.0   3.0  95      NaN  NaN     NaN           PMDB   \n",
       "1       19.00   3.0   3.0  95      NaN  NaN     NaN           PMDB   \n",
       "2       54.00   2.0   3.0  95      NaN  NaN     NaN           PMDB   \n",
       "3       58.00   2.0   3.0  95      NaN  NaN     NaN           PMDB   \n",
       "4       65.00   2.0   3.0  95      NaN  NaN     NaN           PMDB   \n",
       "..        ...   ...   ...  ..      ...  ...     ...            ...   \n",
       "692     59.00   6.0   2.0  95   2500.0   27     462  (Sem partido)   \n",
       "693     51.00   2.6   2.5  95   3000.0   BR     163  (Sem partido)   \n",
       "694     60.17   1.9   2.5  95   3000.0   BR     163  (Sem partido)   \n",
       "695     52.00   1.0   2.0  95   2500.0   27     522  (Sem partido)   \n",
       "696     54.00   8.0   2.0  95   2500.0   27     522  (Sem partido)   \n",
       "\n",
       "         presidente                          tipo  \\\n",
       "0       José Sarney  Avaliação do governo federal   \n",
       "1       José Sarney  Avaliação do governo federal   \n",
       "2       José Sarney  Avaliação do governo federal   \n",
       "3       José Sarney  Avaliação do governo federal   \n",
       "4       José Sarney  Avaliação do governo federal   \n",
       "..              ...                           ...   \n",
       "692  Jair Bolsonaro  Aprovação do governo federal   \n",
       "693  Jair Bolsonaro  Avaliação do governo federal   \n",
       "694  Jair Bolsonaro  Aprovação do governo federal   \n",
       "695  Jair Bolsonaro  Avaliação do governo federal   \n",
       "696  Jair Bolsonaro  Aprovação do governo federal   \n",
       "\n",
       "                                              pergunta  modo  \n",
       "0    Na sua opinião, o presidente José Sarney está ...    FF  \n",
       "1    Na sua opinião, o presidente José Sarney está ...    FF  \n",
       "2    Na sua opinião, o presidente José Sarney está ...    FF  \n",
       "3    Na sua opinião, o presidente José Sarney está ...    FF  \n",
       "4    Na sua opinião, o presidente José Sarney está ...    FF  \n",
       "..                                                 ...   ...  \n",
       "692  Você aprova ou desaprova o governo do preside...   IVR  \n",
       "693  Como você avalia o governo do presidente Jair ...  CATI  \n",
       "694  Como você avalia o governo do presidente Jair ...  CATI  \n",
       "695  De maneira geral, como você avalia o trabalho...   IVR  \n",
       "696  Você aprova ou desaprova o governo do preside...   IVR  \n",
       "\n",
       "[697 rows x 18 columns]"
      ],
      "text/html": "<div>\n<style scoped>\n    .dataframe tbody tr th:only-of-type {\n        vertical-align: middle;\n    }\n\n    .dataframe tbody tr th {\n        vertical-align: top;\n    }\n\n    .dataframe thead th {\n        text-align: right;\n    }\n</style>\n<table border=\"1\" class=\"dataframe\">\n  <thead>\n    <tr style=\"text-align: right;\">\n      <th></th>\n      <th>data_ini</th>\n      <th>data_fim</th>\n      <th>empresa</th>\n      <th>nome</th>\n      <th>positiva</th>\n      <th>regular</th>\n      <th>negativa</th>\n      <th>nsnr</th>\n      <th>erro</th>\n      <th>ic</th>\n      <th>amostra</th>\n      <th>ufs</th>\n      <th>cidades</th>\n      <th>partido</th>\n      <th>presidente</th>\n      <th>tipo</th>\n      <th>pergunta</th>\n      <th>modo</th>\n    </tr>\n  </thead>\n  <tbody>\n    <tr>\n      <th>0</th>\n      <td>NaN</td>\n      <td>1986-03-15</td>\n      <td>Datafolha</td>\n      <td>Datafolha</td>\n      <td>71.00</td>\n      <td>25.00</td>\n      <td>2.00</td>\n      <td>3.0</td>\n      <td>3.0</td>\n      <td>95</td>\n      <td>NaN</td>\n      <td>NaN</td>\n      <td>NaN</td>\n      <td>PMDB</td>\n      <td>José Sarney</td>\n      <td>Avaliação do governo federal</td>\n      <td>Na sua opinião, o presidente José Sarney está ...</td>\n      <td>FF</td>\n    </tr>\n    <tr>\n      <th>1</th>\n      <td>NaN</td>\n      <td>1987-03-15</td>\n      <td>Datafolha</td>\n      <td>Datafolha</td>\n      <td>33.00</td>\n      <td>45.00</td>\n      <td>19.00</td>\n      <td>3.0</td>\n      <td>3.0</td>\n      <td>95</td>\n      <td>NaN</td>\n      <td>NaN</td>\n      <td>NaN</td>\n      <td>PMDB</td>\n      <td>José Sarney</td>\n      <td>Avaliação do governo federal</td>\n      <td>Na sua opinião, o presidente José Sarney está ...</td>\n      <td>FF</td>\n    </tr>\n    <tr>\n      <th>2</th>\n      <td>NaN</td>\n      <td>1987-05-15</td>\n      <td>Datafolha</td>\n      <td>Datafolha</td>\n      <td>9.00</td>\n      <td>35.00</td>\n      <td>54.00</td>\n      <td>2.0</td>\n      <td>3.0</td>\n      <td>95</td>\n      <td>NaN</td>\n      <td>NaN</td>\n      <td>NaN</td>\n      <td>PMDB</td>\n      <td>José Sarney</td>\n      <td>Avaliação do governo federal</td>\n      <td>Na sua opinião, o presidente José Sarney está ...</td>\n      <td>FF</td>\n    </tr>\n    <tr>\n      <th>3</th>\n      <td>NaN</td>\n      <td>1987-11-15</td>\n      <td>Datafolha</td>\n      <td>Datafolha</td>\n      <td>11.00</td>\n      <td>29.00</td>\n      <td>58.00</td>\n      <td>2.0</td>\n      <td>3.0</td>\n      <td>95</td>\n      <td>NaN</td>\n      <td>NaN</td>\n      <td>NaN</td>\n      <td>PMDB</td>\n      <td>José Sarney</td>\n      <td>Avaliação do governo federal</td>\n      <td>Na sua opinião, o presidente José Sarney está ...</td>\n      <td>FF</td>\n    </tr>\n    <tr>\n      <th>4</th>\n      <td>NaN</td>\n      <td>1988-03-15</td>\n      <td>Datafolha</td>\n      <td>Datafolha</td>\n      <td>10.00</td>\n      <td>23.00</td>\n      <td>65.00</td>\n      <td>2.0</td>\n      <td>3.0</td>\n      <td>95</td>\n      <td>NaN</td>\n      <td>NaN</td>\n      <td>NaN</td>\n      <td>PMDB</td>\n      <td>José Sarney</td>\n      <td>Avaliação do governo federal</td>\n      <td>Na sua opinião, o presidente José Sarney está ...</td>\n      <td>FF</td>\n    </tr>\n    <tr>\n      <th>...</th>\n      <td>...</td>\n      <td>...</td>\n      <td>...</td>\n      <td>...</td>\n      <td>...</td>\n      <td>...</td>\n      <td>...</td>\n      <td>...</td>\n      <td>...</td>\n      <td>...</td>\n      <td>...</td>\n      <td>...</td>\n      <td>...</td>\n      <td>...</td>\n      <td>...</td>\n      <td>...</td>\n      <td>...</td>\n      <td>...</td>\n    </tr>\n    <tr>\n      <th>692</th>\n      <td>NaN</td>\n      <td>2021-05-26</td>\n      <td>Poder360</td>\n      <td>Poder360</td>\n      <td>35.00</td>\n      <td>NaN</td>\n      <td>59.00</td>\n      <td>6.0</td>\n      <td>2.0</td>\n      <td>95</td>\n      <td>2500.0</td>\n      <td>27</td>\n      <td>462</td>\n      <td>(Sem partido)</td>\n      <td>Jair Bolsonaro</td>\n      <td>Aprovação do governo federal</td>\n      <td>Você aprova ou desaprova o governo do preside...</td>\n      <td>IVR</td>\n    </tr>\n    <tr>\n      <th>693</th>\n      <td>NaN</td>\n      <td>2021-06-04</td>\n      <td>Ranking Brasil</td>\n      <td>Ranking Brasil</td>\n      <td>27.37</td>\n      <td>19.03</td>\n      <td>51.00</td>\n      <td>2.6</td>\n      <td>2.5</td>\n      <td>95</td>\n      <td>3000.0</td>\n      <td>BR</td>\n      <td>163</td>\n      <td>(Sem partido)</td>\n      <td>Jair Bolsonaro</td>\n      <td>Avaliação do governo federal</td>\n      <td>Como você avalia o governo do presidente Jair ...</td>\n      <td>CATI</td>\n    </tr>\n    <tr>\n      <th>694</th>\n      <td>NaN</td>\n      <td>2021-06-04</td>\n      <td>Ranking Brasil</td>\n      <td>Ranking Brasil</td>\n      <td>37.93</td>\n      <td>1.00</td>\n      <td>60.17</td>\n      <td>1.9</td>\n      <td>2.5</td>\n      <td>95</td>\n      <td>3000.0</td>\n      <td>BR</td>\n      <td>163</td>\n      <td>(Sem partido)</td>\n      <td>Jair Bolsonaro</td>\n      <td>Aprovação do governo federal</td>\n      <td>Como você avalia o governo do presidente Jair ...</td>\n      <td>CATI</td>\n    </tr>\n    <tr>\n      <th>695</th>\n      <td>NaN</td>\n      <td>2021-06-09</td>\n      <td>Poder360</td>\n      <td>Poder360</td>\n      <td>30.00</td>\n      <td>17.00</td>\n      <td>52.00</td>\n      <td>1.0</td>\n      <td>2.0</td>\n      <td>95</td>\n      <td>2500.0</td>\n      <td>27</td>\n      <td>522</td>\n      <td>(Sem partido)</td>\n      <td>Jair Bolsonaro</td>\n      <td>Avaliação do governo federal</td>\n      <td>De maneira geral, como você avalia o trabalho...</td>\n      <td>IVR</td>\n    </tr>\n    <tr>\n      <th>696</th>\n      <td>NaN</td>\n      <td>2021-06-09</td>\n      <td>Poder360</td>\n      <td>Poder360</td>\n      <td>38.00</td>\n      <td>NaN</td>\n      <td>54.00</td>\n      <td>8.0</td>\n      <td>2.0</td>\n      <td>95</td>\n      <td>2500.0</td>\n      <td>27</td>\n      <td>522</td>\n      <td>(Sem partido)</td>\n      <td>Jair Bolsonaro</td>\n      <td>Aprovação do governo federal</td>\n      <td>Você aprova ou desaprova o governo do preside...</td>\n      <td>IVR</td>\n    </tr>\n  </tbody>\n</table>\n<p>697 rows × 18 columns</p>\n</div>"
     },
     "metadata": {},
     "execution_count": 261
    }
   ],
   "source": [
    "\n",
    "df_sub = df_pop[df_pop['empresa'].notna()]\n",
    "\n",
    "\n",
    "df_sub = df_sub.drop_duplicates(['data_fim', 'empresa', 'nome', 'tipo'], keep='last').reset_index(drop=True)\n",
    "df_sub"
   ]
  },
  {
   "cell_type": "code",
   "execution_count": 230,
   "metadata": {},
   "outputs": [
    {
     "output_type": "execute_result",
     "data": {
      "text/plain": [
       "Empty DataFrame\n",
       "Columns: [data_ini, data_fim, empresa, nome, positiva, regular, negativa, nsnr, erro, ic, amostra, ufs, cidades, partido, presidente, tipo, pergunta, modo]\n",
       "Index: []"
      ],
      "text/html": "<div>\n<style scoped>\n    .dataframe tbody tr th:only-of-type {\n        vertical-align: middle;\n    }\n\n    .dataframe tbody tr th {\n        vertical-align: top;\n    }\n\n    .dataframe thead th {\n        text-align: right;\n    }\n</style>\n<table border=\"1\" class=\"dataframe\">\n  <thead>\n    <tr style=\"text-align: right;\">\n      <th></th>\n      <th>data_ini</th>\n      <th>data_fim</th>\n      <th>empresa</th>\n      <th>nome</th>\n      <th>positiva</th>\n      <th>regular</th>\n      <th>negativa</th>\n      <th>nsnr</th>\n      <th>erro</th>\n      <th>ic</th>\n      <th>amostra</th>\n      <th>ufs</th>\n      <th>cidades</th>\n      <th>partido</th>\n      <th>presidente</th>\n      <th>tipo</th>\n      <th>pergunta</th>\n      <th>modo</th>\n    </tr>\n  </thead>\n  <tbody>\n  </tbody>\n</table>\n</div>"
     },
     "metadata": {},
     "execution_count": 230
    }
   ],
   "source": [
    "df_sub[df_sub.duplicated(['data_fim', 'empresa', 'tipo'])]"
   ]
  },
  {
   "cell_type": "code",
   "execution_count": 262,
   "metadata": {},
   "outputs": [
    {
     "output_type": "stream",
     "name": "stdout",
     "text": [
      "<class 'pandas.core.frame.DataFrame'>\nRangeIndex: 697 entries, 0 to 696\nData columns (total 18 columns):\n #   Column      Non-Null Count  Dtype  \n---  ------      --------------  -----  \n 0   data_ini    0 non-null      float64\n 1   data_fim    697 non-null    object \n 2   empresa     697 non-null    object \n 3   nome        697 non-null    object \n 4   positiva    697 non-null    float64\n 5   regular     620 non-null    float64\n 6   negativa    697 non-null    float64\n 7   nsnr        689 non-null    float64\n 8   erro        697 non-null    float64\n 9   ic          697 non-null    int64  \n 10  amostra     524 non-null    float64\n 11  ufs         211 non-null    object \n 12  cidades     375 non-null    object \n 13  partido     697 non-null    object \n 14  presidente  697 non-null    object \n 15  tipo        697 non-null    object \n 16  pergunta    579 non-null    object \n 17  modo        697 non-null    object \ndtypes: float64(7), int64(1), object(10)\nmemory usage: 98.1+ KB\n"
     ]
    }
   ],
   "source": [
    "df_sub.info()"
   ]
  },
  {
   "cell_type": "code",
   "execution_count": 263,
   "metadata": {},
   "outputs": [
    {
     "output_type": "execute_result",
     "data": {
      "text/plain": [
       "     data_ini    data_fim         empresa            nome  positiva  regular  \\\n",
       "0         NaN  1986-03-15       Datafolha       Datafolha     71.00    25.00   \n",
       "1         NaN  1987-03-15       Datafolha       Datafolha     33.00    45.00   \n",
       "2         NaN  1987-05-15       Datafolha       Datafolha      9.00    35.00   \n",
       "3         NaN  1987-11-15       Datafolha       Datafolha     11.00    29.00   \n",
       "4         NaN  1988-03-15       Datafolha       Datafolha     10.00    23.00   \n",
       "..        ...         ...             ...             ...       ...      ...   \n",
       "692       NaN  2021-05-26        Poder360        Poder360     35.00      NaN   \n",
       "693       NaN  2021-06-04  Ranking Brasil  Ranking Brasil     27.37    19.03   \n",
       "694       NaN  2021-06-04  Ranking Brasil  Ranking Brasil     37.93     1.00   \n",
       "695       NaN  2021-06-09        Poder360        Poder360     30.00    17.00   \n",
       "696       NaN  2021-06-09        Poder360        Poder360     38.00      NaN   \n",
       "\n",
       "     negativa  nsnr  erro  ic  amostra  ufs cidades        partido  \\\n",
       "0        2.00   3.0   3.0  95      NaN  NaN     NaN           PMDB   \n",
       "1       19.00   3.0   3.0  95      NaN  NaN     NaN           PMDB   \n",
       "2       54.00   2.0   3.0  95      NaN  NaN     NaN           PMDB   \n",
       "3       58.00   2.0   3.0  95      NaN  NaN     NaN           PMDB   \n",
       "4       65.00   2.0   3.0  95      NaN  NaN     NaN           PMDB   \n",
       "..        ...   ...   ...  ..      ...  ...     ...            ...   \n",
       "692     59.00   6.0   2.0  95   2500.0   27     462  (Sem partido)   \n",
       "693     51.00   2.6   2.5  95   3000.0   BR     163  (Sem partido)   \n",
       "694     60.17   1.9   2.5  95   3000.0   BR     163  (Sem partido)   \n",
       "695     52.00   1.0   2.0  95   2500.0   27     522  (Sem partido)   \n",
       "696     54.00   8.0   2.0  95   2500.0   27     522  (Sem partido)   \n",
       "\n",
       "         presidente                          tipo  \\\n",
       "0       José Sarney  Avaliação do governo federal   \n",
       "1       José Sarney  Avaliação do governo federal   \n",
       "2       José Sarney  Avaliação do governo federal   \n",
       "3       José Sarney  Avaliação do governo federal   \n",
       "4       José Sarney  Avaliação do governo federal   \n",
       "..              ...                           ...   \n",
       "692  Jair Bolsonaro  Aprovação do governo federal   \n",
       "693  Jair Bolsonaro  Avaliação do governo federal   \n",
       "694  Jair Bolsonaro  Aprovação do governo federal   \n",
       "695  Jair Bolsonaro  Avaliação do governo federal   \n",
       "696  Jair Bolsonaro  Aprovação do governo federal   \n",
       "\n",
       "                                              pergunta  modo  \n",
       "0    Na sua opinião, o presidente José Sarney está ...    FF  \n",
       "1    Na sua opinião, o presidente José Sarney está ...    FF  \n",
       "2    Na sua opinião, o presidente José Sarney está ...    FF  \n",
       "3    Na sua opinião, o presidente José Sarney está ...    FF  \n",
       "4    Na sua opinião, o presidente José Sarney está ...    FF  \n",
       "..                                                 ...   ...  \n",
       "692  Você aprova ou desaprova o governo do preside...   IVR  \n",
       "693  Como você avalia o governo do presidente Jair ...  CATI  \n",
       "694  Como você avalia o governo do presidente Jair ...  CATI  \n",
       "695  De maneira geral, como você avalia o trabalho...   IVR  \n",
       "696  Você aprova ou desaprova o governo do preside...   IVR  \n",
       "\n",
       "[697 rows x 18 columns]"
      ],
      "text/html": "<div>\n<style scoped>\n    .dataframe tbody tr th:only-of-type {\n        vertical-align: middle;\n    }\n\n    .dataframe tbody tr th {\n        vertical-align: top;\n    }\n\n    .dataframe thead th {\n        text-align: right;\n    }\n</style>\n<table border=\"1\" class=\"dataframe\">\n  <thead>\n    <tr style=\"text-align: right;\">\n      <th></th>\n      <th>data_ini</th>\n      <th>data_fim</th>\n      <th>empresa</th>\n      <th>nome</th>\n      <th>positiva</th>\n      <th>regular</th>\n      <th>negativa</th>\n      <th>nsnr</th>\n      <th>erro</th>\n      <th>ic</th>\n      <th>amostra</th>\n      <th>ufs</th>\n      <th>cidades</th>\n      <th>partido</th>\n      <th>presidente</th>\n      <th>tipo</th>\n      <th>pergunta</th>\n      <th>modo</th>\n    </tr>\n  </thead>\n  <tbody>\n    <tr>\n      <th>0</th>\n      <td>NaN</td>\n      <td>1986-03-15</td>\n      <td>Datafolha</td>\n      <td>Datafolha</td>\n      <td>71.00</td>\n      <td>25.00</td>\n      <td>2.00</td>\n      <td>3.0</td>\n      <td>3.0</td>\n      <td>95</td>\n      <td>NaN</td>\n      <td>NaN</td>\n      <td>NaN</td>\n      <td>PMDB</td>\n      <td>José Sarney</td>\n      <td>Avaliação do governo federal</td>\n      <td>Na sua opinião, o presidente José Sarney está ...</td>\n      <td>FF</td>\n    </tr>\n    <tr>\n      <th>1</th>\n      <td>NaN</td>\n      <td>1987-03-15</td>\n      <td>Datafolha</td>\n      <td>Datafolha</td>\n      <td>33.00</td>\n      <td>45.00</td>\n      <td>19.00</td>\n      <td>3.0</td>\n      <td>3.0</td>\n      <td>95</td>\n      <td>NaN</td>\n      <td>NaN</td>\n      <td>NaN</td>\n      <td>PMDB</td>\n      <td>José Sarney</td>\n      <td>Avaliação do governo federal</td>\n      <td>Na sua opinião, o presidente José Sarney está ...</td>\n      <td>FF</td>\n    </tr>\n    <tr>\n      <th>2</th>\n      <td>NaN</td>\n      <td>1987-05-15</td>\n      <td>Datafolha</td>\n      <td>Datafolha</td>\n      <td>9.00</td>\n      <td>35.00</td>\n      <td>54.00</td>\n      <td>2.0</td>\n      <td>3.0</td>\n      <td>95</td>\n      <td>NaN</td>\n      <td>NaN</td>\n      <td>NaN</td>\n      <td>PMDB</td>\n      <td>José Sarney</td>\n      <td>Avaliação do governo federal</td>\n      <td>Na sua opinião, o presidente José Sarney está ...</td>\n      <td>FF</td>\n    </tr>\n    <tr>\n      <th>3</th>\n      <td>NaN</td>\n      <td>1987-11-15</td>\n      <td>Datafolha</td>\n      <td>Datafolha</td>\n      <td>11.00</td>\n      <td>29.00</td>\n      <td>58.00</td>\n      <td>2.0</td>\n      <td>3.0</td>\n      <td>95</td>\n      <td>NaN</td>\n      <td>NaN</td>\n      <td>NaN</td>\n      <td>PMDB</td>\n      <td>José Sarney</td>\n      <td>Avaliação do governo federal</td>\n      <td>Na sua opinião, o presidente José Sarney está ...</td>\n      <td>FF</td>\n    </tr>\n    <tr>\n      <th>4</th>\n      <td>NaN</td>\n      <td>1988-03-15</td>\n      <td>Datafolha</td>\n      <td>Datafolha</td>\n      <td>10.00</td>\n      <td>23.00</td>\n      <td>65.00</td>\n      <td>2.0</td>\n      <td>3.0</td>\n      <td>95</td>\n      <td>NaN</td>\n      <td>NaN</td>\n      <td>NaN</td>\n      <td>PMDB</td>\n      <td>José Sarney</td>\n      <td>Avaliação do governo federal</td>\n      <td>Na sua opinião, o presidente José Sarney está ...</td>\n      <td>FF</td>\n    </tr>\n    <tr>\n      <th>...</th>\n      <td>...</td>\n      <td>...</td>\n      <td>...</td>\n      <td>...</td>\n      <td>...</td>\n      <td>...</td>\n      <td>...</td>\n      <td>...</td>\n      <td>...</td>\n      <td>...</td>\n      <td>...</td>\n      <td>...</td>\n      <td>...</td>\n      <td>...</td>\n      <td>...</td>\n      <td>...</td>\n      <td>...</td>\n      <td>...</td>\n    </tr>\n    <tr>\n      <th>692</th>\n      <td>NaN</td>\n      <td>2021-05-26</td>\n      <td>Poder360</td>\n      <td>Poder360</td>\n      <td>35.00</td>\n      <td>NaN</td>\n      <td>59.00</td>\n      <td>6.0</td>\n      <td>2.0</td>\n      <td>95</td>\n      <td>2500.0</td>\n      <td>27</td>\n      <td>462</td>\n      <td>(Sem partido)</td>\n      <td>Jair Bolsonaro</td>\n      <td>Aprovação do governo federal</td>\n      <td>Você aprova ou desaprova o governo do preside...</td>\n      <td>IVR</td>\n    </tr>\n    <tr>\n      <th>693</th>\n      <td>NaN</td>\n      <td>2021-06-04</td>\n      <td>Ranking Brasil</td>\n      <td>Ranking Brasil</td>\n      <td>27.37</td>\n      <td>19.03</td>\n      <td>51.00</td>\n      <td>2.6</td>\n      <td>2.5</td>\n      <td>95</td>\n      <td>3000.0</td>\n      <td>BR</td>\n      <td>163</td>\n      <td>(Sem partido)</td>\n      <td>Jair Bolsonaro</td>\n      <td>Avaliação do governo federal</td>\n      <td>Como você avalia o governo do presidente Jair ...</td>\n      <td>CATI</td>\n    </tr>\n    <tr>\n      <th>694</th>\n      <td>NaN</td>\n      <td>2021-06-04</td>\n      <td>Ranking Brasil</td>\n      <td>Ranking Brasil</td>\n      <td>37.93</td>\n      <td>1.00</td>\n      <td>60.17</td>\n      <td>1.9</td>\n      <td>2.5</td>\n      <td>95</td>\n      <td>3000.0</td>\n      <td>BR</td>\n      <td>163</td>\n      <td>(Sem partido)</td>\n      <td>Jair Bolsonaro</td>\n      <td>Aprovação do governo federal</td>\n      <td>Como você avalia o governo do presidente Jair ...</td>\n      <td>CATI</td>\n    </tr>\n    <tr>\n      <th>695</th>\n      <td>NaN</td>\n      <td>2021-06-09</td>\n      <td>Poder360</td>\n      <td>Poder360</td>\n      <td>30.00</td>\n      <td>17.00</td>\n      <td>52.00</td>\n      <td>1.0</td>\n      <td>2.0</td>\n      <td>95</td>\n      <td>2500.0</td>\n      <td>27</td>\n      <td>522</td>\n      <td>(Sem partido)</td>\n      <td>Jair Bolsonaro</td>\n      <td>Avaliação do governo federal</td>\n      <td>De maneira geral, como você avalia o trabalho...</td>\n      <td>IVR</td>\n    </tr>\n    <tr>\n      <th>696</th>\n      <td>NaN</td>\n      <td>2021-06-09</td>\n      <td>Poder360</td>\n      <td>Poder360</td>\n      <td>38.00</td>\n      <td>NaN</td>\n      <td>54.00</td>\n      <td>8.0</td>\n      <td>2.0</td>\n      <td>95</td>\n      <td>2500.0</td>\n      <td>27</td>\n      <td>522</td>\n      <td>(Sem partido)</td>\n      <td>Jair Bolsonaro</td>\n      <td>Aprovação do governo federal</td>\n      <td>Você aprova ou desaprova o governo do preside...</td>\n      <td>IVR</td>\n    </tr>\n  </tbody>\n</table>\n<p>697 rows × 18 columns</p>\n</div>"
     },
     "metadata": {},
     "execution_count": 263
    }
   ],
   "source": [
    "df_sub = df_pop[df_pop['empresa'].notna()].reset_index(drop=True)\n",
    "\n",
    "df_sub"
   ]
  },
  {
   "cell_type": "code",
   "execution_count": 323,
   "metadata": {},
   "outputs": [
    {
     "output_type": "stream",
     "name": "stdout",
     "text": [
      "Banco: pollingpoint.db\nSQLite version: 3.34.0\nDados importados do DataFrame com sucesso.\nConexão fechada.\n"
     ]
    }
   ],
   "source": [
    "ap = AprovacaoDb()\n",
    "\n",
    "ap.inserir_um_df(df_name=df_pop)\n",
    "\n",
    "ap.fechar_conexao()"
   ]
  },
  {
   "cell_type": "code",
   "execution_count": 148,
   "metadata": {},
   "outputs": [
    {
     "output_type": "stream",
     "name": "stdout",
     "text": [
      "0\n0\n0\n0\n0\n0\n0\n"
     ]
    }
   ],
   "source": [
    "print(df_sub['empresa'].isna().sum())\n",
    "print(df_sub['nome'].isna().sum())\n",
    "print(df_sub['data_fim'].isna().sum())\n",
    "print(df_sub['tipo'].isna().sum())\n",
    "print(df_sub['partido'].isna().sum())\n",
    "print(df_sub['presidente'].isna().sum())\n",
    "print(df_sub['modo'].isna().sum())\n"
   ]
  },
  {
   "cell_type": "code",
   "execution_count": null,
   "metadata": {},
   "outputs": [],
   "source": [
    "inserir_um_registro"
   ]
  },
  {
   "cell_type": "code",
   "execution_count": null,
   "metadata": {},
   "outputs": [],
   "source": []
  },
  {
   "cell_type": "code",
   "execution_count": 316,
   "metadata": {},
   "outputs": [
    {
     "output_type": "execute_result",
     "data": {
      "text/plain": [
       "       DATAINI     DATAFIM   EMPRESA  ERRO  IC     N   UFs  CIDADES  \\\n",
       "0   2020-12-21  2020-12-23  Poder360   2.0  95  2500  27.0    545.0   \n",
       "10  2020-12-21  2020-12-23  Poder360   2.0  95  2500  27.0    545.0   \n",
       "8   2020-12-21  2020-12-23  Poder360   2.0  95  2500  27.0    545.0   \n",
       "7   2020-12-21  2020-12-23  Poder360   2.0  95  2500  27.0    545.0   \n",
       "6   2020-12-21  2020-12-23  Poder360   2.0  95  2500  27.0    545.0   \n",
       "\n",
       "         CARGO  TURNO        PARTIDO               CANDIDATO  VOTO      TIPO  \\\n",
       "0   Presidente      1  (Sem partido)          Jair Bolsonaro  36.0  Intenção   \n",
       "10  Presidente      1              -                   NS/NR   5.0  Intenção   \n",
       "8   Presidente      1        PC do B             Flávio Dino   1.0  Intenção   \n",
       "7   Presidente      1            DEM  Luiz Henrique Mandetta   1.0  Intenção   \n",
       "6   Presidente      1           PSDB              João Doria   3.0  Intenção   \n",
       "\n",
       "   MODO                                           PERGUNTA  \n",
       "0   IVR  Em 2022 teremos eleição para presidente do Bra...  \n",
       "10  IVR  Em 2022 teremos eleição para presidente do Bra...  \n",
       "8   IVR  Em 2022 teremos eleição para presidente do Bra...  \n",
       "7   IVR  Em 2022 teremos eleição para presidente do Bra...  \n",
       "6   IVR  Em 2022 teremos eleição para presidente do Bra...  "
      ],
      "text/html": "<div>\n<style scoped>\n    .dataframe tbody tr th:only-of-type {\n        vertical-align: middle;\n    }\n\n    .dataframe tbody tr th {\n        vertical-align: top;\n    }\n\n    .dataframe thead th {\n        text-align: right;\n    }\n</style>\n<table border=\"1\" class=\"dataframe\">\n  <thead>\n    <tr style=\"text-align: right;\">\n      <th></th>\n      <th>DATAINI</th>\n      <th>DATAFIM</th>\n      <th>EMPRESA</th>\n      <th>ERRO</th>\n      <th>IC</th>\n      <th>N</th>\n      <th>UFs</th>\n      <th>CIDADES</th>\n      <th>CARGO</th>\n      <th>TURNO</th>\n      <th>PARTIDO</th>\n      <th>CANDIDATO</th>\n      <th>VOTO</th>\n      <th>TIPO</th>\n      <th>MODO</th>\n      <th>PERGUNTA</th>\n    </tr>\n  </thead>\n  <tbody>\n    <tr>\n      <th>0</th>\n      <td>2020-12-21</td>\n      <td>2020-12-23</td>\n      <td>Poder360</td>\n      <td>2.0</td>\n      <td>95</td>\n      <td>2500</td>\n      <td>27.0</td>\n      <td>545.0</td>\n      <td>Presidente</td>\n      <td>1</td>\n      <td>(Sem partido)</td>\n      <td>Jair Bolsonaro</td>\n      <td>36.0</td>\n      <td>Intenção</td>\n      <td>IVR</td>\n      <td>Em 2022 teremos eleição para presidente do Bra...</td>\n    </tr>\n    <tr>\n      <th>10</th>\n      <td>2020-12-21</td>\n      <td>2020-12-23</td>\n      <td>Poder360</td>\n      <td>2.0</td>\n      <td>95</td>\n      <td>2500</td>\n      <td>27.0</td>\n      <td>545.0</td>\n      <td>Presidente</td>\n      <td>1</td>\n      <td>-</td>\n      <td>NS/NR</td>\n      <td>5.0</td>\n      <td>Intenção</td>\n      <td>IVR</td>\n      <td>Em 2022 teremos eleição para presidente do Bra...</td>\n    </tr>\n    <tr>\n      <th>8</th>\n      <td>2020-12-21</td>\n      <td>2020-12-23</td>\n      <td>Poder360</td>\n      <td>2.0</td>\n      <td>95</td>\n      <td>2500</td>\n      <td>27.0</td>\n      <td>545.0</td>\n      <td>Presidente</td>\n      <td>1</td>\n      <td>PC do B</td>\n      <td>Flávio Dino</td>\n      <td>1.0</td>\n      <td>Intenção</td>\n      <td>IVR</td>\n      <td>Em 2022 teremos eleição para presidente do Bra...</td>\n    </tr>\n    <tr>\n      <th>7</th>\n      <td>2020-12-21</td>\n      <td>2020-12-23</td>\n      <td>Poder360</td>\n      <td>2.0</td>\n      <td>95</td>\n      <td>2500</td>\n      <td>27.0</td>\n      <td>545.0</td>\n      <td>Presidente</td>\n      <td>1</td>\n      <td>DEM</td>\n      <td>Luiz Henrique Mandetta</td>\n      <td>1.0</td>\n      <td>Intenção</td>\n      <td>IVR</td>\n      <td>Em 2022 teremos eleição para presidente do Bra...</td>\n    </tr>\n    <tr>\n      <th>6</th>\n      <td>2020-12-21</td>\n      <td>2020-12-23</td>\n      <td>Poder360</td>\n      <td>2.0</td>\n      <td>95</td>\n      <td>2500</td>\n      <td>27.0</td>\n      <td>545.0</td>\n      <td>Presidente</td>\n      <td>1</td>\n      <td>PSDB</td>\n      <td>João Doria</td>\n      <td>3.0</td>\n      <td>Intenção</td>\n      <td>IVR</td>\n      <td>Em 2022 teremos eleição para presidente do Bra...</td>\n    </tr>\n  </tbody>\n</table>\n</div>"
     },
     "metadata": {},
     "execution_count": 316
    }
   ],
   "source": [
    "df_int = pd.read_csv(\"~/Aprovacao/dados/Intencao.csv\")\n",
    "\n",
    "df_int.sort_values('DATAFIM', inplace=True)\n",
    "\n",
    "df_int.head()"
   ]
  },
  {
   "cell_type": "code",
   "execution_count": 317,
   "metadata": {},
   "outputs": [
    {
     "output_type": "execute_result",
     "data": {
      "text/plain": [
       "      data_ini    data_fim   empresa      nome       cargo  turno  \\\n",
       "0   2020-12-21  2020-12-23  Poder360  Poder360  Presidente      1   \n",
       "10  2020-12-21  2020-12-23  Poder360  Poder360  Presidente      1   \n",
       "8   2020-12-21  2020-12-23  Poder360  Poder360  Presidente      1   \n",
       "7   2020-12-21  2020-12-23  Poder360  Poder360  Presidente      1   \n",
       "6   2020-12-21  2020-12-23  Poder360  Poder360  Presidente      1   \n",
       "..         ...         ...       ...       ...         ...    ...   \n",
       "65  2021-04-21  2021-04-22     IDEIA     IDEIA  Presidente      1   \n",
       "64  2021-04-21  2021-04-22     IDEIA     IDEIA  Presidente      1   \n",
       "63  2021-04-21  2021-04-22     IDEIA     IDEIA  Presidente      1   \n",
       "62  2021-04-21  2021-04-22     IDEIA     IDEIA  Presidente      1   \n",
       "61  2021-04-21  2021-04-22     IDEIA     IDEIA  Presidente      1   \n",
       "\n",
       "          partido               candidato  voto  erro  ic  amostra   ufs  \\\n",
       "0   (Sem partido)          Jair Bolsonaro  36.0   2.0  95     2500  27.0   \n",
       "10              -                   NS/NR   5.0   2.0  95     2500  27.0   \n",
       "8         PC do B             Flávio Dino   1.0   2.0  95     2500  27.0   \n",
       "7             DEM  Luiz Henrique Mandetta   1.0   2.0  95     2500  27.0   \n",
       "6            PSDB              João Doria   3.0   2.0  95     2500  27.0   \n",
       "..            ...                     ...   ...   ...  ..      ...   ...   \n",
       "65           PSDB              João Doria   4.0   3.0  95     1200   NaN   \n",
       "64  (Sem partido)            Luciano Huck   6.0   3.0  95     1200   NaN   \n",
       "63            PDT              Ciro Gomes   9.0   3.0  95     1200   NaN   \n",
       "62             PT                    Lula  33.0   3.0  95     1200   NaN   \n",
       "61  (Sem partido)          Jair Bolsonaro  32.0   3.0  95     1200   NaN   \n",
       "\n",
       "    cidades      tipo  modo                                           pergunta  \n",
       "0     545.0  Intenção   IVR  Em 2022 teremos eleição para presidente do Bra...  \n",
       "10    545.0  Intenção   IVR  Em 2022 teremos eleição para presidente do Bra...  \n",
       "8     545.0  Intenção   IVR  Em 2022 teremos eleição para presidente do Bra...  \n",
       "7     545.0  Intenção   IVR  Em 2022 teremos eleição para presidente do Bra...  \n",
       "6     545.0  Intenção   IVR  Em 2022 teremos eleição para presidente do Bra...  \n",
       "..      ...       ...   ...                                                ...  \n",
       "65      NaN  Intenção  CATI  Se a eleição fosse hoje e os candidatos fossem...  \n",
       "64      NaN  Intenção  CATI  Se a eleição fosse hoje e os candidatos fossem...  \n",
       "63      NaN  Intenção  CATI  Se a eleição fosse hoje e os candidatos fossem...  \n",
       "62      NaN  Intenção  CATI  Se a eleição fosse hoje e os candidatos fossem...  \n",
       "61      NaN  Intenção  CATI  Se a eleição fosse hoje e os candidatos fossem...  \n",
       "\n",
       "[89 rows x 17 columns]"
      ],
      "text/html": "<div>\n<style scoped>\n    .dataframe tbody tr th:only-of-type {\n        vertical-align: middle;\n    }\n\n    .dataframe tbody tr th {\n        vertical-align: top;\n    }\n\n    .dataframe thead th {\n        text-align: right;\n    }\n</style>\n<table border=\"1\" class=\"dataframe\">\n  <thead>\n    <tr style=\"text-align: right;\">\n      <th></th>\n      <th>data_ini</th>\n      <th>data_fim</th>\n      <th>empresa</th>\n      <th>nome</th>\n      <th>cargo</th>\n      <th>turno</th>\n      <th>partido</th>\n      <th>candidato</th>\n      <th>voto</th>\n      <th>erro</th>\n      <th>ic</th>\n      <th>amostra</th>\n      <th>ufs</th>\n      <th>cidades</th>\n      <th>tipo</th>\n      <th>modo</th>\n      <th>pergunta</th>\n    </tr>\n  </thead>\n  <tbody>\n    <tr>\n      <th>0</th>\n      <td>2020-12-21</td>\n      <td>2020-12-23</td>\n      <td>Poder360</td>\n      <td>Poder360</td>\n      <td>Presidente</td>\n      <td>1</td>\n      <td>(Sem partido)</td>\n      <td>Jair Bolsonaro</td>\n      <td>36.0</td>\n      <td>2.0</td>\n      <td>95</td>\n      <td>2500</td>\n      <td>27.0</td>\n      <td>545.0</td>\n      <td>Intenção</td>\n      <td>IVR</td>\n      <td>Em 2022 teremos eleição para presidente do Bra...</td>\n    </tr>\n    <tr>\n      <th>10</th>\n      <td>2020-12-21</td>\n      <td>2020-12-23</td>\n      <td>Poder360</td>\n      <td>Poder360</td>\n      <td>Presidente</td>\n      <td>1</td>\n      <td>-</td>\n      <td>NS/NR</td>\n      <td>5.0</td>\n      <td>2.0</td>\n      <td>95</td>\n      <td>2500</td>\n      <td>27.0</td>\n      <td>545.0</td>\n      <td>Intenção</td>\n      <td>IVR</td>\n      <td>Em 2022 teremos eleição para presidente do Bra...</td>\n    </tr>\n    <tr>\n      <th>8</th>\n      <td>2020-12-21</td>\n      <td>2020-12-23</td>\n      <td>Poder360</td>\n      <td>Poder360</td>\n      <td>Presidente</td>\n      <td>1</td>\n      <td>PC do B</td>\n      <td>Flávio Dino</td>\n      <td>1.0</td>\n      <td>2.0</td>\n      <td>95</td>\n      <td>2500</td>\n      <td>27.0</td>\n      <td>545.0</td>\n      <td>Intenção</td>\n      <td>IVR</td>\n      <td>Em 2022 teremos eleição para presidente do Bra...</td>\n    </tr>\n    <tr>\n      <th>7</th>\n      <td>2020-12-21</td>\n      <td>2020-12-23</td>\n      <td>Poder360</td>\n      <td>Poder360</td>\n      <td>Presidente</td>\n      <td>1</td>\n      <td>DEM</td>\n      <td>Luiz Henrique Mandetta</td>\n      <td>1.0</td>\n      <td>2.0</td>\n      <td>95</td>\n      <td>2500</td>\n      <td>27.0</td>\n      <td>545.0</td>\n      <td>Intenção</td>\n      <td>IVR</td>\n      <td>Em 2022 teremos eleição para presidente do Bra...</td>\n    </tr>\n    <tr>\n      <th>6</th>\n      <td>2020-12-21</td>\n      <td>2020-12-23</td>\n      <td>Poder360</td>\n      <td>Poder360</td>\n      <td>Presidente</td>\n      <td>1</td>\n      <td>PSDB</td>\n      <td>João Doria</td>\n      <td>3.0</td>\n      <td>2.0</td>\n      <td>95</td>\n      <td>2500</td>\n      <td>27.0</td>\n      <td>545.0</td>\n      <td>Intenção</td>\n      <td>IVR</td>\n      <td>Em 2022 teremos eleição para presidente do Bra...</td>\n    </tr>\n    <tr>\n      <th>...</th>\n      <td>...</td>\n      <td>...</td>\n      <td>...</td>\n      <td>...</td>\n      <td>...</td>\n      <td>...</td>\n      <td>...</td>\n      <td>...</td>\n      <td>...</td>\n      <td>...</td>\n      <td>...</td>\n      <td>...</td>\n      <td>...</td>\n      <td>...</td>\n      <td>...</td>\n      <td>...</td>\n      <td>...</td>\n    </tr>\n    <tr>\n      <th>65</th>\n      <td>2021-04-21</td>\n      <td>2021-04-22</td>\n      <td>IDEIA</td>\n      <td>IDEIA</td>\n      <td>Presidente</td>\n      <td>1</td>\n      <td>PSDB</td>\n      <td>João Doria</td>\n      <td>4.0</td>\n      <td>3.0</td>\n      <td>95</td>\n      <td>1200</td>\n      <td>NaN</td>\n      <td>NaN</td>\n      <td>Intenção</td>\n      <td>CATI</td>\n      <td>Se a eleição fosse hoje e os candidatos fossem...</td>\n    </tr>\n    <tr>\n      <th>64</th>\n      <td>2021-04-21</td>\n      <td>2021-04-22</td>\n      <td>IDEIA</td>\n      <td>IDEIA</td>\n      <td>Presidente</td>\n      <td>1</td>\n      <td>(Sem partido)</td>\n      <td>Luciano Huck</td>\n      <td>6.0</td>\n      <td>3.0</td>\n      <td>95</td>\n      <td>1200</td>\n      <td>NaN</td>\n      <td>NaN</td>\n      <td>Intenção</td>\n      <td>CATI</td>\n      <td>Se a eleição fosse hoje e os candidatos fossem...</td>\n    </tr>\n    <tr>\n      <th>63</th>\n      <td>2021-04-21</td>\n      <td>2021-04-22</td>\n      <td>IDEIA</td>\n      <td>IDEIA</td>\n      <td>Presidente</td>\n      <td>1</td>\n      <td>PDT</td>\n      <td>Ciro Gomes</td>\n      <td>9.0</td>\n      <td>3.0</td>\n      <td>95</td>\n      <td>1200</td>\n      <td>NaN</td>\n      <td>NaN</td>\n      <td>Intenção</td>\n      <td>CATI</td>\n      <td>Se a eleição fosse hoje e os candidatos fossem...</td>\n    </tr>\n    <tr>\n      <th>62</th>\n      <td>2021-04-21</td>\n      <td>2021-04-22</td>\n      <td>IDEIA</td>\n      <td>IDEIA</td>\n      <td>Presidente</td>\n      <td>1</td>\n      <td>PT</td>\n      <td>Lula</td>\n      <td>33.0</td>\n      <td>3.0</td>\n      <td>95</td>\n      <td>1200</td>\n      <td>NaN</td>\n      <td>NaN</td>\n      <td>Intenção</td>\n      <td>CATI</td>\n      <td>Se a eleição fosse hoje e os candidatos fossem...</td>\n    </tr>\n    <tr>\n      <th>61</th>\n      <td>2021-04-21</td>\n      <td>2021-04-22</td>\n      <td>IDEIA</td>\n      <td>IDEIA</td>\n      <td>Presidente</td>\n      <td>1</td>\n      <td>(Sem partido)</td>\n      <td>Jair Bolsonaro</td>\n      <td>32.0</td>\n      <td>3.0</td>\n      <td>95</td>\n      <td>1200</td>\n      <td>NaN</td>\n      <td>NaN</td>\n      <td>Intenção</td>\n      <td>CATI</td>\n      <td>Se a eleição fosse hoje e os candidatos fossem...</td>\n    </tr>\n  </tbody>\n</table>\n<p>89 rows × 17 columns</p>\n</div>"
     },
     "metadata": {},
     "execution_count": 317
    }
   ],
   "source": [
    "df_int.rename(columns={'DATAINI': 'data_ini', 'DATAFIM': 'data_fim', 'EMPRESA': 'empresa', 'ERRO': 'erro', 'IC': 'ic', 'N': 'amostra', 'UFs': 'ufs',  'CIDADES': 'cidades', 'CARGO': 'cargo', 'TURNO': 'turno', 'PARTIDO': 'partido', 'CANDIDATO': 'candidato', 'VOTO': 'voto', 'TIPO': 'tipo', 'MODO': 'modo', 'PERGUNTA': 'pergunta'}, inplace=True)\n",
    "\n",
    "df_int['nome'] = df_int['empresa']\n",
    "\n",
    "column_order = ['data_ini', 'data_fim', 'empresa', 'nome', 'cargo', 'turno', 'partido', 'candidato', 'voto', 'erro', 'ic', 'amostra', 'ufs', 'cidades', 'tipo', 'modo', 'pergunta']\n",
    "\n",
    "\n",
    "\n",
    "df_int = df_int.reindex(columns=column_order)\n",
    "\n",
    "## Correções \n",
    "df_int['partido'].fillna('(Sem partido)',inplace=True)\n",
    "\n",
    "df_int"
   ]
  },
  {
   "cell_type": "code",
   "execution_count": 318,
   "metadata": {},
   "outputs": [
    {
     "output_type": "stream",
     "name": "stdout",
     "text": [
      "<class 'pandas.core.frame.DataFrame'>\nInt64Index: 89 entries, 0 to 61\nData columns (total 17 columns):\n #   Column     Non-Null Count  Dtype  \n---  ------     --------------  -----  \n 0   data_ini   89 non-null     object \n 1   data_fim   89 non-null     object \n 2   empresa    89 non-null     object \n 3   nome       89 non-null     object \n 4   cargo      89 non-null     object \n 5   turno      89 non-null     int64  \n 6   partido    89 non-null     object \n 7   candidato  89 non-null     object \n 8   voto       89 non-null     float64\n 9   erro       89 non-null     float64\n 10  ic         89 non-null     int64  \n 11  amostra    89 non-null     int64  \n 12  ufs        79 non-null     float64\n 13  cidades    79 non-null     float64\n 14  tipo       89 non-null     object \n 15  modo       89 non-null     object \n 16  pergunta   89 non-null     object \ndtypes: float64(4), int64(3), object(10)\nmemory usage: 12.5+ KB\n"
     ]
    }
   ],
   "source": [
    "df_int.info()"
   ]
  },
  {
   "cell_type": "code",
   "execution_count": 319,
   "metadata": {},
   "outputs": [
    {
     "output_type": "stream",
     "name": "stdout",
     "text": [
      "Banco: pollingpoint.db\nSQLite version: 3.34.0\nDados importados do DataFrame com sucesso.\nConexão fechada.\n"
     ]
    }
   ],
   "source": [
    "int = IntencaoDb()\n",
    "\n",
    "int.inserir_um_df(df_name=df_int)\n",
    "\n",
    "int.fechar_conexao()"
   ]
  },
  {
   "cell_type": "code",
   "execution_count": null,
   "metadata": {},
   "outputs": [],
   "source": []
  },
  {
   "cell_type": "code",
   "execution_count": 399,
   "metadata": {},
   "outputs": [
    {
     "output_type": "stream",
     "name": "stdout",
     "text": [
      "Conexão fechada.\n"
     ]
    }
   ],
   "source": [
    "int.fechar_conexao()"
   ]
  },
  {
   "cell_type": "code",
   "execution_count": 400,
   "metadata": {},
   "outputs": [
    {
     "output_type": "stream",
     "name": "stdout",
     "text": [
      "Banco: pollingpoint.db\nSQLite version: 3.34.0\n"
     ]
    }
   ],
   "source": [
    "int = IntencaoDb()"
   ]
  },
  {
   "cell_type": "code",
   "execution_count": 326,
   "metadata": {},
   "outputs": [
    {
     "output_type": "stream",
     "name": "stdout",
     "text": [
      "Total de pesquisas registradas: 89\n"
     ]
    }
   ],
   "source": [
    "int.contar_pesquisas()"
   ]
  },
  {
   "cell_type": "code",
   "execution_count": 328,
   "metadata": {},
   "outputs": [
    {
     "output_type": "stream",
     "name": "stdout",
     "text": [
      "Total de pesquisas da empresa Poder360 : 69\n"
     ]
    }
   ],
   "source": [
    "int.contar_pesquisas_por_empresa(empresa=\"Poder360\")"
   ]
  },
  {
   "cell_type": "code",
   "execution_count": 336,
   "metadata": {},
   "outputs": [
    {
     "output_type": "execute_result",
     "data": {
      "text/plain": [
       "(1,\n",
       " '2020-12-21',\n",
       " '2020-12-23',\n",
       " 'Poder360',\n",
       " 'Poder360',\n",
       " 'Presidente',\n",
       " 1,\n",
       " '(Sem partido)',\n",
       " 'Jair Bolsonaro',\n",
       " 36,\n",
       " 2,\n",
       " 95,\n",
       " 2500,\n",
       " '27.0',\n",
       " '545.0',\n",
       " 'Intenção',\n",
       " 'IVR',\n",
       " 'Em 2022 teremos eleição para presidente do Brasil. Se a eleição fosse hoje, em qual dos candidatos que vou falar em ordem alfabética você votaria?',\n",
       " '2021-06-11 09:19:00')"
      ]
     },
     "metadata": {},
     "execution_count": 336
    }
   ],
   "source": [
    "int.localizar_pesquisa(nome=\"Poder360\")"
   ]
  },
  {
   "cell_type": "code",
   "execution_count": 341,
   "metadata": {},
   "outputs": [
    {
     "output_type": "stream",
     "name": "stdout",
     "text": [
      "Pesquisa com o candidato Luciano Huck :\n(8, '2020-12-21', '2020-12-23', 'Poder360', 'Poder360', 'Presidente', 1, '(Sem partido)', 'Luciano Huck', 9, 2, 95, 2500, '27.0', '545.0', 'Intenção', 'IVR', 'Em 2022 teremos eleição para presidente do Brasil. Se a eleição fosse hoje, em qual dos candidatos que vou falar em ordem alfabética você votaria?', '2021-06-11 09:19:00')\n(13, '2021-02-25', '2021-03-01', 'Paraná', 'Paraná', 'Presidente', 1, '(Sem partido)', 'Luciano Huck', 8, 2, 95, 2080, '27.0', '196.0', 'Intenção', 'CATI', 'Em 2022 teremos eleição para presidente do Brasil. Se a eleição fosse hoje, em qual dos candidatos que vou falar em ordem alfabética você votaria?', '2021-06-11 09:19:00')\n(27, '2021-03-15', '2021-03-17', 'Poder360', 'Poder360', 'Presidente', 1, 'Sem partido', 'Luciano Huck', 4, 1.8, 95, 3500, '27.0', '545.0', 'Intenção', 'IVR', 'Em 2022 teremos eleição para presidente do Brasil. Se a eleição fosse hoje, em qual dos candidatos que vou falar em ordem alfabética você votaria?', '2021-06-11 09:19:00')\n(37, '2021-03-15', '2021-03-17', 'Poder360', 'Poder360', 'Presidente', 2, '(Sem partido)', 'Luciano Huck', 40, 1.8, 95, 3500, '27.0', '545.0', 'Bolsonaro x Huck', 'IVR', 'Em 2022 teremos eleição para presidente do Brasil. Se a eleição fosse hoje, em qual dos candidatos que vou falar em ordem alfabética você votaria?', '2021-06-11 09:19:00')\n(49, '2021-04-12', '2021-04-14', 'Poder360', 'Poder360', 'Presidente', 1, '(Sem partido)', 'Luciano Huck', 16, 1.8, 95, 3500, '27.0', '512.0', 'Potencial positivo', 'IVR', 'Sobre o candidato, você diria que...é o único que votaria', '2021-06-11 09:19:00')\n(50, '2021-04-12', '2021-04-14', 'Poder360', 'Poder360', 'Presidente', 1, '(Sem partido)', 'Luciano Huck', 30, 1.8, 95, 3500, '27.0', '512.0', 'Potencial neutro', 'IVR', 'Sobre o candidato, você diria que...poderia votar', '2021-06-11 09:19:00')\n(57, '2021-04-12', '2021-04-14', 'Poder360', 'Poder360', 'Presidente', 1, '(Sem partido)', 'Luciano Huck', 48, 1.8, 95, 3500, '27.0', '512.0', 'Potencial negativo', 'IVR', 'Sobre o candidato, você diria que...não votaria de jeito nenhum', '2021-06-11 09:19:00')\n(64, '2021-04-12', '2021-04-14', 'Poder360', 'Poder360', 'Presidente', 1, 'CIDADANIA', 'Luciano Huck', 6, 1.8, 95, 3500, '27.0', '512.0', 'Intenção', 'IVR', 'Em 2022 teremos eleição para presidente do Brasil. Se a eleição fosse hoje, em qual dos candidatos que vou falar em ordem alfabética você votaria?', '2021-06-11 09:19:00')\n(75, '2021-04-12', '2021-04-14', 'Poder360', 'Poder360', 'Presidente', 2, '(Sem partido)', 'Luciano Huck', 48, 1.8, 95, 3500, '27.0', '512.0', 'Bolsonaro x Huck', 'IVR', 'Em 2022 teremos eleição para presidente do Brasil. Se a eleição fosse hoje, em qual dos candidatos que vou falar em ordem alfabética você votaria?', '2021-06-11 09:19:00')\n(86, '2021-04-21', '2021-04-22', 'IDEIA', 'IDEIA', 'Presidente', 1, '(Sem partido)', 'Luciano Huck', 6, 3, 95, 1200, None, None, 'Intenção', 'CATI', 'Se a eleição fosse hoje e os candidatos fossem estes, em quem você votaria para presidente?', '2021-06-11 09:19:00')\n"
     ]
    }
   ],
   "source": [
    "int.localizar_pesquisa_por_candidato(candidato=\"Luciano Huck\")"
   ]
  },
  {
   "cell_type": "code",
   "execution_count": 340,
   "metadata": {},
   "outputs": [
    {
     "output_type": "stream",
     "name": "stdout",
     "text": [
      "Pesquisas sobre o 2 turno:\n(22, '2021-03-15', '2021-03-17', 'Poder360', 'Poder360', 'Presidente', 2, '(Sem partido)', 'Jair Bolsonaro', 36, 1.8, 95, 3500, '27.0', '545.0', 'Bolsonaro x Lula', 'IVR', 'Em 2022 teremos eleição para presidente do Brasil. Se a eleição fosse hoje, em qual dos candidatos que vou falar em ordem alfabética você votaria?', '2021-06-11 09:19:00')\n(32, '2021-03-15', '2021-03-17', 'Poder360', 'Poder360', 'Presidente', 2, '(Sem partido)', 'Sérgio Moro', 31, 1.8, 95, 3500, '27.0', '545.0', 'Bolsonaro x Moro', 'IVR', 'Em 2022 teremos eleição para presidente do Brasil. Se a eleição fosse hoje, em qual dos candidatos que vou falar em ordem alfabética você votaria?', '2021-06-11 09:19:00')\n(33, '2021-03-15', '2021-03-17', 'Poder360', 'Poder360', 'Presidente', 2, 'PT', 'Lula', 41, 1.8, 95, 3500, '27.0', '545.0', 'Bolsonaro x Lula', 'IVR', 'Em 2022 teremos eleição para presidente do Brasil. Se a eleição fosse hoje, em qual dos candidatos que vou falar em ordem alfabética você votaria?', '2021-06-11 09:19:00')\n(34, '2021-03-15', '2021-03-17', 'Poder360', 'Poder360', 'Presidente', 2, '(Sem partido)', 'Jair Bolsonaro', 34, 1.8, 95, 3500, '27.0', '545.0', 'Bolsonaro x Ciro', 'IVR', 'Em 2022 teremos eleição para presidente do Brasil. Se a eleição fosse hoje, em qual dos candidatos que vou falar em ordem alfabética você votaria?', '2021-06-11 09:19:00')\n(35, '2021-03-15', '2021-03-17', 'Poder360', 'Poder360', 'Presidente', 2, 'PDT', 'Ciro Gomes', 39, 1.8, 95, 3500, '27.0', '545.0', 'Bolsonaro x Ciro', 'IVR', 'Em 2022 teremos eleição para presidente do Brasil. Se a eleição fosse hoje, em qual dos candidatos que vou falar em ordem alfabética você votaria?', '2021-06-11 09:19:00')\n(36, '2021-03-15', '2021-03-17', 'Poder360', 'Poder360', 'Presidente', 2, '(Sem partido)', 'Jair Bolsonaro', 37, 1.8, 95, 3500, '27.0', '545.0', 'Bolsonaro x Huck', 'IVR', 'Em 2022 teremos eleição para presidente do Brasil. Se a eleição fosse hoje, em qual dos candidatos que vou falar em ordem alfabética você votaria?', '2021-06-11 09:19:00')\n(37, '2021-03-15', '2021-03-17', 'Poder360', 'Poder360', 'Presidente', 2, '(Sem partido)', 'Luciano Huck', 40, 1.8, 95, 3500, '27.0', '545.0', 'Bolsonaro x Huck', 'IVR', 'Em 2022 teremos eleição para presidente do Brasil. Se a eleição fosse hoje, em qual dos candidatos que vou falar em ordem alfabética você votaria?', '2021-06-11 09:19:00')\n(38, '2021-03-15', '2021-03-17', 'Poder360', 'Poder360', 'Presidente', 2, '(Sem partido)', 'João Doria', 31, 1.8, 95, 3500, '27.0', '545.0', 'Bolsonaro x Doria', 'IVR', 'Em 2022 teremos eleição para presidente do Brasil. Se a eleição fosse hoje, em qual dos candidatos que vou falar em ordem alfabética você votaria?', '2021-06-11 09:19:00')\n(39, '2021-03-15', '2021-03-17', 'Poder360', 'Poder360', 'Presidente', 2, '(Sem partido)', 'Jair Bolsonaro', 38, 1.8, 95, 3500, '27.0', '545.0', 'Bolsonaro x Moro', 'IVR', 'Em 2022 teremos eleição para presidente do Brasil. Se a eleição fosse hoje, em qual dos candidatos que vou falar em ordem alfabética você votaria?', '2021-06-11 09:19:00')\n(41, '2021-03-15', '2021-03-17', 'Poder360', 'Poder360', 'Presidente', 2, '(Sem partido)', 'Jair Bolsonaro', 41, 1.8, 95, 3500, '27.0', '545.0', 'Bolsonaro x Doria', 'IVR', 'Em 2022 teremos eleição para presidente do Brasil. Se a eleição fosse hoje, em qual dos candidatos que vou falar em ordem alfabética você votaria?', '2021-06-11 09:19:00')\n(58, '2021-04-12', '2021-04-14', 'Poder360', 'Poder360', 'Presidente', 2, 'PDT', 'Ciro Gomes', 38, 1.8, 95, 3500, '27.0', '512.0', 'Bolsonaro x Ciro', 'IVR', 'Em 2022 teremos eleição para presidente do Brasil. Se a eleição fosse hoje, em qual dos candidatos que vou falar em ordem alfabética você votaria?', '2021-06-11 09:19:00')\n(59, '2021-04-12', '2021-04-14', 'Poder360', 'Poder360', 'Presidente', 2, '(Sem partido)', 'Jair Bolsonaro', 38, 1.8, 95, 3500, '27.0', '512.0', 'Bolsonaro x Doria', 'IVR', 'Em 2022 teremos eleição para presidente do Brasil. Se a eleição fosse hoje, em qual dos candidatos que vou falar em ordem alfabética você votaria?', '2021-06-11 09:19:00')\n(70, '2021-04-12', '2021-04-14', 'Poder360', 'Poder360', 'Presidente', 2, '(Sem partido)', 'Jair Bolsonaro', 34, 1.8, 95, 3500, '27.0', '512.0', 'Bolsonaro x Lula', 'IVR', 'Em 2022 teremos eleição para presidente do Brasil. Se a eleição fosse hoje, em qual dos candidatos que vou falar em ordem alfabética você votaria?', '2021-06-11 09:19:00')\n(71, '2021-04-12', '2021-04-14', 'Poder360', 'Poder360', 'Presidente', 2, 'PT', 'Lula', 52, 1.8, 95, 3500, '27.0', '512.0', 'Bolsonaro x Lula', 'IVR', 'Em 2022 teremos eleição para presidente do Brasil. Se a eleição fosse hoje, em qual dos candidatos que vou falar em ordem alfabética você votaria?', '2021-06-11 09:19:00')\n(72, '2021-04-12', '2021-04-14', 'Poder360', 'Poder360', 'Presidente', 2, '(Sem partido)', 'Jair Bolsonaro', 38, 1.8, 95, 3500, '27.0', '512.0', 'Bolsonaro x Ciro', 'IVR', 'Em 2022 teremos eleição para presidente do Brasil. Se a eleição fosse hoje, em qual dos candidatos que vou falar em ordem alfabética você votaria?', '2021-06-11 09:19:00')\n(73, '2021-04-12', '2021-04-14', 'Poder360', 'Poder360', 'Presidente', 2, '(Sem partido)', 'João Doria', 37, 1.8, 95, 3500, '27.0', '512.0', 'Bolsonaro x Doria', 'IVR', 'Em 2022 teremos eleição para presidente do Brasil. Se a eleição fosse hoje, em qual dos candidatos que vou falar em ordem alfabética você votaria?', '2021-06-11 09:19:00')\n(75, '2021-04-12', '2021-04-14', 'Poder360', 'Poder360', 'Presidente', 2, '(Sem partido)', 'Luciano Huck', 48, 1.8, 95, 3500, '27.0', '512.0', 'Bolsonaro x Huck', 'IVR', 'Em 2022 teremos eleição para presidente do Brasil. Se a eleição fosse hoje, em qual dos candidatos que vou falar em ordem alfabética você votaria?', '2021-06-11 09:19:00')\n(76, '2021-04-12', '2021-04-14', 'Poder360', 'Poder360', 'Presidente', 2, '(Sem partido)', 'Jair Bolsonaro', 38, 1.8, 95, 3500, '27.0', '512.0', 'Bolsonaro x Moro', 'IVR', 'Em 2022 teremos eleição para presidente do Brasil. Se a eleição fosse hoje, em qual dos candidatos que vou falar em ordem alfabética você votaria?', '2021-06-11 09:19:00')\n(77, '2021-04-12', '2021-04-14', 'Poder360', 'Poder360', 'Presidente', 2, '(Sem partido)', 'Sérgio Moro', 37, 1.8, 95, 3500, '27.0', '512.0', 'Bolsonaro x Moro', 'IVR', 'Em 2022 teremos eleição para presidente do Brasil. Se a eleição fosse hoje, em qual dos candidatos que vou falar em ordem alfabética você votaria?', '2021-06-11 09:19:00')\n(78, '2021-04-12', '2021-04-14', 'Poder360', 'Poder360', 'Presidente', 2, '(Sem partido)', 'Jair Bolsonaro', 35, 1.8, 95, 3500, '27.0', '512.0', 'Bolsonaro x Huck', 'IVR', 'Em 2022 teremos eleição para presidente do Brasil. Se a eleição fosse hoje, em qual dos candidatos que vou falar em ordem alfabética você votaria?', '2021-06-11 09:19:00')\n"
     ]
    }
   ],
   "source": [
    "int.localizar_pesquisa_por_turno(turno=\"2\")"
   ]
  },
  {
   "cell_type": "code",
   "execution_count": 344,
   "metadata": {},
   "outputs": [
    {
     "output_type": "stream",
     "name": "stdout",
     "text": [
      "Pesquisas realizadas depois de 2021-06-01 :\n"
     ]
    }
   ],
   "source": [
    "int.localizar_pesquisa_por_data(data=\"2021-06-01\")"
   ]
  },
  {
   "cell_type": "code",
   "execution_count": 345,
   "metadata": {},
   "outputs": [
    {
     "output_type": "stream",
     "name": "stdout",
     "text": [
      "Colunas: ['id', 'data_ini', 'data_fim', 'empresa', 'nome', 'cargo', 'turno', 'partido', 'candidato', 'voto', 'erro', 'ic', 'amostra', 'ufs', 'cidades', 'tipo', 'modo', 'pergunta', 'timestamp']\n"
     ]
    }
   ],
   "source": [
    "int.table_info()"
   ]
  },
  {
   "cell_type": "code",
   "execution_count": 346,
   "metadata": {},
   "outputs": [
    {
     "output_type": "stream",
     "name": "stdout",
     "text": [
      "Tabelas:\naprovacao\nempresas\nintencao\npollsters\nranking\nsqlite_sequence\n"
     ]
    }
   ],
   "source": [
    "int.table_list()"
   ]
  },
  {
   "cell_type": "code",
   "execution_count": 347,
   "metadata": {},
   "outputs": [
    {
     "output_type": "stream",
     "name": "stdout",
     "text": [
      "Schema:\nCREATE TABLE intencao (\n\tid INTEGER UNIQUE,\n\tdata_ini DATE NOT NULL,\n\tdata_fim DATE NOT NULL,\n\tempresa TEXT NOT NULL,\n\tnome TEXT NOT NULL,\n\tcargo TEXT NOT NULL,\n\tturno INTEGER NOT NULL,\n\tpartido TEXT,\n\tcandidato TEXT NOT NULL,\n\tvoto NUMERIC(2,1) NOT NULL,\n\terro NUMERIC(2,1),\n\tic NUMERIC(2,1),\n\tamostra INTEGER,\n\tufs TEXT,\n\tcidades TEXT,\n\ttipo TEXT NOT NULL,\n\tmodo TEXT NOT NULL,\n\tpergunta TEXT,\n\ttimestamp DATETIME NOT NULL DEFAULT (datetime(CURRENT_TIMESTAMP, 'localtime')),\n\tCONSTRAINT pk_intencao PRIMARY KEY(data_fim, empresa, nome, cargo, turno, candidato, tipo),\n    CONSTRAINT fk_intencao FOREIGN KEY(empresa) REFERENCES empresas(nome),\n\tCONSTRAINT fk2_intencao FOREIGN KEY(empresa) REFERENCES ranking(empresa),\n\tCHECK (data_ini LIKE '____-__-__'),\n\tCHECK (data_fim LIKE '____-__-__')\n)\n"
     ]
    }
   ],
   "source": [
    "int.table_schema()"
   ]
  },
  {
   "cell_type": "code",
   "execution_count": 373,
   "metadata": {},
   "outputs": [
    {
     "output_type": "error",
     "ename": "OperationalError",
     "evalue": "no such function: AVE",
     "traceback": [
      "\u001b[0;31m---------------------------------------------------------------------------\u001b[0m",
      "\u001b[0;31mOperationalError\u001b[0m                          Traceback (most recent call last)",
      "\u001b[0;32m<ipython-input-373-cc0f69ee7ada>\u001b[0m in \u001b[0;36m<module>\u001b[0;34m\u001b[0m\n\u001b[0;32m----> 1\u001b[0;31m \u001b[0mint\u001b[0m\u001b[0;34m.\u001b[0m\u001b[0mmeu_select\u001b[0m\u001b[0;34m(\u001b[0m\u001b[0;34m)\u001b[0m\u001b[0;34m\u001b[0m\u001b[0;34m\u001b[0m\u001b[0m\n\u001b[0m",
      "\u001b[0;32m<ipython-input-370-3bd5eb6883f0>\u001b[0m in \u001b[0;36mmeu_select\u001b[0;34m(self, sql)\u001b[0m\n\u001b[1;32m    241\u001b[0m     \u001b[0;31m# myselect\u001b[0m\u001b[0;34m\u001b[0m\u001b[0;34m\u001b[0m\u001b[0;34m\u001b[0m\u001b[0m\n\u001b[1;32m    242\u001b[0m     \u001b[0;32mdef\u001b[0m \u001b[0mmeu_select\u001b[0m\u001b[0;34m(\u001b[0m\u001b[0mself\u001b[0m\u001b[0;34m,\u001b[0m \u001b[0msql\u001b[0m\u001b[0;34m=\u001b[0m\u001b[0;34m\"SELECT AVE(voto) FROM intencao WHERE presidente='Jair Bolsonaro';\"\u001b[0m\u001b[0;34m)\u001b[0m\u001b[0;34m:\u001b[0m\u001b[0;34m\u001b[0m\u001b[0;34m\u001b[0m\u001b[0m\n\u001b[0;32m--> 243\u001b[0;31m         \u001b[0mr\u001b[0m \u001b[0;34m=\u001b[0m \u001b[0mself\u001b[0m\u001b[0;34m.\u001b[0m\u001b[0mdb\u001b[0m\u001b[0;34m.\u001b[0m\u001b[0mcursor\u001b[0m\u001b[0;34m.\u001b[0m\u001b[0mexecute\u001b[0m\u001b[0;34m(\u001b[0m\u001b[0msql\u001b[0m\u001b[0;34m)\u001b[0m\u001b[0;34m\u001b[0m\u001b[0;34m\u001b[0m\u001b[0m\n\u001b[0m\u001b[1;32m    244\u001b[0m         \u001b[0;31m# gravando no bd\u001b[0m\u001b[0;34m\u001b[0m\u001b[0;34m\u001b[0m\u001b[0;34m\u001b[0m\u001b[0m\n\u001b[1;32m    245\u001b[0m         \u001b[0mself\u001b[0m\u001b[0;34m.\u001b[0m\u001b[0mdb\u001b[0m\u001b[0;34m.\u001b[0m\u001b[0mcommit_db\u001b[0m\u001b[0;34m(\u001b[0m\u001b[0;34m)\u001b[0m\u001b[0;34m\u001b[0m\u001b[0;34m\u001b[0m\u001b[0m\n",
      "\u001b[0;31mOperationalError\u001b[0m: no such function: AVE"
     ]
    }
   ],
   "source": [
    "int.meu_select()"
   ]
  },
  {
   "cell_type": "code",
   "execution_count": 402,
   "metadata": {},
   "outputs": [
    {
     "output_type": "stream",
     "name": "stdout",
     "text": [
      "id data_fim nome cargo turno candidato voto amostra tipo\n6 2020-12-21 2020-12-23 Poder360 Poder360 Presidente 1 - Branco/Nulo\n10 2020-12-21 2020-12-23 Poder360 Poder360 Presidente 1 PT Fernando Haddad\n3 2020-12-21 2020-12-23 Poder360 Poder360 Presidente 1 PC do B Flávio Dino\n7 2020-12-21 2020-12-23 Poder360 Poder360 Presidente 1 Psol Guilherme Boulos\n1 2020-12-21 2020-12-23 Poder360 Poder360 Presidente 1 (Sem partido) Jair Bolsonaro\n11 2020-12-21 2020-12-23 Poder360 Poder360 Presidente 1 NOVO João Amoêdo\n5 2020-12-21 2020-12-23 Poder360 Poder360 Presidente 1 PSDB João Doria\n8 2020-12-21 2020-12-23 Poder360 Poder360 Presidente 1 (Sem partido) Luciano Huck\n4 2020-12-21 2020-12-23 Poder360 Poder360 Presidente 1 DEM Luiz Henrique Mandetta\n2 2020-12-21 2020-12-23 Poder360 Poder360 Presidente 1 - NS/NR\n9 2020-12-21 2020-12-23 Poder360 Poder360 Presidente 1 (Sem partido) Sérgio Moro\n19 2021-02-25 2021-03-01 Paraná Paraná Presidente 1 - Branco/Nulo\n20 2021-02-25 2021-03-01 Paraná Paraná Presidente 1 PDT Ciro Gomes\n15 2021-02-25 2021-03-01 Paraná Paraná Presidente 1 PT Fernando Haddad\n21 2021-02-25 2021-03-01 Paraná Paraná Presidente 1 Psol Guilherme Boulos\n16 2021-02-25 2021-03-01 Paraná Paraná Presidente 1 (Sem partido) Jair Bolsonaro\n17 2021-02-25 2021-03-01 Paraná Paraná Presidente 1 NOVO João Amoêdo\n18 2021-02-25 2021-03-01 Paraná Paraná Presidente 1 PSDB João Doria\n13 2021-02-25 2021-03-01 Paraná Paraná Presidente 1 (Sem partido) Luciano Huck\n12 2021-02-25 2021-03-01 Paraná Paraná Presidente 1 - NS/NR\n14 2021-02-25 2021-03-01 Paraná Paraná Presidente 1 (Sem partido) Sérgio Moro\n40 2021-03-15 2021-03-17 Poder360 Poder360 Presidente 1 - Branco/Nulo\n26 2021-03-15 2021-03-17 Poder360 Poder360 Presidente 1 PDT Ciro Gomes\n23 2021-03-15 2021-03-17 Poder360 Poder360 Presidente 1 Sem partido Jair Bolsonaro\n29 2021-03-15 2021-03-17 Poder360 Poder360 Presidente 1 NOVO João Amoêdo\n28 2021-03-15 2021-03-17 Poder360 Poder360 Presidente 1 PSDB João Doria\n27 2021-03-15 2021-03-17 Poder360 Poder360 Presidente 1 Sem partido Luciano Huck\n30 2021-03-15 2021-03-17 Poder360 Poder360 Presidente 1 DEM Luiz Henrique Mandetta\n24 2021-03-15 2021-03-17 Poder360 Poder360 Presidente 1 PT Lula\n31 2021-03-15 2021-03-17 Poder360 Poder360 Presidente 1 - NS/NR\n25 2021-03-15 2021-03-17 Poder360 Poder360 Presidente 1 (Sem partido) Sérgio Moro\n35 2021-03-15 2021-03-17 Poder360 Poder360 Presidente 2 PDT Ciro Gomes\n34 2021-03-15 2021-03-17 Poder360 Poder360 Presidente 2 (Sem partido) Jair Bolsonaro\n41 2021-03-15 2021-03-17 Poder360 Poder360 Presidente 2 (Sem partido) Jair Bolsonaro\n36 2021-03-15 2021-03-17 Poder360 Poder360 Presidente 2 (Sem partido) Jair Bolsonaro\n22 2021-03-15 2021-03-17 Poder360 Poder360 Presidente 2 (Sem partido) Jair Bolsonaro\n39 2021-03-15 2021-03-17 Poder360 Poder360 Presidente 2 (Sem partido) Jair Bolsonaro\n38 2021-03-15 2021-03-17 Poder360 Poder360 Presidente 2 (Sem partido) João Doria\n37 2021-03-15 2021-03-17 Poder360 Poder360 Presidente 2 (Sem partido) Luciano Huck\n33 2021-03-15 2021-03-17 Poder360 Poder360 Presidente 2 PT Lula\n32 2021-03-15 2021-03-17 Poder360 Poder360 Presidente 2 (Sem partido) Sérgio Moro\n68 2021-04-12 2021-04-14 Poder360 Poder360 Presidente 1 - Branco/Nulo\n63 2021-04-12 2021-04-14 Poder360 Poder360 Presidente 1 PDT Ciro Gomes\n53 2021-04-12 2021-04-14 Poder360 Poder360 Presidente 1 PDT Ciro Gomes\n52 2021-04-12 2021-04-14 Poder360 Poder360 Presidente 1 PDT Ciro Gomes\n51 2021-04-12 2021-04-14 Poder360 Poder360 Presidente 1 PDT Ciro Gomes\n60 2021-04-12 2021-04-14 Poder360 Poder360 Presidente 1 (Sem partido) Jair Bolsonaro\n45 2021-04-12 2021-04-14 Poder360 Poder360 Presidente 1 (Sem partido) Jair Bolsonaro\n44 2021-04-12 2021-04-14 Poder360 Poder360 Presidente 1 (Sem partido) Jair Bolsonaro\n43 2021-04-12 2021-04-14 Poder360 Poder360 Presidente 1 (Sem partido) Jair Bolsonaro\n66 2021-04-12 2021-04-14 Poder360 Poder360 Presidente 1 NOVO João Amoêdo\n65 2021-04-12 2021-04-14 Poder360 Poder360 Presidente 1 PSDB João Doria\n42 2021-04-12 2021-04-14 Poder360 Poder360 Presidente 1 PSDB João Doria\n55 2021-04-12 2021-04-14 Poder360 Poder360 Presidente 1 PSDB João Doria\n54 2021-04-12 2021-04-14 Poder360 Poder360 Presidente 1 PSDB João Doria\n64 2021-04-12 2021-04-14 Poder360 Poder360 Presidente 1 CIDADANIA Luciano Huck\n57 2021-04-12 2021-04-14 Poder360 Poder360 Presidente 1 (Sem partido) Luciano Huck\n50 2021-04-12 2021-04-14 Poder360 Poder360 Presidente 1 (Sem partido) Luciano Huck\n49 2021-04-12 2021-04-14 Poder360 Poder360 Presidente 1 (Sem partido) Luciano Huck\n67 2021-04-12 2021-04-14 Poder360 Poder360 Presidente 1 DEM Luiz Henrique Mandetta\n61 2021-04-12 2021-04-14 Poder360 Poder360 Presidente 1 PT Lula\n48 2021-04-12 2021-04-14 Poder360 Poder360 Presidente 1 PT Lula\n47 2021-04-12 2021-04-14 Poder360 Poder360 Presidente 1 PT Lula\n46 2021-04-12 2021-04-14 Poder360 Poder360 Presidente 1 PT Lula\n69 2021-04-12 2021-04-14 Poder360 Poder360 Presidente 1 - NS/NR\n62 2021-04-12 2021-04-14 Poder360 Poder360 Presidente 1 (Sem partido) Sérgio Moro\n79 2021-04-12 2021-04-14 Poder360 Poder360 Presidente 1 (Sem partido) Sérgio Moro\n74 2021-04-12 2021-04-14 Poder360 Poder360 Presidente 1 (Sem partido) Sérgio Moro\n56 2021-04-12 2021-04-14 Poder360 Poder360 Presidente 1 (Sem partido) Sérgio Moro\n58 2021-04-12 2021-04-14 Poder360 Poder360 Presidente 2 PDT Ciro Gomes\n72 2021-04-12 2021-04-14 Poder360 Poder360 Presidente 2 (Sem partido) Jair Bolsonaro\n59 2021-04-12 2021-04-14 Poder360 Poder360 Presidente 2 (Sem partido) Jair Bolsonaro\n78 2021-04-12 2021-04-14 Poder360 Poder360 Presidente 2 (Sem partido) Jair Bolsonaro\n70 2021-04-12 2021-04-14 Poder360 Poder360 Presidente 2 (Sem partido) Jair Bolsonaro\n76 2021-04-12 2021-04-14 Poder360 Poder360 Presidente 2 (Sem partido) Jair Bolsonaro\n73 2021-04-12 2021-04-14 Poder360 Poder360 Presidente 2 (Sem partido) João Doria\n75 2021-04-12 2021-04-14 Poder360 Poder360 Presidente 2 (Sem partido) Luciano Huck\n71 2021-04-12 2021-04-14 Poder360 Poder360 Presidente 2 PT Lula\n77 2021-04-12 2021-04-14 Poder360 Poder360 Presidente 2 (Sem partido) Sérgio Moro\n80 2021-04-21 2021-04-22 IDEIA IDEIA Presidente 1 - Branco/Nulo\n87 2021-04-21 2021-04-22 IDEIA IDEIA Presidente 1 PDT Ciro Gomes\n82 2021-04-21 2021-04-22 IDEIA IDEIA Presidente 1 (Sem partido) Danilo Gentili\n89 2021-04-21 2021-04-22 IDEIA IDEIA Presidente 1 (Sem partido) Jair Bolsonaro\n84 2021-04-21 2021-04-22 IDEIA IDEIA Presidente 1 NOVO João Amoêdo\n85 2021-04-21 2021-04-22 IDEIA IDEIA Presidente 1 PSDB João Doria\n86 2021-04-21 2021-04-22 IDEIA IDEIA Presidente 1 (Sem partido) Luciano Huck\n83 2021-04-21 2021-04-22 IDEIA IDEIA Presidente 1 DEM Luiz Henrique Mandetta\n88 2021-04-21 2021-04-22 IDEIA IDEIA Presidente 1 PT Lula\n81 2021-04-21 2021-04-22 IDEIA IDEIA Presidente 1 - NS/NR\n"
     ]
    }
   ],
   "source": [
    "import os\n",
    "import sqlite3\n",
    "import io\n",
    "import datetime\n",
    "import csv\n",
    "\n",
    "dat = int.imprimir_todas_pesquisas()"
   ]
  },
  {
   "cell_type": "code",
   "execution_count": null,
   "metadata": {},
   "outputs": [],
   "source": []
  },
  {
   "cell_type": "code",
   "execution_count": null,
   "metadata": {},
   "outputs": [],
   "source": []
  },
  {
   "cell_type": "code",
   "execution_count": 404,
   "metadata": {},
   "outputs": [],
   "source": [
    "import sqlite3\n",
    "\n",
    "conn = sqlite3.connect('pollingpoint.db')\n",
    "\n",
    "cursor = conn.cursor()"
   ]
  },
  {
   "cell_type": "code",
   "execution_count": 406,
   "metadata": {},
   "outputs": [
    {
     "output_type": "execute_result",
     "data": {
      "text/plain": [
       "<sqlite3.Cursor at 0x11d50f650>"
      ]
     },
     "metadata": {},
     "execution_count": 406
    }
   ],
   "source": [
    "cursor.execute(\"\"\"\n",
    "INSERT OR FAIL INTO aprovacao (id, data_ini, data_fim, empresa, nome, positiva, regular, negativa, nsnr, erro, ic, amostra, ufs, cidades, partido, presidente, tipo, pergunta, modo)\n",
    "VALUES ((SELECT IFNULL(MAX(id), 0) + 1 FROM aprovacao), '2021-06-05', '2021-06-06', 'IDEIA Big Data', 'EXAME/IDEIA', 26, 23, 49, 2, 3, 95, 1252, 27, '','(Sem partido)', 'Jair Bolsonaro', 'Avaliação do governo federal', 'Como você avalia o governo de Jair Bolsonaro até o momento?', 'CATI')\n",
    "\"\"\")\n",
    "\n",
    "# gravando no bd\n",
    "conn.commit()\n",
    "\n",
    "print('Dados inseridos com sucesso.')\n",
    "\n",
    "conn.close()"
   ]
  },
  {
   "cell_type": "code",
   "execution_count": 408,
   "metadata": {},
   "outputs": [
    {
     "output_type": "stream",
     "name": "stdout",
     "text": [
      "Dados inseridos com sucesso.\n"
     ]
    }
   ],
   "source": [
    "conn = sqlite3.connect('pollingpoint.db')\n",
    "\n",
    "cursor = conn.cursor()\n",
    "\n",
    "cursor.execute(\"\"\"\n",
    "INSERT OR FAIL INTO aprovacao (id, data_ini, data_fim, empresa, nome, positiva, regular, negativa, nsnr, erro, ic, amostra, ufs, cidades, partido, presidente, tipo, pergunta, modo)\n",
    "VALUES ((SELECT IFNULL(MAX(id), 0) + 1 FROM aprovacao), '2021-06-05', '2021-06-06', 'IDEIA Big Data', 'EXAME/IDEIA', 25, 23, 50, 2, 3, 95, 1252, 27, '','(Sem partido)', 'Jair Bolsonaro', 'Aprovacao do governo federal', 'Você aprova ou desaprova a maneira como Jair Bolsonaro está lidando com seu trabalho como presidente?', 'CATI')\n",
    "\"\"\")\n",
    "\n",
    "# gravando no bd\n",
    "conn.commit()\n",
    "\n",
    "print('Dados inseridos com sucesso.')\n",
    "\n",
    "conn.close()"
   ]
  },
  {
   "cell_type": "code",
   "execution_count": 410,
   "metadata": {},
   "outputs": [
    {
     "output_type": "stream",
     "name": "stdout",
     "text": [
      "Dados inseridos com sucesso.\n"
     ]
    }
   ],
   "source": [
    "conn = sqlite3.connect('pollingpoint.db')\n",
    "\n",
    "cursor = conn.cursor()\n",
    "\n",
    "cursor.execute(\"\"\"\n",
    "INSERT OR FAIL INTO aprovacao (id, data_ini, data_fim, empresa, nome, positiva, regular, negativa, nsnr, erro, ic, amostra, ufs, cidades, partido, presidente, tipo, pergunta, modo)\n",
    "VALUES ((SELECT IFNULL(MAX(id), 0) + 1 FROM aprovacao), '2021-06-07', '2021-06-10', 'Ipespe', 'Ipespe/XP', 34,'', 60, 6, 3.2, 95, 1000, 24, '','(Sem partido)', 'Jair Bolsonaro', 'Aprovacao do governo federal', 'O(a) sr(a) aprova ou desaprova a maneira como o presidente Jair Bolsonaro vem administrando o país?', 'CATI')\n",
    "\"\"\")\n",
    "\n",
    "cursor.execute(\"\"\"\n",
    "INSERT OR FAIL INTO aprovacao (id, data_ini, data_fim, empresa, nome, positiva, regular, negativa, nsnr, erro, ic, amostra, ufs, cidades, partido, presidente, tipo, pergunta, modo)\n",
    "VALUES ((SELECT IFNULL(MAX(id), 0) + 1 FROM aprovacao), '2021-06-07', '2021-06-10', 'Ipespe', 'Ipespe/XP', 26, 22, 50, 2, 3.2, 95, 1000, 24, '','(Sem partido)', 'Jair Bolsonaro', 'Avaliação do governo federal', 'Na sua opinião o presidente Jair Bolsonaro está fazendo um governo ótimo, bom, regular, ruim ou péssimo?', 'CATI')\n",
    "\"\"\")\n",
    "\n",
    "# gravando no bd\n",
    "conn.commit()\n",
    "\n",
    "print('Dados inseridos com sucesso.')\n",
    "\n",
    "conn.close()\n"
   ]
  },
  {
   "cell_type": "code",
   "execution_count": 1,
   "metadata": {},
   "outputs": [],
   "source": [
    "from manager_db import *"
   ]
  },
  {
   "cell_type": "code",
   "execution_count": 2,
   "metadata": {},
   "outputs": [
    {
     "output_type": "stream",
     "name": "stdout",
     "text": [
      "Banco: pollingpoint.db\nSQLite version: 3.34.0\n"
     ]
    }
   ],
   "source": [
    "int = IntencaoDb()"
   ]
  },
  {
   "cell_type": "code",
   "execution_count": 3,
   "metadata": {},
   "outputs": [
    {
     "output_type": "stream",
     "name": "stdout",
     "text": [
      "Criando tabela intencao ...\n"
     ]
    },
    {
     "output_type": "error",
     "ename": "FileNotFoundError",
     "evalue": "[Errno 2] No such file or directory: 'sql/intencao_schema.sql'",
     "traceback": [
      "\u001b[0;31m---------------------------------------------------------------------------\u001b[0m",
      "\u001b[0;31mFileNotFoundError\u001b[0m                         Traceback (most recent call last)",
      "\u001b[0;32m<ipython-input-3-a17bb497c53d>\u001b[0m in \u001b[0;36m<module>\u001b[0;34m\u001b[0m\n\u001b[0;32m----> 1\u001b[0;31m \u001b[0mint\u001b[0m\u001b[0;34m.\u001b[0m\u001b[0mcriar_schema\u001b[0m\u001b[0;34m(\u001b[0m\u001b[0;34m)\u001b[0m\u001b[0;34m\u001b[0m\u001b[0;34m\u001b[0m\u001b[0m\n\u001b[0m",
      "\u001b[0;32m~/dmarcelinobr/pollingpoint/scripts/manager_db.py\u001b[0m in \u001b[0;36mcriar_schema\u001b[0;34m(self, schema_name)\u001b[0m\n\u001b[1;32m    133\u001b[0m \u001b[0;34m\u001b[0m\u001b[0m\n\u001b[1;32m    134\u001b[0m         \u001b[0;32mtry\u001b[0m\u001b[0;34m:\u001b[0m\u001b[0;34m\u001b[0m\u001b[0;34m\u001b[0m\u001b[0m\n\u001b[0;32m--> 135\u001b[0;31m             \u001b[0;32mwith\u001b[0m \u001b[0mopen\u001b[0m\u001b[0;34m(\u001b[0m\u001b[0mschema_name\u001b[0m\u001b[0;34m,\u001b[0m \u001b[0;34m'rt'\u001b[0m\u001b[0;34m)\u001b[0m \u001b[0;32mas\u001b[0m \u001b[0mf\u001b[0m\u001b[0;34m:\u001b[0m\u001b[0;34m\u001b[0m\u001b[0;34m\u001b[0m\u001b[0m\n\u001b[0m\u001b[1;32m    136\u001b[0m                 \u001b[0mschema\u001b[0m \u001b[0;34m=\u001b[0m \u001b[0mf\u001b[0m\u001b[0;34m.\u001b[0m\u001b[0mread\u001b[0m\u001b[0;34m(\u001b[0m\u001b[0;34m)\u001b[0m\u001b[0;34m\u001b[0m\u001b[0;34m\u001b[0m\u001b[0m\n\u001b[1;32m    137\u001b[0m                 \u001b[0mself\u001b[0m\u001b[0;34m.\u001b[0m\u001b[0mdb\u001b[0m\u001b[0;34m.\u001b[0m\u001b[0mcursor\u001b[0m\u001b[0;34m.\u001b[0m\u001b[0mexecutescript\u001b[0m\u001b[0;34m(\u001b[0m\u001b[0mschema\u001b[0m\u001b[0;34m)\u001b[0m\u001b[0;34m\u001b[0m\u001b[0;34m\u001b[0m\u001b[0m\n",
      "\u001b[0;31mFileNotFoundError\u001b[0m: [Errno 2] No such file or directory: 'sql/intencao_schema.sql'"
     ]
    }
   ],
   "source": [
    "int.criar_schema()"
   ]
  },
  {
   "cell_type": "code",
   "execution_count": null,
   "metadata": {},
   "outputs": [],
   "source": [
    "\n",
    "# tuplas \n",
    "\n",
    "ipespe = [('2021-06-07', '2021-06-10', 'Ipespe', 'Ipespe/XP', 26, 22, 50, 2, 3.2, 95, 1000, 24, Null,'(Sem partido)', 'Jair Bolsonaro', 'Avaliação do governo federal', 'Na sua opinião o presidente Jair Bolsonaro está fazendo um governo ótimo, bom, regular, ruim ou péssimo?', 'CATI'),\n",
    "        ('2021-06-07', '2021-06-10', 'Ipespe', 'Ipespe/XP', 34, Null, 60, 6, 3.2, 95, 1000, 24, Null,'(Sem partido)', 'Jair Bolsonaro', 'Aprovacao do governo federal', 'O(a) sr(a) aprova ou desaprova a maneira como o presidente Jair Bolsonaro vem administrando o país?', 'CATI'),\n",
    "        ]\n",
    "\n",
    "        \n",
    "ipespe = [('2021-06-07', '2021-06-10', 'Ipespe', 'Ipespe/XP', 26, 22, 50, 2, 3.2, 95, 1000, 24, Null,'(Sem partido)', 'Jair Bolsonaro', 'Avaliação do governo federal', 'Na sua opinião o presidente Jair Bolsonaro está fazendo um governo ótimo, bom, regular, ruim ou péssimo?', 'CATI'),\n",
    "        ('2021-06-07', '2021-06-10', 'Ipespe', 'Ipespe/XP', 34, Null, 60, 6, 3.2, 95, 1000, 24, Null,'(Sem partido)', 'Jair Bolsonaro', 'Aprovacao do governo federal', 'O(a) sr(a) aprova ou desaprova a maneira como o presidente Jair Bolsonaro vem administrando o país?', 'CATI'),\n",
    "        ]"
   ]
  },
  {
   "cell_type": "code",
   "execution_count": null,
   "metadata": {},
   "outputs": [],
   "source": []
  },
  {
   "cell_type": "code",
   "execution_count": null,
   "metadata": {},
   "outputs": [],
   "source": [
    "con = sqlite3.connect('pollingpoint.db')\n",
    "\n",
    "cursor = con.cursor()\n",
    "\n",
    "cursor.execute(\"\"\"\n",
    "UPDATE intencao \n",
    "SET candidato = 'João Doria'\n",
    "WHERE candidato = 'João Dória';\n",
    "\"\"\")\n",
    "\n",
    "# gravando no bd\n",
    "con.commit()\n",
    "\n",
    "print('Dados atualizados com sucesso.')\n",
    "\n",
    "con.close()"
   ]
  },
  {
   "cell_type": "code",
   "execution_count": null,
   "metadata": {},
   "outputs": [],
   "source": []
  }
 ],
 "metadata": {
  "kernelspec": {
   "name": "python386jvsc74a57bd07e85ec9bf098c5427e45e2f632dcd4eeff803b007e1abd287d600879388709c1",
   "display_name": "Python 3.8.6 64-bit"
  },
  "language_info": {
   "codemirror_mode": {
    "name": "ipython",
    "version": 2
   },
   "file_extension": ".py",
   "mimetype": "text/x-python",
   "name": "python",
   "nbconvert_exporter": "python",
   "pygments_lexer": "ipython2",
   "version": "3.8.6"
  },
  "metadata": {
   "interpreter": {
    "hash": "7e85ec9bf098c5427e45e2f632dcd4eeff803b007e1abd287d600879388709c1"
   }
  }
 },
 "nbformat": 4,
 "nbformat_minor": 2
}