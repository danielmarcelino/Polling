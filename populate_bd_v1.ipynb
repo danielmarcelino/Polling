{
 "cells": [
  {
   "source": [
    "## Popula o banco\n",
    "\n",
    "\n"
   ],
   "cell_type": "markdown",
   "metadata": {}
  },
  {
   "cell_type": "code",
   "execution_count": 179,
   "metadata": {},
   "outputs": [],
   "source": [
    "import pandas as pd                   #importando a Pandas\n",
    "import numpy as np\n",
    "import sqlite3\n",
    "import watermark\n",
    "import warnings                       #importando a biblioca de avisos                              \n",
    "warnings.filterwarnings('ignore')     #ignorando os warnings"
   ]
  },
  {
   "cell_type": "code",
   "execution_count": 180,
   "metadata": {},
   "outputs": [
    {
     "output_type": "stream",
     "name": "stdout",
     "text": [
      "Last updated: 2021-06-09T23:31:51.847867-03:00\n\nPython implementation: CPython\nPython version       : 3.8.6\nIPython version      : 7.18.1\n\nCompiler    : Clang 12.0.0 (clang-1200.0.32.27)\nOS          : Darwin\nRelease     : 19.6.0\nMachine     : x86_64\nProcessor   : i386\nCPU cores   : 8\nArchitecture: 64bit\n\n"
     ]
    }
   ],
   "source": [
    "%load_ext watermark\n",
    "\n",
    "%watermark"
   ]
  },
  {
   "cell_type": "code",
   "execution_count": 2,
   "metadata": {},
   "outputs": [],
   "source": []
  },
  {
   "cell_type": "code",
   "execution_count": 250,
   "metadata": {},
   "outputs": [
    {
     "output_type": "execute_result",
     "data": {
      "text/plain": [
       "      DATAFIM  POSITIVA  REGULAR  NEGATIVA  NS.NR  ERRO  IC   N  UFs CIDADES  \\\n",
       "0  1986-03-15      71.0     25.0       2.0    3.0   3.0  95 NaN  NaN     NaN   \n",
       "1  1987-03-15      33.0     45.0      19.0    3.0   3.0  95 NaN  NaN     NaN   \n",
       "2  1987-05-15       9.0     35.0      54.0    2.0   3.0  95 NaN  NaN     NaN   \n",
       "3  1987-11-15      11.0     29.0      58.0    2.0   3.0  95 NaN  NaN     NaN   \n",
       "4  1988-03-15      10.0     23.0      65.0    2.0   3.0  95 NaN  NaN     NaN   \n",
       "\n",
       "     EMPRESA PARTIDO   PRESIDENTE                          TIPO  \\\n",
       "0  Datafolha    PMDB  José Sarney  Avaliação do governo federal   \n",
       "1  Datafolha    PMDB  José Sarney  Avaliação do governo federal   \n",
       "2  Datafolha    PMDB  José Sarney  Avaliação do governo federal   \n",
       "3  Datafolha    PMDB  José Sarney  Avaliação do governo federal   \n",
       "4  Datafolha    PMDB  José Sarney  Avaliação do governo federal   \n",
       "\n",
       "                                            PERGUNTA MODO  \n",
       "0  Na sua opinião, o presidente José Sarney está ...   FF  \n",
       "1  Na sua opinião, o presidente José Sarney está ...   FF  \n",
       "2  Na sua opinião, o presidente José Sarney está ...   FF  \n",
       "3  Na sua opinião, o presidente José Sarney está ...   FF  \n",
       "4  Na sua opinião, o presidente José Sarney está ...   FF  "
      ],
      "text/html": "<div>\n<style scoped>\n    .dataframe tbody tr th:only-of-type {\n        vertical-align: middle;\n    }\n\n    .dataframe tbody tr th {\n        vertical-align: top;\n    }\n\n    .dataframe thead th {\n        text-align: right;\n    }\n</style>\n<table border=\"1\" class=\"dataframe\">\n  <thead>\n    <tr style=\"text-align: right;\">\n      <th></th>\n      <th>DATAFIM</th>\n      <th>POSITIVA</th>\n      <th>REGULAR</th>\n      <th>NEGATIVA</th>\n      <th>NS.NR</th>\n      <th>ERRO</th>\n      <th>IC</th>\n      <th>N</th>\n      <th>UFs</th>\n      <th>CIDADES</th>\n      <th>EMPRESA</th>\n      <th>PARTIDO</th>\n      <th>PRESIDENTE</th>\n      <th>TIPO</th>\n      <th>PERGUNTA</th>\n      <th>MODO</th>\n    </tr>\n  </thead>\n  <tbody>\n    <tr>\n      <th>0</th>\n      <td>1986-03-15</td>\n      <td>71.0</td>\n      <td>25.0</td>\n      <td>2.0</td>\n      <td>3.0</td>\n      <td>3.0</td>\n      <td>95</td>\n      <td>NaN</td>\n      <td>NaN</td>\n      <td>NaN</td>\n      <td>Datafolha</td>\n      <td>PMDB</td>\n      <td>José Sarney</td>\n      <td>Avaliação do governo federal</td>\n      <td>Na sua opinião, o presidente José Sarney está ...</td>\n      <td>FF</td>\n    </tr>\n    <tr>\n      <th>1</th>\n      <td>1987-03-15</td>\n      <td>33.0</td>\n      <td>45.0</td>\n      <td>19.0</td>\n      <td>3.0</td>\n      <td>3.0</td>\n      <td>95</td>\n      <td>NaN</td>\n      <td>NaN</td>\n      <td>NaN</td>\n      <td>Datafolha</td>\n      <td>PMDB</td>\n      <td>José Sarney</td>\n      <td>Avaliação do governo federal</td>\n      <td>Na sua opinião, o presidente José Sarney está ...</td>\n      <td>FF</td>\n    </tr>\n    <tr>\n      <th>2</th>\n      <td>1987-05-15</td>\n      <td>9.0</td>\n      <td>35.0</td>\n      <td>54.0</td>\n      <td>2.0</td>\n      <td>3.0</td>\n      <td>95</td>\n      <td>NaN</td>\n      <td>NaN</td>\n      <td>NaN</td>\n      <td>Datafolha</td>\n      <td>PMDB</td>\n      <td>José Sarney</td>\n      <td>Avaliação do governo federal</td>\n      <td>Na sua opinião, o presidente José Sarney está ...</td>\n      <td>FF</td>\n    </tr>\n    <tr>\n      <th>3</th>\n      <td>1987-11-15</td>\n      <td>11.0</td>\n      <td>29.0</td>\n      <td>58.0</td>\n      <td>2.0</td>\n      <td>3.0</td>\n      <td>95</td>\n      <td>NaN</td>\n      <td>NaN</td>\n      <td>NaN</td>\n      <td>Datafolha</td>\n      <td>PMDB</td>\n      <td>José Sarney</td>\n      <td>Avaliação do governo federal</td>\n      <td>Na sua opinião, o presidente José Sarney está ...</td>\n      <td>FF</td>\n    </tr>\n    <tr>\n      <th>4</th>\n      <td>1988-03-15</td>\n      <td>10.0</td>\n      <td>23.0</td>\n      <td>65.0</td>\n      <td>2.0</td>\n      <td>3.0</td>\n      <td>95</td>\n      <td>NaN</td>\n      <td>NaN</td>\n      <td>NaN</td>\n      <td>Datafolha</td>\n      <td>PMDB</td>\n      <td>José Sarney</td>\n      <td>Avaliação do governo federal</td>\n      <td>Na sua opinião, o presidente José Sarney está ...</td>\n      <td>FF</td>\n    </tr>\n  </tbody>\n</table>\n</div>"
     },
     "metadata": {},
     "execution_count": 250
    }
   ],
   "source": [
    "# df_pop = pd.read_csv(\"~/Aprovacao/dados/Popularidade.csv\",  parse_dates=['DATAFIM'])\n",
    "\n",
    "df_pop = pd.read_csv(\"~/Aprovacao/dados/Popularidade.csv\")\n",
    "\n",
    "df_pop.sort_values('DATAFIM', inplace=True)\n",
    "\n",
    "df_pop.head()"
   ]
  },
  {
   "cell_type": "code",
   "execution_count": 187,
   "metadata": {},
   "outputs": [
    {
     "output_type": "stream",
     "name": "stdout",
     "text": [
      "236\n0\n551\n"
     ]
    }
   ],
   "source": [
    "print(df_pop['N'].isnull().sum())\n",
    "print(df_pop['MODO'].isna().sum())\n",
    "print(df_pop['UFs'].isnull().sum())\n"
   ]
  },
  {
   "cell_type": "code",
   "execution_count": 251,
   "metadata": {},
   "outputs": [
    {
     "output_type": "execute_result",
     "data": {
      "text/plain": [
       "     data_ini    data_fim         empresa            nome  positiva  regular  \\\n",
       "0         NaN  1986-03-15       Datafolha       Datafolha     71.00    25.00   \n",
       "1         NaN  1987-03-15       Datafolha       Datafolha     33.00    45.00   \n",
       "2         NaN  1987-05-15       Datafolha       Datafolha      9.00    35.00   \n",
       "3         NaN  1987-11-15       Datafolha       Datafolha     11.00    29.00   \n",
       "4         NaN  1988-03-15       Datafolha       Datafolha     10.00    23.00   \n",
       "..        ...         ...             ...             ...       ...      ...   \n",
       "692       NaN  2021-05-26        Poder360        Poder360     35.00      NaN   \n",
       "693       NaN  2021-06-04  Ranking Brasil  Ranking Brasil     27.37    19.03   \n",
       "694       NaN  2021-06-04  Ranking Brasil  Ranking Brasil     37.93     1.00   \n",
       "695       NaN  2021-06-09        Poder360        Poder360     28.00    13.00   \n",
       "696       NaN  2021-06-09        Poder360        Poder360     35.00      NaN   \n",
       "\n",
       "     negativa  nsnr  erro  ic  amostra  ufs cidades        partido  \\\n",
       "0        2.00   3.0   3.0  95      NaN  NaN     NaN           PMDB   \n",
       "1       19.00   3.0   3.0  95      NaN  NaN     NaN           PMDB   \n",
       "2       54.00   2.0   3.0  95      NaN  NaN     NaN           PMDB   \n",
       "3       58.00   2.0   3.0  95      NaN  NaN     NaN           PMDB   \n",
       "4       65.00   2.0   3.0  95      NaN  NaN     NaN           PMDB   \n",
       "..        ...   ...   ...  ..      ...  ...     ...            ...   \n",
       "692     59.00   6.0   2.0  95   2500.0   27     462  (Sem partido)   \n",
       "693     51.00   2.6   2.5  95   3000.0   BR     163  (Sem partido)   \n",
       "694     60.17   1.9   2.5  95   3000.0   BR     163  (Sem partido)   \n",
       "695     55.00   4.0   2.0  95   2500.0   27     522  (Sem partido)   \n",
       "696     59.00   6.0   2.0  95   2500.0   27     522  (Sem partido)   \n",
       "\n",
       "         presidente                          tipo  \\\n",
       "0       José Sarney  Avaliação do governo federal   \n",
       "1       José Sarney  Avaliação do governo federal   \n",
       "2       José Sarney  Avaliação do governo federal   \n",
       "3       José Sarney  Avaliação do governo federal   \n",
       "4       José Sarney  Avaliação do governo federal   \n",
       "..              ...                           ...   \n",
       "692  Jair Bolsonaro  Aprovação do governo federal   \n",
       "693  Jair Bolsonaro  Avaliação do governo federal   \n",
       "694  Jair Bolsonaro  Aprovação do governo federal   \n",
       "695  Jair Bolsonaro  Avaliação do governo federal   \n",
       "696  Jair Bolsonaro  Aprovação do governo federal   \n",
       "\n",
       "                                              pergunta  modo  \n",
       "0    Na sua opinião, o presidente José Sarney está ...    FF  \n",
       "1    Na sua opinião, o presidente José Sarney está ...    FF  \n",
       "2    Na sua opinião, o presidente José Sarney está ...    FF  \n",
       "3    Na sua opinião, o presidente José Sarney está ...    FF  \n",
       "4    Na sua opinião, o presidente José Sarney está ...    FF  \n",
       "..                                                 ...   ...  \n",
       "692  Você aprova ou desaprova o governo do preside...   IVR  \n",
       "693  Como você avalia o governo do presidente Jair ...  CATI  \n",
       "694  Como você avalia o governo do presidente Jair ...  CATI  \n",
       "695  De maneira geral, como você avalia o trabalho...   IVR  \n",
       "696  Você aprova ou desaprova o governo do preside...   IVR  \n",
       "\n",
       "[697 rows x 18 columns]"
      ],
      "text/html": "<div>\n<style scoped>\n    .dataframe tbody tr th:only-of-type {\n        vertical-align: middle;\n    }\n\n    .dataframe tbody tr th {\n        vertical-align: top;\n    }\n\n    .dataframe thead th {\n        text-align: right;\n    }\n</style>\n<table border=\"1\" class=\"dataframe\">\n  <thead>\n    <tr style=\"text-align: right;\">\n      <th></th>\n      <th>data_ini</th>\n      <th>data_fim</th>\n      <th>empresa</th>\n      <th>nome</th>\n      <th>positiva</th>\n      <th>regular</th>\n      <th>negativa</th>\n      <th>nsnr</th>\n      <th>erro</th>\n      <th>ic</th>\n      <th>amostra</th>\n      <th>ufs</th>\n      <th>cidades</th>\n      <th>partido</th>\n      <th>presidente</th>\n      <th>tipo</th>\n      <th>pergunta</th>\n      <th>modo</th>\n    </tr>\n  </thead>\n  <tbody>\n    <tr>\n      <th>0</th>\n      <td>NaN</td>\n      <td>1986-03-15</td>\n      <td>Datafolha</td>\n      <td>Datafolha</td>\n      <td>71.00</td>\n      <td>25.00</td>\n      <td>2.00</td>\n      <td>3.0</td>\n      <td>3.0</td>\n      <td>95</td>\n      <td>NaN</td>\n      <td>NaN</td>\n      <td>NaN</td>\n      <td>PMDB</td>\n      <td>José Sarney</td>\n      <td>Avaliação do governo federal</td>\n      <td>Na sua opinião, o presidente José Sarney está ...</td>\n      <td>FF</td>\n    </tr>\n    <tr>\n      <th>1</th>\n      <td>NaN</td>\n      <td>1987-03-15</td>\n      <td>Datafolha</td>\n      <td>Datafolha</td>\n      <td>33.00</td>\n      <td>45.00</td>\n      <td>19.00</td>\n      <td>3.0</td>\n      <td>3.0</td>\n      <td>95</td>\n      <td>NaN</td>\n      <td>NaN</td>\n      <td>NaN</td>\n      <td>PMDB</td>\n      <td>José Sarney</td>\n      <td>Avaliação do governo federal</td>\n      <td>Na sua opinião, o presidente José Sarney está ...</td>\n      <td>FF</td>\n    </tr>\n    <tr>\n      <th>2</th>\n      <td>NaN</td>\n      <td>1987-05-15</td>\n      <td>Datafolha</td>\n      <td>Datafolha</td>\n      <td>9.00</td>\n      <td>35.00</td>\n      <td>54.00</td>\n      <td>2.0</td>\n      <td>3.0</td>\n      <td>95</td>\n      <td>NaN</td>\n      <td>NaN</td>\n      <td>NaN</td>\n      <td>PMDB</td>\n      <td>José Sarney</td>\n      <td>Avaliação do governo federal</td>\n      <td>Na sua opinião, o presidente José Sarney está ...</td>\n      <td>FF</td>\n    </tr>\n    <tr>\n      <th>3</th>\n      <td>NaN</td>\n      <td>1987-11-15</td>\n      <td>Datafolha</td>\n      <td>Datafolha</td>\n      <td>11.00</td>\n      <td>29.00</td>\n      <td>58.00</td>\n      <td>2.0</td>\n      <td>3.0</td>\n      <td>95</td>\n      <td>NaN</td>\n      <td>NaN</td>\n      <td>NaN</td>\n      <td>PMDB</td>\n      <td>José Sarney</td>\n      <td>Avaliação do governo federal</td>\n      <td>Na sua opinião, o presidente José Sarney está ...</td>\n      <td>FF</td>\n    </tr>\n    <tr>\n      <th>4</th>\n      <td>NaN</td>\n      <td>1988-03-15</td>\n      <td>Datafolha</td>\n      <td>Datafolha</td>\n      <td>10.00</td>\n      <td>23.00</td>\n      <td>65.00</td>\n      <td>2.0</td>\n      <td>3.0</td>\n      <td>95</td>\n      <td>NaN</td>\n      <td>NaN</td>\n      <td>NaN</td>\n      <td>PMDB</td>\n      <td>José Sarney</td>\n      <td>Avaliação do governo federal</td>\n      <td>Na sua opinião, o presidente José Sarney está ...</td>\n      <td>FF</td>\n    </tr>\n    <tr>\n      <th>...</th>\n      <td>...</td>\n      <td>...</td>\n      <td>...</td>\n      <td>...</td>\n      <td>...</td>\n      <td>...</td>\n      <td>...</td>\n      <td>...</td>\n      <td>...</td>\n      <td>...</td>\n      <td>...</td>\n      <td>...</td>\n      <td>...</td>\n      <td>...</td>\n      <td>...</td>\n      <td>...</td>\n      <td>...</td>\n      <td>...</td>\n    </tr>\n    <tr>\n      <th>692</th>\n      <td>NaN</td>\n      <td>2021-05-26</td>\n      <td>Poder360</td>\n      <td>Poder360</td>\n      <td>35.00</td>\n      <td>NaN</td>\n      <td>59.00</td>\n      <td>6.0</td>\n      <td>2.0</td>\n      <td>95</td>\n      <td>2500.0</td>\n      <td>27</td>\n      <td>462</td>\n      <td>(Sem partido)</td>\n      <td>Jair Bolsonaro</td>\n      <td>Aprovação do governo federal</td>\n      <td>Você aprova ou desaprova o governo do preside...</td>\n      <td>IVR</td>\n    </tr>\n    <tr>\n      <th>693</th>\n      <td>NaN</td>\n      <td>2021-06-04</td>\n      <td>Ranking Brasil</td>\n      <td>Ranking Brasil</td>\n      <td>27.37</td>\n      <td>19.03</td>\n      <td>51.00</td>\n      <td>2.6</td>\n      <td>2.5</td>\n      <td>95</td>\n      <td>3000.0</td>\n      <td>BR</td>\n      <td>163</td>\n      <td>(Sem partido)</td>\n      <td>Jair Bolsonaro</td>\n      <td>Avaliação do governo federal</td>\n      <td>Como você avalia o governo do presidente Jair ...</td>\n      <td>CATI</td>\n    </tr>\n    <tr>\n      <th>694</th>\n      <td>NaN</td>\n      <td>2021-06-04</td>\n      <td>Ranking Brasil</td>\n      <td>Ranking Brasil</td>\n      <td>37.93</td>\n      <td>1.00</td>\n      <td>60.17</td>\n      <td>1.9</td>\n      <td>2.5</td>\n      <td>95</td>\n      <td>3000.0</td>\n      <td>BR</td>\n      <td>163</td>\n      <td>(Sem partido)</td>\n      <td>Jair Bolsonaro</td>\n      <td>Aprovação do governo federal</td>\n      <td>Como você avalia o governo do presidente Jair ...</td>\n      <td>CATI</td>\n    </tr>\n    <tr>\n      <th>695</th>\n      <td>NaN</td>\n      <td>2021-06-09</td>\n      <td>Poder360</td>\n      <td>Poder360</td>\n      <td>28.00</td>\n      <td>13.00</td>\n      <td>55.00</td>\n      <td>4.0</td>\n      <td>2.0</td>\n      <td>95</td>\n      <td>2500.0</td>\n      <td>27</td>\n      <td>522</td>\n      <td>(Sem partido)</td>\n      <td>Jair Bolsonaro</td>\n      <td>Avaliação do governo federal</td>\n      <td>De maneira geral, como você avalia o trabalho...</td>\n      <td>IVR</td>\n    </tr>\n    <tr>\n      <th>696</th>\n      <td>NaN</td>\n      <td>2021-06-09</td>\n      <td>Poder360</td>\n      <td>Poder360</td>\n      <td>35.00</td>\n      <td>NaN</td>\n      <td>59.00</td>\n      <td>6.0</td>\n      <td>2.0</td>\n      <td>95</td>\n      <td>2500.0</td>\n      <td>27</td>\n      <td>522</td>\n      <td>(Sem partido)</td>\n      <td>Jair Bolsonaro</td>\n      <td>Aprovação do governo federal</td>\n      <td>Você aprova ou desaprova o governo do preside...</td>\n      <td>IVR</td>\n    </tr>\n  </tbody>\n</table>\n<p>697 rows × 18 columns</p>\n</div>"
     },
     "metadata": {},
     "execution_count": 251
    }
   ],
   "source": [
    "df_pop.rename(columns={'DATAFIM': 'data_fim', 'POSITIVA': 'positiva', 'REGULAR': 'regular',  'NEGATIVA': 'negativa',  'NS.NR': 'nsnr', 'ERRO': 'erro', 'IC': 'ic', 'N': 'amostra', 'UFs': 'ufs',  'CIDADES': 'cidades',  'EMPRESA': 'empresa',  'PARTIDO': 'partido', 'PRESIDENTE': 'presidente', 'TIPO': 'tipo', 'PERGUNTA': 'pergunta', 'MODO': 'modo'}, inplace=True)\n",
    "\n",
    "df_pop['nome'] = df_pop['empresa']\n",
    "df_pop['data_ini'] = np.nan\n",
    "\n",
    "column_order = ['data_ini', 'data_fim','empresa','nome','positiva','regular','negativa','nsnr','erro','ic','amostra','ufs','cidades','partido','presidente','tipo','pergunta','modo']\n",
    "\n",
    "df_pop = df_pop.reindex(columns=column_order)\n",
    "\n",
    "## Correções \n",
    "df_pop['partido'].fillna('(Sem partido)',inplace=True)\n",
    "\n",
    "df_pop"
   ]
  },
  {
   "cell_type": "code",
   "execution_count": 228,
   "metadata": {},
   "outputs": [
    {
     "output_type": "stream",
     "name": "stdout",
     "text": [
      "0\n689\n"
     ]
    }
   ],
   "source": [
    "print(df_pop['modo'].isna().sum())\n",
    "\n",
    "print(df_pop['modo'].notna().sum())\n"
   ]
  },
  {
   "cell_type": "code",
   "execution_count": 170,
   "metadata": {},
   "outputs": [
    {
     "output_type": "stream",
     "name": "stdout",
     "text": [
      "0\n689\n"
     ]
    }
   ],
   "source": [
    "print(df_pop['partido'].isna().sum())\n",
    "\n",
    "print(df_pop['partido'].notna().sum())"
   ]
  },
  {
   "cell_type": "code",
   "execution_count": 171,
   "metadata": {},
   "outputs": [
    {
     "output_type": "stream",
     "name": "stdout",
     "text": [
      "0\n689\n"
     ]
    }
   ],
   "source": [
    "print(df_pop['data_fim'].isna().sum())\n",
    "\n",
    "print(df_pop['data_fim'].notna().sum())\n"
   ]
  },
  {
   "cell_type": "code",
   "execution_count": 172,
   "metadata": {},
   "outputs": [
    {
     "output_type": "stream",
     "name": "stdout",
     "text": [
      "62\n627\n"
     ]
    }
   ],
   "source": [
    "print(df_pop['empresa'].isna().sum())\n",
    "\n",
    "print(df_pop['empresa'].notna().sum())"
   ]
  },
  {
   "cell_type": "code",
   "execution_count": 173,
   "metadata": {},
   "outputs": [
    {
     "output_type": "stream",
     "name": "stdout",
     "text": [
      "0\n689\n"
     ]
    }
   ],
   "source": [
    "print(df_pop['tipo'].isna().sum())\n",
    "\n",
    "print(df_pop['tipo'].notna().sum())"
   ]
  },
  {
   "source": [
    "## write to SQL\n"
   ],
   "cell_type": "markdown",
   "metadata": {}
  },
  {
   "cell_type": "code",
   "execution_count": 13,
   "metadata": {},
   "outputs": [],
   "source": [
    "\n"
   ]
  },
  {
   "cell_type": "code",
   "execution_count": null,
   "metadata": {},
   "outputs": [],
   "source": [
    " def partido_condition(r):\n",
    "     if r['presidente'] ==  \"Jair Bolsonaro\": return \"text a\"\n",
    "     if pd.isnull(r['col1']) and pd.notnull(r['col2']): return r['col2']\n",
    "     return \"text b\""
   ]
  },
  {
   "cell_type": "code",
   "execution_count": 256,
   "metadata": {},
   "outputs": [],
   "source": [
    "class Connect(object):\n",
    "\n",
    "    ''' A classe Connect representa o banco de dados. '''\n",
    "\n",
    "    def __init__(self, db_name):\n",
    "        try:\n",
    "            # conectando...\n",
    "            self.conn = sqlite3.connect(db_name)\n",
    "            self.cursor = self.conn.cursor()\n",
    "            # imprimindo nome do banco\n",
    "            print(\"Banco:\", db_name)\n",
    "            # lendo a versão do SQLite\n",
    "            self.cursor.execute('SELECT SQLITE_VERSION()')\n",
    "            self.data = self.cursor.fetchone()\n",
    "            # imprimindo a versão do SQLite\n",
    "            print(\"SQLite version: %s\" % self.data)\n",
    "        except sqlite3.Error:\n",
    "            print(\"Erro ao abrir banco.\")\n",
    "            return False\n",
    "\n",
    "    def commit_db(self):\n",
    "        if self.conn:\n",
    "            self.conn.commit()\n",
    "\n",
    "    def close_db(self):\n",
    "        if self.conn:\n",
    "            self.conn.close()\n",
    "            print(\"Conexão fechada.\")\n",
    "\n",
    "\n",
    "\n",
    "\n",
    "\n",
    "class AprovacaoDb(object):\n",
    "\n",
    "    tb_name = 'aprovacao'\n",
    "\n",
    "    ''' A classe AprovacaoDb representa uma empresa no banco de dados. '''\n",
    "\n",
    "    def __init__(self):\n",
    "        self.db = Connect('pollingpoint.db')\n",
    "        self.tb_name\n",
    "\n",
    "    # create_schema\n",
    "    def criar_schema(self, schema_name='sql/eaprovacao_schema.sql'):\n",
    "        print(\"Criando tabela %s ...\" % self.tb_name)\n",
    "\n",
    "        try:\n",
    "            with open(schema_name, 'rt') as f:\n",
    "                schema = f.read()\n",
    "                self.db.cursor.executescript(schema)\n",
    "        except sqlite3.Error:\n",
    "            print(\"Aviso: A tabela %s já existe.\" % self.tb_name)\n",
    "            return False\n",
    "\n",
    "        print(\"Tabela %s criada com sucesso.\" % self.tb_name)\n",
    "\n",
    "\n",
    "\n",
    "    ''' CREATE '''\n",
    "\n",
    "    # insert_one_register\n",
    "    def inserir_um_registro(self):\n",
    "        try:\n",
    "            self.db.cursor.execute(\"\"\"\n",
    "                INSERT OR FAIL INTO aprovacao (id, data_ini, data_fim, empresa, nome, positiva, regular, negativa, nsnr, erro, ic, amostra, ufs, cidades, partido, presidente, tipo, pergunta, modo)\n",
    "                VALUES ((SELECT IFNULL(MAX(id), 0) + 1 FROM aprovacao), ?, ?, ?, ?, ?, ?, ?, ?, ?, ?, ?, ?, ?, ?, ?, ?, ?, ?)\n",
    "                \"\"\")\n",
    "            # gravando no bd\n",
    "            self.db.commit_db()\n",
    "            print(\"Um registro inserido com sucesso.\")\n",
    "        except sqlite3.IntegrityError:\n",
    "            print(\"Aviso: A pesquisa deve ser única!\")\n",
    "            return False\n",
    "            \n",
    "    \n",
    "    \n",
    "    def inserir_um_df(self, df_name):\n",
    "        try:\n",
    "            df = df_name\n",
    "            for i, row in df.iterrows():\n",
    "                self.db.cursor.execute(\"\"\"\n",
    "                INSERT OR FAIL INTO aprovacao (id, data_ini, data_fim, empresa, nome, positiva, regular, negativa, nsnr, erro, ic, amostra, ufs, cidades, partido, presidente, tipo, pergunta, modo)\n",
    "                VALUES ((SELECT IFNULL(MAX(id), 0) + 1 FROM aprovacao), ?, ?, ?, ?, ?, ?, ?, ?, ?, ?, ?, ?, ?, ?, ?, ?, ?, ?)\n",
    "                \"\"\", row)\n",
    "            # gravando no bd\n",
    "            self.db.commit_db()\n",
    "            print(\"Dados importados do DataFrame com sucesso.\")\n",
    "        except sqlite3.IntegrityError:\n",
    "            print(\"Aviso: A pesquisa deve ser única!\")\n",
    "            return False\n",
    "\n",
    "\n",
    "\n",
    "\n",
    "\n",
    "class IntencaoDb(object):\n",
    "\n",
    "    tb_name = 'intencao'\n",
    "\n",
    "    ''' A classe IntencaoDb representa uma empresa no banco de dados. '''\n",
    "\n",
    "    def __init__(self):\n",
    "        self.db = Connect('pollingpoint.db')\n",
    "        self.tb_name\n",
    "\n",
    "    # create_schema\n",
    "    def criar_schema(self, schema_name='sql/intencao_schema.sql'):\n",
    "        print(\"Criando tabela %s ...\" % self.tb_name)\n",
    "\n",
    "        try:\n",
    "            with open(schema_name, 'rt') as f:\n",
    "                schema = f.read()\n",
    "                self.db.cursor.executescript(schema)\n",
    "        except sqlite3.Error:\n",
    "            print(\"Aviso: A tabela %s já existe.\" % self.tb_name)\n",
    "            return False\n",
    "\n",
    "        print(\"Tabela %s criada com sucesso.\" % self.tb_name)\n",
    "\n",
    "\n",
    "\n",
    "    ''' CREATE '''\n",
    "\n",
    "    # insert_one_register\n",
    "    def inserir_um_registro(self):\n",
    "        try:\n",
    "            self.db.cursor.execute(\"\"\"\n",
    "                INSERT OR FAIL INTO intencao (id, data_ini, data_fim, empresa, nome, cargo, turno, candidato, partido, voto, erro, ic, amostra, ufs, cidades, tipo, modo, pergunta)\n",
    "                VALUES ((SELECT IFNULL(MAX(id), 0) + 1 FROM aprovacao), ?, ?, ?, ?, ?, ?, ?, ?, ?, ?, ?, ?, ?, ?, ?, ?, ?)\n",
    "                \"\"\")\n",
    "            # gravando no bd\n",
    "            self.db.commit_db()\n",
    "            print(\"Um registro inserido com sucesso.\")\n",
    "        except sqlite3.IntegrityError:\n",
    "            print(\"Aviso: A pesquisa deve ser única!\")\n",
    "            return False\n",
    "            \n",
    "    \n",
    "    \n",
    "    def inserir_um_df(self, df_name):\n",
    "        try:\n",
    "            df = df_name\n",
    "            for i, row in df.iterrows():\n",
    "                self.db.cursor.execute(\"\"\"\n",
    "                INSERT OR FAIL INTO intencao (id, data_ini, data_fim, empresa, nome, cargo, turno, candidato, partido, voto, erro, ic, amostra, ufs, cidades, tipo, modo, pergunta)\n",
    "                VALUES ((SELECT IFNULL(MAX(id), 0) + 1 FROM aprovacao), ?, ?, ?, ?, ?, ?, ?, ?, ?, ?, ?, ?, ?, ?, ?, ?, ?)\n",
    "                \"\"\", row)\n",
    "            # gravando no bd\n",
    "            self.db.commit_db()\n",
    "            print(\"Dados importados do DataFrame com sucesso.\")\n",
    "        except sqlite3.IntegrityError:\n",
    "            print(\"Aviso: A pesquisa deve ser única!\")\n",
    "            return False\n",
    "\n",
    "\n",
    "\n",
    "       # close_connection\n",
    "    def fechar_conexao(self):\n",
    "        self.db.close_db()\n",
    "\n",
    "\n"
   ]
  },
  {
   "cell_type": "code",
   "execution_count": null,
   "metadata": {},
   "outputs": [],
   "source": []
  },
  {
   "cell_type": "code",
   "execution_count": 161,
   "metadata": {},
   "outputs": [
    {
     "output_type": "execute_result",
     "data": {
      "text/plain": [
       "     data_ini    data_fim         empresa            nome  positiva regular  \\\n",
       "0         NaN  1986-03-15       Datafolha       Datafolha     71.00      25   \n",
       "1         NaN  1987-03-15       Datafolha       Datafolha     33.00      45   \n",
       "2         NaN  1987-05-15       Datafolha       Datafolha      9.00      35   \n",
       "3         NaN  1987-11-15       Datafolha       Datafolha     11.00      29   \n",
       "4         NaN  1988-03-15       Datafolha       Datafolha     10.00      23   \n",
       "..        ...         ...             ...             ...       ...     ...   \n",
       "618       NaN  2021-05-20  IDEIA Big Data  IDEIA Big Data     26.00      22   \n",
       "619       NaN  2021-05-26        Poder360        Poder360     28.00      13   \n",
       "620       NaN  2021-05-26        Poder360        Poder360     35.00     NaN   \n",
       "621       NaN  2021-06-04         Ranking         Ranking     27.37   19.03   \n",
       "622       NaN  2021-06-04         Ranking         Ranking     37.93       1   \n",
       "\n",
       "     negativa nsnr  erro    ic  amostra  ufs cidades        partido  \\\n",
       "0        2.00    3   3.0  95.0      NaN  NaN     NaN           PMDB   \n",
       "1       19.00    3   3.0  95.0      NaN  NaN     NaN           PMDB   \n",
       "2       54.00    2   3.0  95.0      NaN  NaN     NaN           PMDB   \n",
       "3       58.00    2   3.0  95.0      NaN  NaN     NaN           PMDB   \n",
       "4       65.00    2   3.0  95.0      NaN  NaN     NaN           PMDB   \n",
       "..        ...  ...   ...   ...      ...  ...     ...            ...   \n",
       "618     48.00    4   3.0  95.0   1200.0  NaN     NaN  (Sem partido)   \n",
       "619     55.00    4   2.0  95.0   2500.0   27     462  (Sem partido)   \n",
       "620     59.00    6   2.0  95.0   2500.0   27     462  (Sem partido)   \n",
       "621     51.00  2.6   2.5  95.0   3000.0   BR     163  (Sem partido)   \n",
       "622     60.17  1.9   2.5  95.0   3000.0   BR     163  (Sem partido)   \n",
       "\n",
       "         presidente                          tipo  \\\n",
       "0       José Sarney  Avaliação do governo federal   \n",
       "1       José Sarney  Avaliação do governo federal   \n",
       "2       José Sarney  Avaliação do governo federal   \n",
       "3       José Sarney  Avaliação do governo federal   \n",
       "4       José Sarney  Avaliação do governo federal   \n",
       "..              ...                           ...   \n",
       "618  Jair Bolsonaro  Aprovação do governo federal   \n",
       "619  Jair Bolsonaro  Avaliação do governo federal   \n",
       "620  Jair Bolsonaro  Aprovação do governo federal   \n",
       "621  Jair Bolsonaro  Avaliação do governo federal   \n",
       "622  Jair Bolsonaro  Aprovação do governo federal   \n",
       "\n",
       "                                              pergunta  modo  \n",
       "0    Na sua opinião, o presidente José Sarney está ...    FF  \n",
       "1    Na sua opinião, o presidente José Sarney está ...    FF  \n",
       "2    Na sua opinião, o presidente José Sarney está ...    FF  \n",
       "3    Na sua opinião, o presidente José Sarney está ...    FF  \n",
       "4    Na sua opinião, o presidente José Sarney está ...    FF  \n",
       "..                                                 ...   ...  \n",
       "618  Você aprova ou desaprova a maneira como Jair B...  CATI  \n",
       "619  De maneira geral, como você avalia o trabalho...   IVR  \n",
       "620  Você aprova ou desaprova o governo do preside...   IVR  \n",
       "621  Como você avalia o governo do presidente Jair ...  CATI  \n",
       "622  Como você avalia o governo do presidente Jair ...  CATI  \n",
       "\n",
       "[623 rows x 18 columns]"
      ],
      "text/html": "<div>\n<style scoped>\n    .dataframe tbody tr th:only-of-type {\n        vertical-align: middle;\n    }\n\n    .dataframe tbody tr th {\n        vertical-align: top;\n    }\n\n    .dataframe thead th {\n        text-align: right;\n    }\n</style>\n<table border=\"1\" class=\"dataframe\">\n  <thead>\n    <tr style=\"text-align: right;\">\n      <th></th>\n      <th>data_ini</th>\n      <th>data_fim</th>\n      <th>empresa</th>\n      <th>nome</th>\n      <th>positiva</th>\n      <th>regular</th>\n      <th>negativa</th>\n      <th>nsnr</th>\n      <th>erro</th>\n      <th>ic</th>\n      <th>amostra</th>\n      <th>ufs</th>\n      <th>cidades</th>\n      <th>partido</th>\n      <th>presidente</th>\n      <th>tipo</th>\n      <th>pergunta</th>\n      <th>modo</th>\n    </tr>\n  </thead>\n  <tbody>\n    <tr>\n      <th>0</th>\n      <td>NaN</td>\n      <td>1986-03-15</td>\n      <td>Datafolha</td>\n      <td>Datafolha</td>\n      <td>71.00</td>\n      <td>25</td>\n      <td>2.00</td>\n      <td>3</td>\n      <td>3.0</td>\n      <td>95.0</td>\n      <td>NaN</td>\n      <td>NaN</td>\n      <td>NaN</td>\n      <td>PMDB</td>\n      <td>José Sarney</td>\n      <td>Avaliação do governo federal</td>\n      <td>Na sua opinião, o presidente José Sarney está ...</td>\n      <td>FF</td>\n    </tr>\n    <tr>\n      <th>1</th>\n      <td>NaN</td>\n      <td>1987-03-15</td>\n      <td>Datafolha</td>\n      <td>Datafolha</td>\n      <td>33.00</td>\n      <td>45</td>\n      <td>19.00</td>\n      <td>3</td>\n      <td>3.0</td>\n      <td>95.0</td>\n      <td>NaN</td>\n      <td>NaN</td>\n      <td>NaN</td>\n      <td>PMDB</td>\n      <td>José Sarney</td>\n      <td>Avaliação do governo federal</td>\n      <td>Na sua opinião, o presidente José Sarney está ...</td>\n      <td>FF</td>\n    </tr>\n    <tr>\n      <th>2</th>\n      <td>NaN</td>\n      <td>1987-05-15</td>\n      <td>Datafolha</td>\n      <td>Datafolha</td>\n      <td>9.00</td>\n      <td>35</td>\n      <td>54.00</td>\n      <td>2</td>\n      <td>3.0</td>\n      <td>95.0</td>\n      <td>NaN</td>\n      <td>NaN</td>\n      <td>NaN</td>\n      <td>PMDB</td>\n      <td>José Sarney</td>\n      <td>Avaliação do governo federal</td>\n      <td>Na sua opinião, o presidente José Sarney está ...</td>\n      <td>FF</td>\n    </tr>\n    <tr>\n      <th>3</th>\n      <td>NaN</td>\n      <td>1987-11-15</td>\n      <td>Datafolha</td>\n      <td>Datafolha</td>\n      <td>11.00</td>\n      <td>29</td>\n      <td>58.00</td>\n      <td>2</td>\n      <td>3.0</td>\n      <td>95.0</td>\n      <td>NaN</td>\n      <td>NaN</td>\n      <td>NaN</td>\n      <td>PMDB</td>\n      <td>José Sarney</td>\n      <td>Avaliação do governo federal</td>\n      <td>Na sua opinião, o presidente José Sarney está ...</td>\n      <td>FF</td>\n    </tr>\n    <tr>\n      <th>4</th>\n      <td>NaN</td>\n      <td>1988-03-15</td>\n      <td>Datafolha</td>\n      <td>Datafolha</td>\n      <td>10.00</td>\n      <td>23</td>\n      <td>65.00</td>\n      <td>2</td>\n      <td>3.0</td>\n      <td>95.0</td>\n      <td>NaN</td>\n      <td>NaN</td>\n      <td>NaN</td>\n      <td>PMDB</td>\n      <td>José Sarney</td>\n      <td>Avaliação do governo federal</td>\n      <td>Na sua opinião, o presidente José Sarney está ...</td>\n      <td>FF</td>\n    </tr>\n    <tr>\n      <th>...</th>\n      <td>...</td>\n      <td>...</td>\n      <td>...</td>\n      <td>...</td>\n      <td>...</td>\n      <td>...</td>\n      <td>...</td>\n      <td>...</td>\n      <td>...</td>\n      <td>...</td>\n      <td>...</td>\n      <td>...</td>\n      <td>...</td>\n      <td>...</td>\n      <td>...</td>\n      <td>...</td>\n      <td>...</td>\n      <td>...</td>\n    </tr>\n    <tr>\n      <th>618</th>\n      <td>NaN</td>\n      <td>2021-05-20</td>\n      <td>IDEIA Big Data</td>\n      <td>IDEIA Big Data</td>\n      <td>26.00</td>\n      <td>22</td>\n      <td>48.00</td>\n      <td>4</td>\n      <td>3.0</td>\n      <td>95.0</td>\n      <td>1200.0</td>\n      <td>NaN</td>\n      <td>NaN</td>\n      <td>(Sem partido)</td>\n      <td>Jair Bolsonaro</td>\n      <td>Aprovação do governo federal</td>\n      <td>Você aprova ou desaprova a maneira como Jair B...</td>\n      <td>CATI</td>\n    </tr>\n    <tr>\n      <th>619</th>\n      <td>NaN</td>\n      <td>2021-05-26</td>\n      <td>Poder360</td>\n      <td>Poder360</td>\n      <td>28.00</td>\n      <td>13</td>\n      <td>55.00</td>\n      <td>4</td>\n      <td>2.0</td>\n      <td>95.0</td>\n      <td>2500.0</td>\n      <td>27</td>\n      <td>462</td>\n      <td>(Sem partido)</td>\n      <td>Jair Bolsonaro</td>\n      <td>Avaliação do governo federal</td>\n      <td>De maneira geral, como você avalia o trabalho...</td>\n      <td>IVR</td>\n    </tr>\n    <tr>\n      <th>620</th>\n      <td>NaN</td>\n      <td>2021-05-26</td>\n      <td>Poder360</td>\n      <td>Poder360</td>\n      <td>35.00</td>\n      <td>NaN</td>\n      <td>59.00</td>\n      <td>6</td>\n      <td>2.0</td>\n      <td>95.0</td>\n      <td>2500.0</td>\n      <td>27</td>\n      <td>462</td>\n      <td>(Sem partido)</td>\n      <td>Jair Bolsonaro</td>\n      <td>Aprovação do governo federal</td>\n      <td>Você aprova ou desaprova o governo do preside...</td>\n      <td>IVR</td>\n    </tr>\n    <tr>\n      <th>621</th>\n      <td>NaN</td>\n      <td>2021-06-04</td>\n      <td>Ranking</td>\n      <td>Ranking</td>\n      <td>27.37</td>\n      <td>19.03</td>\n      <td>51.00</td>\n      <td>2.6</td>\n      <td>2.5</td>\n      <td>95.0</td>\n      <td>3000.0</td>\n      <td>BR</td>\n      <td>163</td>\n      <td>(Sem partido)</td>\n      <td>Jair Bolsonaro</td>\n      <td>Avaliação do governo federal</td>\n      <td>Como você avalia o governo do presidente Jair ...</td>\n      <td>CATI</td>\n    </tr>\n    <tr>\n      <th>622</th>\n      <td>NaN</td>\n      <td>2021-06-04</td>\n      <td>Ranking</td>\n      <td>Ranking</td>\n      <td>37.93</td>\n      <td>1</td>\n      <td>60.17</td>\n      <td>1.9</td>\n      <td>2.5</td>\n      <td>95.0</td>\n      <td>3000.0</td>\n      <td>BR</td>\n      <td>163</td>\n      <td>(Sem partido)</td>\n      <td>Jair Bolsonaro</td>\n      <td>Aprovação do governo federal</td>\n      <td>Como você avalia o governo do presidente Jair ...</td>\n      <td>CATI</td>\n    </tr>\n  </tbody>\n</table>\n<p>623 rows × 18 columns</p>\n</div>"
     },
     "metadata": {},
     "execution_count": 161
    }
   ],
   "source": [
    "\n",
    "df_sub = df_pop[df_pop['empresa'].notna()]\n",
    "\n",
    "\n",
    "df_sub = df_sub.drop_duplicates(['data_fim', 'empresa', 'nome', 'tipo'], keep='last').reset_index(drop=True)\n",
    "df_sub"
   ]
  },
  {
   "cell_type": "code",
   "execution_count": 230,
   "metadata": {},
   "outputs": [
    {
     "output_type": "execute_result",
     "data": {
      "text/plain": [
       "Empty DataFrame\n",
       "Columns: [data_ini, data_fim, empresa, nome, positiva, regular, negativa, nsnr, erro, ic, amostra, ufs, cidades, partido, presidente, tipo, pergunta, modo]\n",
       "Index: []"
      ],
      "text/html": "<div>\n<style scoped>\n    .dataframe tbody tr th:only-of-type {\n        vertical-align: middle;\n    }\n\n    .dataframe tbody tr th {\n        vertical-align: top;\n    }\n\n    .dataframe thead th {\n        text-align: right;\n    }\n</style>\n<table border=\"1\" class=\"dataframe\">\n  <thead>\n    <tr style=\"text-align: right;\">\n      <th></th>\n      <th>data_ini</th>\n      <th>data_fim</th>\n      <th>empresa</th>\n      <th>nome</th>\n      <th>positiva</th>\n      <th>regular</th>\n      <th>negativa</th>\n      <th>nsnr</th>\n      <th>erro</th>\n      <th>ic</th>\n      <th>amostra</th>\n      <th>ufs</th>\n      <th>cidades</th>\n      <th>partido</th>\n      <th>presidente</th>\n      <th>tipo</th>\n      <th>pergunta</th>\n      <th>modo</th>\n    </tr>\n  </thead>\n  <tbody>\n  </tbody>\n</table>\n</div>"
     },
     "metadata": {},
     "execution_count": 230
    }
   ],
   "source": [
    "df_sub[df_sub.duplicated(['data_fim', 'empresa', 'tipo'])]"
   ]
  },
  {
   "cell_type": "code",
   "execution_count": 254,
   "metadata": {},
   "outputs": [
    {
     "output_type": "stream",
     "name": "stdout",
     "text": [
      "<class 'pandas.core.frame.DataFrame'>\nRangeIndex: 697 entries, 0 to 696\nData columns (total 18 columns):\n #   Column      Non-Null Count  Dtype  \n---  ------      --------------  -----  \n 0   data_ini    0 non-null      float64\n 1   data_fim    697 non-null    object \n 2   empresa     697 non-null    object \n 3   nome        697 non-null    object \n 4   positiva    697 non-null    float64\n 5   regular     620 non-null    float64\n 6   negativa    697 non-null    float64\n 7   nsnr        689 non-null    float64\n 8   erro        697 non-null    float64\n 9   ic          697 non-null    int64  \n 10  amostra     524 non-null    float64\n 11  ufs         211 non-null    object \n 12  cidades     375 non-null    object \n 13  partido     697 non-null    object \n 14  presidente  697 non-null    object \n 15  tipo        697 non-null    object \n 16  pergunta    579 non-null    object \n 17  modo        697 non-null    object \ndtypes: float64(7), int64(1), object(10)\nmemory usage: 98.1+ KB\n"
     ]
    }
   ],
   "source": [
    "df_sub.info()"
   ]
  },
  {
   "cell_type": "code",
   "execution_count": 253,
   "metadata": {},
   "outputs": [
    {
     "output_type": "execute_result",
     "data": {
      "text/plain": [
       "     data_ini    data_fim         empresa            nome  positiva  regular  \\\n",
       "0         NaN  1986-03-15       Datafolha       Datafolha     71.00    25.00   \n",
       "1         NaN  1987-03-15       Datafolha       Datafolha     33.00    45.00   \n",
       "2         NaN  1987-05-15       Datafolha       Datafolha      9.00    35.00   \n",
       "3         NaN  1987-11-15       Datafolha       Datafolha     11.00    29.00   \n",
       "4         NaN  1988-03-15       Datafolha       Datafolha     10.00    23.00   \n",
       "..        ...         ...             ...             ...       ...      ...   \n",
       "692       NaN  2021-05-26        Poder360        Poder360     35.00      NaN   \n",
       "693       NaN  2021-06-04  Ranking Brasil  Ranking Brasil     27.37    19.03   \n",
       "694       NaN  2021-06-04  Ranking Brasil  Ranking Brasil     37.93     1.00   \n",
       "695       NaN  2021-06-09        Poder360        Poder360     28.00    13.00   \n",
       "696       NaN  2021-06-09        Poder360        Poder360     35.00      NaN   \n",
       "\n",
       "     negativa  nsnr  erro  ic  amostra  ufs cidades        partido  \\\n",
       "0        2.00   3.0   3.0  95      NaN  NaN     NaN           PMDB   \n",
       "1       19.00   3.0   3.0  95      NaN  NaN     NaN           PMDB   \n",
       "2       54.00   2.0   3.0  95      NaN  NaN     NaN           PMDB   \n",
       "3       58.00   2.0   3.0  95      NaN  NaN     NaN           PMDB   \n",
       "4       65.00   2.0   3.0  95      NaN  NaN     NaN           PMDB   \n",
       "..        ...   ...   ...  ..      ...  ...     ...            ...   \n",
       "692     59.00   6.0   2.0  95   2500.0   27     462  (Sem partido)   \n",
       "693     51.00   2.6   2.5  95   3000.0   BR     163  (Sem partido)   \n",
       "694     60.17   1.9   2.5  95   3000.0   BR     163  (Sem partido)   \n",
       "695     55.00   4.0   2.0  95   2500.0   27     522  (Sem partido)   \n",
       "696     59.00   6.0   2.0  95   2500.0   27     522  (Sem partido)   \n",
       "\n",
       "         presidente                          tipo  \\\n",
       "0       José Sarney  Avaliação do governo federal   \n",
       "1       José Sarney  Avaliação do governo federal   \n",
       "2       José Sarney  Avaliação do governo federal   \n",
       "3       José Sarney  Avaliação do governo federal   \n",
       "4       José Sarney  Avaliação do governo federal   \n",
       "..              ...                           ...   \n",
       "692  Jair Bolsonaro  Aprovação do governo federal   \n",
       "693  Jair Bolsonaro  Avaliação do governo federal   \n",
       "694  Jair Bolsonaro  Aprovação do governo federal   \n",
       "695  Jair Bolsonaro  Avaliação do governo federal   \n",
       "696  Jair Bolsonaro  Aprovação do governo federal   \n",
       "\n",
       "                                              pergunta  modo  \n",
       "0    Na sua opinião, o presidente José Sarney está ...    FF  \n",
       "1    Na sua opinião, o presidente José Sarney está ...    FF  \n",
       "2    Na sua opinião, o presidente José Sarney está ...    FF  \n",
       "3    Na sua opinião, o presidente José Sarney está ...    FF  \n",
       "4    Na sua opinião, o presidente José Sarney está ...    FF  \n",
       "..                                                 ...   ...  \n",
       "692  Você aprova ou desaprova o governo do preside...   IVR  \n",
       "693  Como você avalia o governo do presidente Jair ...  CATI  \n",
       "694  Como você avalia o governo do presidente Jair ...  CATI  \n",
       "695  De maneira geral, como você avalia o trabalho...   IVR  \n",
       "696  Você aprova ou desaprova o governo do preside...   IVR  \n",
       "\n",
       "[697 rows x 18 columns]"
      ],
      "text/html": "<div>\n<style scoped>\n    .dataframe tbody tr th:only-of-type {\n        vertical-align: middle;\n    }\n\n    .dataframe tbody tr th {\n        vertical-align: top;\n    }\n\n    .dataframe thead th {\n        text-align: right;\n    }\n</style>\n<table border=\"1\" class=\"dataframe\">\n  <thead>\n    <tr style=\"text-align: right;\">\n      <th></th>\n      <th>data_ini</th>\n      <th>data_fim</th>\n      <th>empresa</th>\n      <th>nome</th>\n      <th>positiva</th>\n      <th>regular</th>\n      <th>negativa</th>\n      <th>nsnr</th>\n      <th>erro</th>\n      <th>ic</th>\n      <th>amostra</th>\n      <th>ufs</th>\n      <th>cidades</th>\n      <th>partido</th>\n      <th>presidente</th>\n      <th>tipo</th>\n      <th>pergunta</th>\n      <th>modo</th>\n    </tr>\n  </thead>\n  <tbody>\n    <tr>\n      <th>0</th>\n      <td>NaN</td>\n      <td>1986-03-15</td>\n      <td>Datafolha</td>\n      <td>Datafolha</td>\n      <td>71.00</td>\n      <td>25.00</td>\n      <td>2.00</td>\n      <td>3.0</td>\n      <td>3.0</td>\n      <td>95</td>\n      <td>NaN</td>\n      <td>NaN</td>\n      <td>NaN</td>\n      <td>PMDB</td>\n      <td>José Sarney</td>\n      <td>Avaliação do governo federal</td>\n      <td>Na sua opinião, o presidente José Sarney está ...</td>\n      <td>FF</td>\n    </tr>\n    <tr>\n      <th>1</th>\n      <td>NaN</td>\n      <td>1987-03-15</td>\n      <td>Datafolha</td>\n      <td>Datafolha</td>\n      <td>33.00</td>\n      <td>45.00</td>\n      <td>19.00</td>\n      <td>3.0</td>\n      <td>3.0</td>\n      <td>95</td>\n      <td>NaN</td>\n      <td>NaN</td>\n      <td>NaN</td>\n      <td>PMDB</td>\n      <td>José Sarney</td>\n      <td>Avaliação do governo federal</td>\n      <td>Na sua opinião, o presidente José Sarney está ...</td>\n      <td>FF</td>\n    </tr>\n    <tr>\n      <th>2</th>\n      <td>NaN</td>\n      <td>1987-05-15</td>\n      <td>Datafolha</td>\n      <td>Datafolha</td>\n      <td>9.00</td>\n      <td>35.00</td>\n      <td>54.00</td>\n      <td>2.0</td>\n      <td>3.0</td>\n      <td>95</td>\n      <td>NaN</td>\n      <td>NaN</td>\n      <td>NaN</td>\n      <td>PMDB</td>\n      <td>José Sarney</td>\n      <td>Avaliação do governo federal</td>\n      <td>Na sua opinião, o presidente José Sarney está ...</td>\n      <td>FF</td>\n    </tr>\n    <tr>\n      <th>3</th>\n      <td>NaN</td>\n      <td>1987-11-15</td>\n      <td>Datafolha</td>\n      <td>Datafolha</td>\n      <td>11.00</td>\n      <td>29.00</td>\n      <td>58.00</td>\n      <td>2.0</td>\n      <td>3.0</td>\n      <td>95</td>\n      <td>NaN</td>\n      <td>NaN</td>\n      <td>NaN</td>\n      <td>PMDB</td>\n      <td>José Sarney</td>\n      <td>Avaliação do governo federal</td>\n      <td>Na sua opinião, o presidente José Sarney está ...</td>\n      <td>FF</td>\n    </tr>\n    <tr>\n      <th>4</th>\n      <td>NaN</td>\n      <td>1988-03-15</td>\n      <td>Datafolha</td>\n      <td>Datafolha</td>\n      <td>10.00</td>\n      <td>23.00</td>\n      <td>65.00</td>\n      <td>2.0</td>\n      <td>3.0</td>\n      <td>95</td>\n      <td>NaN</td>\n      <td>NaN</td>\n      <td>NaN</td>\n      <td>PMDB</td>\n      <td>José Sarney</td>\n      <td>Avaliação do governo federal</td>\n      <td>Na sua opinião, o presidente José Sarney está ...</td>\n      <td>FF</td>\n    </tr>\n    <tr>\n      <th>...</th>\n      <td>...</td>\n      <td>...</td>\n      <td>...</td>\n      <td>...</td>\n      <td>...</td>\n      <td>...</td>\n      <td>...</td>\n      <td>...</td>\n      <td>...</td>\n      <td>...</td>\n      <td>...</td>\n      <td>...</td>\n      <td>...</td>\n      <td>...</td>\n      <td>...</td>\n      <td>...</td>\n      <td>...</td>\n      <td>...</td>\n    </tr>\n    <tr>\n      <th>692</th>\n      <td>NaN</td>\n      <td>2021-05-26</td>\n      <td>Poder360</td>\n      <td>Poder360</td>\n      <td>35.00</td>\n      <td>NaN</td>\n      <td>59.00</td>\n      <td>6.0</td>\n      <td>2.0</td>\n      <td>95</td>\n      <td>2500.0</td>\n      <td>27</td>\n      <td>462</td>\n      <td>(Sem partido)</td>\n      <td>Jair Bolsonaro</td>\n      <td>Aprovação do governo federal</td>\n      <td>Você aprova ou desaprova o governo do preside...</td>\n      <td>IVR</td>\n    </tr>\n    <tr>\n      <th>693</th>\n      <td>NaN</td>\n      <td>2021-06-04</td>\n      <td>Ranking Brasil</td>\n      <td>Ranking Brasil</td>\n      <td>27.37</td>\n      <td>19.03</td>\n      <td>51.00</td>\n      <td>2.6</td>\n      <td>2.5</td>\n      <td>95</td>\n      <td>3000.0</td>\n      <td>BR</td>\n      <td>163</td>\n      <td>(Sem partido)</td>\n      <td>Jair Bolsonaro</td>\n      <td>Avaliação do governo federal</td>\n      <td>Como você avalia o governo do presidente Jair ...</td>\n      <td>CATI</td>\n    </tr>\n    <tr>\n      <th>694</th>\n      <td>NaN</td>\n      <td>2021-06-04</td>\n      <td>Ranking Brasil</td>\n      <td>Ranking Brasil</td>\n      <td>37.93</td>\n      <td>1.00</td>\n      <td>60.17</td>\n      <td>1.9</td>\n      <td>2.5</td>\n      <td>95</td>\n      <td>3000.0</td>\n      <td>BR</td>\n      <td>163</td>\n      <td>(Sem partido)</td>\n      <td>Jair Bolsonaro</td>\n      <td>Aprovação do governo federal</td>\n      <td>Como você avalia o governo do presidente Jair ...</td>\n      <td>CATI</td>\n    </tr>\n    <tr>\n      <th>695</th>\n      <td>NaN</td>\n      <td>2021-06-09</td>\n      <td>Poder360</td>\n      <td>Poder360</td>\n      <td>28.00</td>\n      <td>13.00</td>\n      <td>55.00</td>\n      <td>4.0</td>\n      <td>2.0</td>\n      <td>95</td>\n      <td>2500.0</td>\n      <td>27</td>\n      <td>522</td>\n      <td>(Sem partido)</td>\n      <td>Jair Bolsonaro</td>\n      <td>Avaliação do governo federal</td>\n      <td>De maneira geral, como você avalia o trabalho...</td>\n      <td>IVR</td>\n    </tr>\n    <tr>\n      <th>696</th>\n      <td>NaN</td>\n      <td>2021-06-09</td>\n      <td>Poder360</td>\n      <td>Poder360</td>\n      <td>35.00</td>\n      <td>NaN</td>\n      <td>59.00</td>\n      <td>6.0</td>\n      <td>2.0</td>\n      <td>95</td>\n      <td>2500.0</td>\n      <td>27</td>\n      <td>522</td>\n      <td>(Sem partido)</td>\n      <td>Jair Bolsonaro</td>\n      <td>Aprovação do governo federal</td>\n      <td>Você aprova ou desaprova o governo do preside...</td>\n      <td>IVR</td>\n    </tr>\n  </tbody>\n</table>\n<p>697 rows × 18 columns</p>\n</div>"
     },
     "metadata": {},
     "execution_count": 253
    }
   ],
   "source": [
    "df_sub = df_pop[df_pop['empresa'].notna()].reset_index(drop=True)\n",
    "\n",
    "df_sub"
   ]
  },
  {
   "cell_type": "code",
   "execution_count": 255,
   "metadata": {},
   "outputs": [
    {
     "output_type": "stream",
     "name": "stdout",
     "text": [
      "Banco: pollingpoint.db\nSQLite version: 3.34.0\nDados importados do DataFrame com sucesso.\nConexão fechada.\n"
     ]
    }
   ],
   "source": [
    "c = AprovacaoDb()\n",
    "\n",
    "c.inserir_um_df(df_name=df_pop)\n",
    "\n",
    "c.fechar_conexao()"
   ]
  },
  {
   "cell_type": "code",
   "execution_count": 148,
   "metadata": {},
   "outputs": [
    {
     "output_type": "stream",
     "name": "stdout",
     "text": [
      "0\n0\n0\n0\n0\n0\n0\n"
     ]
    }
   ],
   "source": [
    "print(df_sub['empresa'].isna().sum())\n",
    "print(df_sub['nome'].isna().sum())\n",
    "print(df_sub['data_fim'].isna().sum())\n",
    "print(df_sub['tipo'].isna().sum())\n",
    "print(df_sub['partido'].isna().sum())\n",
    "print(df_sub['presidente'].isna().sum())\n",
    "print(df_sub['modo'].isna().sum())\n"
   ]
  },
  {
   "cell_type": "code",
   "execution_count": null,
   "metadata": {},
   "outputs": [],
   "source": [
    "inserir_um_registro"
   ]
  }
 ],
 "metadata": {
  "kernelspec": {
   "name": "python386jvsc74a57bd07e85ec9bf098c5427e45e2f632dcd4eeff803b007e1abd287d600879388709c1",
   "display_name": "Python 3.8.6 64-bit"
  },
  "language_info": {
   "codemirror_mode": {
    "name": "ipython",
    "version": 2
   },
   "file_extension": ".py",
   "mimetype": "text/x-python",
   "name": "python",
   "nbconvert_exporter": "python",
   "pygments_lexer": "ipython2",
   "version": "3.8.6"
  },
  "metadata": {
   "interpreter": {
    "hash": "7e85ec9bf098c5427e45e2f632dcd4eeff803b007e1abd287d600879388709c1"
   }
  }
 },
 "nbformat": 4,
 "nbformat_minor": 2
}