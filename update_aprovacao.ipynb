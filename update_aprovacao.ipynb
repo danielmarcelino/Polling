{
 "cells": [
  {
   "source": [
    "## Atualiza o banco e agregadores\n"
   ],
   "cell_type": "markdown",
   "metadata": {}
  },
  {
   "cell_type": "code",
   "execution_count": 4,
   "metadata": {},
   "outputs": [
    {
     "output_type": "stream",
     "name": "stdout",
     "text": [
      "/Users/marcelino/dmarcelinobr/pollingpoint\n/Users/marcelino/Library/Python/3.8/lib/python/site-packages/ipykernel_launcher.py\n/Users/marcelino/dmarcelinobr/pollingpoint\n"
     ]
    }
   ],
   "source": [
    "import pandas as pd                   #importando a Pandas\n",
    "import numpy as np\n",
    "import sqlite3\n",
    "import watermark\n",
    "import warnings                       #importando a biblioca de avisos                              \n",
    "warnings.filterwarnings('ignore')     #ignorando os warnings\n",
    "\n",
    "from manager_db import *\n",
    "\n",
    "\n",
    "print(os.getcwd())\n",
    "print(sys.argv[0])\n",
    "print(os.path.dirname(os.path.realpath('__file__')))"
   ]
  },
  {
   "cell_type": "code",
   "execution_count": 2,
   "metadata": {},
   "outputs": [
    {
     "output_type": "stream",
     "name": "stdout",
     "text": [
      "Last updated: 2021-06-14T17:47:04.601954-03:00\n\nPython implementation: CPython\nPython version       : 3.8.6\nIPython version      : 7.18.1\n\nCompiler    : Clang 12.0.0 (clang-1200.0.32.27)\nOS          : Darwin\nRelease     : 19.6.0\nMachine     : x86_64\nProcessor   : i386\nCPU cores   : 8\nArchitecture: 64bit\n\n"
     ]
    }
   ],
   "source": [
    "%load_ext watermark\n",
    "\n",
    "%watermark"
   ]
  },
  {
   "cell_type": "code",
   "execution_count": 4,
   "metadata": {},
   "outputs": [
    {
     "output_type": "stream",
     "name": "stdout",
     "text": [
      "Banco: pollingpoint.db\nSQLite version: 3.34.0\nTabelas:\naprovacao\nempresas\nintencao\npollsters\nranking\nsqlite_sequence\n"
     ]
    }
   ],
   "source": [
    "con = AprovacaoDb()\n",
    "\n",
    "con.table_list()"
   ]
  },
  {
   "cell_type": "code",
   "execution_count": 5,
   "metadata": {},
   "outputs": [
    {
     "output_type": "stream",
     "name": "stdout",
     "text": [
      "Colunas: ['id', 'data_ini', 'data_fim', 'empresa', 'nome', 'cargo', 'turno', 'partido', 'candidato', 'voto', 'erro', 'ic', 'amostra', 'ufs', 'cidades', 'tipo', 'modo', 'pergunta', 'timestamp']\n"
     ]
    }
   ],
   "source": [
    "con.table_info()"
   ]
  },
  {
   "cell_type": "code",
   "execution_count": 6,
   "metadata": {},
   "outputs": [
    {
     "output_type": "stream",
     "name": "stdout",
     "text": [
      "Schema:\nCREATE TABLE intencao (\n\tid INTEGER UNIQUE,\n\tdata_ini DATE NOT NULL,\n\tdata_fim DATE NOT NULL,\n\tempresa TEXT NOT NULL,\n\tnome TEXT NOT NULL,\n\tcargo TEXT NOT NULL,\n\tturno INTEGER NOT NULL,\n\tpartido TEXT,\n\tcandidato TEXT NOT NULL,\n\tvoto NUMERIC(2,1) NOT NULL,\n\terro NUMERIC(2,1),\n\tic NUMERIC(2,1),\n\tamostra INTEGER,\n\tufs TEXT,\n\tcidades TEXT,\n\ttipo TEXT NOT NULL,\n\tmodo TEXT NOT NULL,\n\tpergunta TEXT,\n\ttimestamp DATETIME NOT NULL DEFAULT (datetime(CURRENT_TIMESTAMP, 'localtime')),\n\tCONSTRAINT pk_intencao PRIMARY KEY(data_fim, empresa, nome, cargo, turno, candidato, tipo),\n    CONSTRAINT fk_intencao FOREIGN KEY(empresa) REFERENCES empresas(nome),\n\tCONSTRAINT fk2_intencao FOREIGN KEY(empresa) REFERENCES ranking(empresa),\n\tCHECK (data_ini LIKE '____-__-__'),\n\tCHECK (data_fim LIKE '____-__-__')\n)\n"
     ]
    }
   ],
   "source": [
    "con.table_schema()"
   ]
  },
  {
   "cell_type": "code",
   "execution_count": 7,
   "metadata": {},
   "outputs": [
    {
     "output_type": "stream",
     "name": "stdout",
     "text": [
      "Total de pesquisas registradas: 89\nTotal de pesquisas da empresa Poder360 : 69\n"
     ]
    }
   ],
   "source": [
    "con.contar_pesquisas()\n",
    "\n",
    "con.contar_pesquisas_por_empresa(empresa=\"Poder360\")"
   ]
  },
  {
   "cell_type": "code",
   "execution_count": 8,
   "metadata": {
    "tags": []
   },
   "outputs": [
    {
     "output_type": "stream",
     "name": "stdout",
     "text": [
      "Pesquisas realizadas depois de 2021-06-01 :\n"
     ]
    }
   ],
   "source": [
    "con.localizar_pesquisa_por_data(data='2021-06-01')"
   ]
  },
  {
   "cell_type": "code",
   "execution_count": 9,
   "metadata": {
    "tags": []
   },
   "outputs": [
    {
     "output_type": "stream",
     "name": "stdout",
     "text": [
      "Pesquisas sobre o 2 turno:\n(22, '2021-03-15', '2021-03-17', 'Poder360', 'Poder360', 'Presidente', 2, '(Sem partido)', 'Jair Bolsonaro', 36, 1.8, 95, 3500, '27.0', '545.0', 'Bolsonaro x Lula', 'IVR', 'Em 2022 teremos eleição para presidente do Brasil. Se a eleição fosse hoje, em qual dos candidatos que vou falar em ordem alfabética você votaria?', '2021-06-11 09:19:00')\n(32, '2021-03-15', '2021-03-17', 'Poder360', 'Poder360', 'Presidente', 2, '(Sem partido)', 'Sérgio Moro', 31, 1.8, 95, 3500, '27.0', '545.0', 'Bolsonaro x Moro', 'IVR', 'Em 2022 teremos eleição para presidente do Brasil. Se a eleição fosse hoje, em qual dos candidatos que vou falar em ordem alfabética você votaria?', '2021-06-11 09:19:00')\n(33, '2021-03-15', '2021-03-17', 'Poder360', 'Poder360', 'Presidente', 2, 'PT', 'Lula', 41, 1.8, 95, 3500, '27.0', '545.0', 'Bolsonaro x Lula', 'IVR', 'Em 2022 teremos eleição para presidente do Brasil. Se a eleição fosse hoje, em qual dos candidatos que vou falar em ordem alfabética você votaria?', '2021-06-11 09:19:00')\n(34, '2021-03-15', '2021-03-17', 'Poder360', 'Poder360', 'Presidente', 2, '(Sem partido)', 'Jair Bolsonaro', 34, 1.8, 95, 3500, '27.0', '545.0', 'Bolsonaro x Ciro', 'IVR', 'Em 2022 teremos eleição para presidente do Brasil. Se a eleição fosse hoje, em qual dos candidatos que vou falar em ordem alfabética você votaria?', '2021-06-11 09:19:00')\n(35, '2021-03-15', '2021-03-17', 'Poder360', 'Poder360', 'Presidente', 2, 'PDT', 'Ciro Gomes', 39, 1.8, 95, 3500, '27.0', '545.0', 'Bolsonaro x Ciro', 'IVR', 'Em 2022 teremos eleição para presidente do Brasil. Se a eleição fosse hoje, em qual dos candidatos que vou falar em ordem alfabética você votaria?', '2021-06-11 09:19:00')\n(36, '2021-03-15', '2021-03-17', 'Poder360', 'Poder360', 'Presidente', 2, '(Sem partido)', 'Jair Bolsonaro', 37, 1.8, 95, 3500, '27.0', '545.0', 'Bolsonaro x Huck', 'IVR', 'Em 2022 teremos eleição para presidente do Brasil. Se a eleição fosse hoje, em qual dos candidatos que vou falar em ordem alfabética você votaria?', '2021-06-11 09:19:00')\n(37, '2021-03-15', '2021-03-17', 'Poder360', 'Poder360', 'Presidente', 2, '(Sem partido)', 'Luciano Huck', 40, 1.8, 95, 3500, '27.0', '545.0', 'Bolsonaro x Huck', 'IVR', 'Em 2022 teremos eleição para presidente do Brasil. Se a eleição fosse hoje, em qual dos candidatos que vou falar em ordem alfabética você votaria?', '2021-06-11 09:19:00')\n(38, '2021-03-15', '2021-03-17', 'Poder360', 'Poder360', 'Presidente', 2, '(Sem partido)', 'João Doria', 31, 1.8, 95, 3500, '27.0', '545.0', 'Bolsonaro x Doria', 'IVR', 'Em 2022 teremos eleição para presidente do Brasil. Se a eleição fosse hoje, em qual dos candidatos que vou falar em ordem alfabética você votaria?', '2021-06-11 09:19:00')\n(39, '2021-03-15', '2021-03-17', 'Poder360', 'Poder360', 'Presidente', 2, '(Sem partido)', 'Jair Bolsonaro', 38, 1.8, 95, 3500, '27.0', '545.0', 'Bolsonaro x Moro', 'IVR', 'Em 2022 teremos eleição para presidente do Brasil. Se a eleição fosse hoje, em qual dos candidatos que vou falar em ordem alfabética você votaria?', '2021-06-11 09:19:00')\n(41, '2021-03-15', '2021-03-17', 'Poder360', 'Poder360', 'Presidente', 2, '(Sem partido)', 'Jair Bolsonaro', 41, 1.8, 95, 3500, '27.0', '545.0', 'Bolsonaro x Doria', 'IVR', 'Em 2022 teremos eleição para presidente do Brasil. Se a eleição fosse hoje, em qual dos candidatos que vou falar em ordem alfabética você votaria?', '2021-06-11 09:19:00')\n(58, '2021-04-12', '2021-04-14', 'Poder360', 'Poder360', 'Presidente', 2, 'PDT', 'Ciro Gomes', 38, 1.8, 95, 3500, '27.0', '512.0', 'Bolsonaro x Ciro', 'IVR', 'Em 2022 teremos eleição para presidente do Brasil. Se a eleição fosse hoje, em qual dos candidatos que vou falar em ordem alfabética você votaria?', '2021-06-11 09:19:00')\n(59, '2021-04-12', '2021-04-14', 'Poder360', 'Poder360', 'Presidente', 2, '(Sem partido)', 'Jair Bolsonaro', 38, 1.8, 95, 3500, '27.0', '512.0', 'Bolsonaro x Doria', 'IVR', 'Em 2022 teremos eleição para presidente do Brasil. Se a eleição fosse hoje, em qual dos candidatos que vou falar em ordem alfabética você votaria?', '2021-06-11 09:19:00')\n(70, '2021-04-12', '2021-04-14', 'Poder360', 'Poder360', 'Presidente', 2, '(Sem partido)', 'Jair Bolsonaro', 34, 1.8, 95, 3500, '27.0', '512.0', 'Bolsonaro x Lula', 'IVR', 'Em 2022 teremos eleição para presidente do Brasil. Se a eleição fosse hoje, em qual dos candidatos que vou falar em ordem alfabética você votaria?', '2021-06-11 09:19:00')\n(71, '2021-04-12', '2021-04-14', 'Poder360', 'Poder360', 'Presidente', 2, 'PT', 'Lula', 52, 1.8, 95, 3500, '27.0', '512.0', 'Bolsonaro x Lula', 'IVR', 'Em 2022 teremos eleição para presidente do Brasil. Se a eleição fosse hoje, em qual dos candidatos que vou falar em ordem alfabética você votaria?', '2021-06-11 09:19:00')\n(72, '2021-04-12', '2021-04-14', 'Poder360', 'Poder360', 'Presidente', 2, '(Sem partido)', 'Jair Bolsonaro', 38, 1.8, 95, 3500, '27.0', '512.0', 'Bolsonaro x Ciro', 'IVR', 'Em 2022 teremos eleição para presidente do Brasil. Se a eleição fosse hoje, em qual dos candidatos que vou falar em ordem alfabética você votaria?', '2021-06-11 09:19:00')\n(73, '2021-04-12', '2021-04-14', 'Poder360', 'Poder360', 'Presidente', 2, '(Sem partido)', 'João Doria', 37, 1.8, 95, 3500, '27.0', '512.0', 'Bolsonaro x Doria', 'IVR', 'Em 2022 teremos eleição para presidente do Brasil. Se a eleição fosse hoje, em qual dos candidatos que vou falar em ordem alfabética você votaria?', '2021-06-11 09:19:00')\n(75, '2021-04-12', '2021-04-14', 'Poder360', 'Poder360', 'Presidente', 2, '(Sem partido)', 'Luciano Huck', 48, 1.8, 95, 3500, '27.0', '512.0', 'Bolsonaro x Huck', 'IVR', 'Em 2022 teremos eleição para presidente do Brasil. Se a eleição fosse hoje, em qual dos candidatos que vou falar em ordem alfabética você votaria?', '2021-06-11 09:19:00')\n(76, '2021-04-12', '2021-04-14', 'Poder360', 'Poder360', 'Presidente', 2, '(Sem partido)', 'Jair Bolsonaro', 38, 1.8, 95, 3500, '27.0', '512.0', 'Bolsonaro x Moro', 'IVR', 'Em 2022 teremos eleição para presidente do Brasil. Se a eleição fosse hoje, em qual dos candidatos que vou falar em ordem alfabética você votaria?', '2021-06-11 09:19:00')\n(77, '2021-04-12', '2021-04-14', 'Poder360', 'Poder360', 'Presidente', 2, '(Sem partido)', 'Sérgio Moro', 37, 1.8, 95, 3500, '27.0', '512.0', 'Bolsonaro x Moro', 'IVR', 'Em 2022 teremos eleição para presidente do Brasil. Se a eleição fosse hoje, em qual dos candidatos que vou falar em ordem alfabética você votaria?', '2021-06-11 09:19:00')\n(78, '2021-04-12', '2021-04-14', 'Poder360', 'Poder360', 'Presidente', 2, '(Sem partido)', 'Jair Bolsonaro', 35, 1.8, 95, 3500, '27.0', '512.0', 'Bolsonaro x Huck', 'IVR', 'Em 2022 teremos eleição para presidente do Brasil. Se a eleição fosse hoje, em qual dos candidatos que vou falar em ordem alfabética você votaria?', '2021-06-11 09:19:00')\n"
     ]
    }
   ],
   "source": [
    "con.localizar_pesquisa_por_turno(turno=2)"
   ]
  },
  {
   "cell_type": "code",
   "execution_count": 11,
   "metadata": {},
   "outputs": [
    {
     "output_type": "stream",
     "name": "stdout",
     "text": [
      "Pesquisa com o candidato Lula :\n(24, '2021-03-15', '2021-03-17', 'Poder360', 'Poder360', 'Presidente', 1, 'PT', 'Lula', 34, 1.8, 95, 3500, '27.0', '545.0', 'Intenção', 'IVR', 'Em 2022 teremos eleição para presidente do Brasil. Se a eleição fosse hoje, em qual dos candidatos que vou falar em ordem alfabética você votaria?', '2021-06-11 09:19:00')\n(33, '2021-03-15', '2021-03-17', 'Poder360', 'Poder360', 'Presidente', 2, 'PT', 'Lula', 41, 1.8, 95, 3500, '27.0', '545.0', 'Bolsonaro x Lula', 'IVR', 'Em 2022 teremos eleição para presidente do Brasil. Se a eleição fosse hoje, em qual dos candidatos que vou falar em ordem alfabética você votaria?', '2021-06-11 09:19:00')\n(46, '2021-04-12', '2021-04-14', 'Poder360', 'Poder360', 'Presidente', 1, 'PT', 'Lula', 37, 1.8, 95, 3500, '27.0', '512.0', 'Potencial positivo', 'IVR', 'Sobre o candidato, você diria que...é o único que votaria', '2021-06-11 09:19:00')\n(47, '2021-04-12', '2021-04-14', 'Poder360', 'Poder360', 'Presidente', 1, 'PT', 'Lula', 18, 1.8, 95, 3500, '27.0', '512.0', 'Potencial neutro', 'IVR', 'Sobre o candidato, você diria que...poderia votar', '2021-06-11 09:19:00')\n(48, '2021-04-12', '2021-04-14', 'Poder360', 'Poder360', 'Presidente', 1, 'PT', 'Lula', 41, 1.8, 95, 3500, '27.0', '512.0', 'Potencial negativo', 'IVR', 'Sobre o candidato, você diria que...não votaria de jeito nenhum', '2021-06-11 09:19:00')\n(61, '2021-04-12', '2021-04-14', 'Poder360', 'Poder360', 'Presidente', 1, 'PT', 'Lula', 34, 1.8, 95, 3500, '27.0', '512.0', 'Intenção', 'IVR', 'Em 2022 teremos eleição para presidente do Brasil. Se a eleição fosse hoje, em qual dos candidatos que vou falar em ordem alfabética você votaria?', '2021-06-11 09:19:00')\n(71, '2021-04-12', '2021-04-14', 'Poder360', 'Poder360', 'Presidente', 2, 'PT', 'Lula', 52, 1.8, 95, 3500, '27.0', '512.0', 'Bolsonaro x Lula', 'IVR', 'Em 2022 teremos eleição para presidente do Brasil. Se a eleição fosse hoje, em qual dos candidatos que vou falar em ordem alfabética você votaria?', '2021-06-11 09:19:00')\n(88, '2021-04-21', '2021-04-22', 'IDEIA', 'IDEIA', 'Presidente', 1, 'PT', 'Lula', 33, 3, 95, 1200, None, None, 'Intenção', 'CATI', 'Se a eleição fosse hoje e os candidatos fossem estes, em quem você votaria para presidente?', '2021-06-11 09:19:00')\n"
     ]
    }
   ],
   "source": [
    "con.localizar_pesquisa_por_candidato(candidato='Lula')"
   ]
  },
  {
   "cell_type": "code",
   "execution_count": null,
   "metadata": {},
   "outputs": [],
   "source": []
  },
  {
   "source": [
    "## Inserir dados"
   ],
   "cell_type": "markdown",
   "metadata": {}
  },
  {
   "cell_type": "code",
   "execution_count": 22,
   "metadata": {},
   "outputs": [
    {
     "output_type": "error",
     "ename": "AttributeError",
     "evalue": "'AprovacaoDb' object has no attribute 'contar_pesquisas'",
     "traceback": [
      "\u001b[0;31m---------------------------------------------------------------------------\u001b[0m",
      "\u001b[0;31mAttributeError\u001b[0m                            Traceback (most recent call last)",
      "\u001b[0;32m<ipython-input-22-e232f2e0f2e8>\u001b[0m in \u001b[0;36m<module>\u001b[0;34m\u001b[0m\n\u001b[0;32m----> 1\u001b[0;31m \u001b[0map\u001b[0m\u001b[0;34m.\u001b[0m\u001b[0mcontar_pesquisas\u001b[0m\u001b[0;34m(\u001b[0m\u001b[0;34m)\u001b[0m\u001b[0;34m\u001b[0m\u001b[0;34m\u001b[0m\u001b[0m\n\u001b[0m",
      "\u001b[0;31mAttributeError\u001b[0m: 'AprovacaoDb' object has no attribute 'contar_pesquisas'"
     ]
    }
   ],
   "source": [
    "con.contar_pesquisas()"
   ]
  },
  {
   "cell_type": "code",
   "execution_count": null,
   "metadata": {},
   "outputs": [],
   "source": []
  },
  {
   "source": [
    "## Inserir dados de popularidade "
   ],
   "cell_type": "markdown",
   "metadata": {}
  },
  {
   "cell_type": "code",
   "execution_count": 5,
   "metadata": {},
   "outputs": [
    {
     "output_type": "stream",
     "name": "stdout",
     "text": [
      "Banco: pollingpoint.db\nSQLite version: 3.34.0\n"
     ]
    }
   ],
   "source": [
    "con = AprovacaoDb()\n"
   ]
  },
  {
   "cell_type": "code",
   "execution_count": 9,
   "metadata": {},
   "outputs": [],
   "source": [
    "\n",
    "ipespe = [('2021-06-08', '2021-06-11', 'Ipespe', 'Ipespe/XP', 26, 22, 50, 2, 3.2, 95, 1000, 24, None,'(Sem partido)', 'Jair Bolsonaro', 'Avaliação do governo federal', 'Na sua opinião o presidente Jair Bolsonaro está fazendo um governo ótimo, bom, regular, ruim ou péssimo?', 'CATI'),\n",
    "        ('2021-06-08', '2021-06-11', 'Ipespe', 'Ipespe/XP', 34, None, 60, 6, 3.2, 95, 1000, 24, None,'(Sem partido)', 'Jair Bolsonaro', 'Aprovacao do governo federal', 'O(a) sr(a) aprova ou desaprova a maneira como o presidente Jair Bolsonaro vem administrando o país?', 'CATI'),\n",
    "        ]"
   ]
  },
  {
   "cell_type": "code",
   "execution_count": 10,
   "metadata": {},
   "outputs": [
    {
     "output_type": "stream",
     "name": "stdout",
     "text": [
      "Dados inseridos da lista com sucesso: 2 registros.\n"
     ]
    }
   ],
   "source": [
    "# Executar \n",
    "con.inserir_de_lista(lista = ipespe)"
   ]
  },
  {
   "cell_type": "code",
   "execution_count": 11,
   "metadata": {},
   "outputs": [
    {
     "output_type": "stream",
     "name": "stdout",
     "text": [
      "Total de pesquisas registradas: 703\n"
     ]
    }
   ],
   "source": [
    "con.contar_pesquisas()"
   ]
  },
  {
   "cell_type": "code",
   "execution_count": 12,
   "metadata": {},
   "outputs": [
    {
     "output_type": "stream",
     "name": "stdout",
     "text": [
      "Backup realizado com sucesso.\nSalvo como sql/pollingpoint_bkp.sql\nConexão fechada.\n"
     ]
    }
   ],
   "source": [
    "con.backup()\n",
    "# con.importar_dados()\n",
    "\n",
    "con.fechar_conexao() \n"
   ]
  },
  {
   "cell_type": "code",
   "execution_count": null,
   "metadata": {},
   "outputs": [],
   "source": []
  }
 ],
 "metadata": {
  "kernelspec": {
   "name": "python386jvsc74a57bd07e85ec9bf098c5427e45e2f632dcd4eeff803b007e1abd287d600879388709c1",
   "display_name": "Python 3.8.6 64-bit"
  },
  "language_info": {
   "codemirror_mode": {
    "name": "ipython",
    "version": 2
   },
   "file_extension": ".py",
   "mimetype": "text/x-python",
   "name": "python",
   "nbconvert_exporter": "python",
   "pygments_lexer": "ipython2",
   "version": "3.8.6"
  },
  "metadata": {
   "interpreter": {
    "hash": "7e85ec9bf098c5427e45e2f632dcd4eeff803b007e1abd287d600879388709c1"
   }
  }
 },
 "nbformat": 4,
 "nbformat_minor": 2
}